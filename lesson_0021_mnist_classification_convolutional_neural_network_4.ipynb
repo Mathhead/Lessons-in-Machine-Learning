{
 "cells": [
  {
   "cell_type": "markdown",
   "metadata": {},
   "source": [
    "# Lesson 0021 - MNIST Classification Convolutional Neural Network (IV)\n",
    "In lesson [0018](https://github.com/Mathhead/Lessons-in-Machine-Learning/blob/master/lesson_0018_mnist_classification_convolutional_neural_network.ipynb), [0019](https://github.com/Mathhead/Lessons-in-Machine-Learning/blob/master/lesson_0019_mnist_classification_convolutional_neural_network_2.ipynb) and [0020](https://github.com/Mathhead/Lessons-in-Machine-Learning/blob/master/lesson_0020_mnist_classification_convolutional_neural_network_3.ipynb), we employed convolutional neural networks with ever increasing filter numbers to classify the MNIST data.<br>\n",
    "In this lesson, we will do the same and steal lots of code from [lesson 0020](https://github.com/Mathhead/Lessons-in-Machine-Learning/blob/master/lesson_0020_mnist_classification_convolutional_neural_network_3.ipynb)."
   ]
  },
  {
   "cell_type": "code",
   "execution_count": 1,
   "metadata": {},
   "outputs": [
    {
     "name": "stdout",
     "output_type": "stream",
     "text": [
      "1.13.1\n"
     ]
    }
   ],
   "source": [
    "import tensorflow as tf\n",
    "\n",
    "tf.set_random_seed( 1234567890 )\n",
    "\n",
    "print( tf.__version__ )"
   ]
  },
  {
   "cell_type": "code",
   "execution_count": 2,
   "metadata": {},
   "outputs": [],
   "source": [
    "( train_x, train_y ),( test_x, test_y ) = tf.keras.datasets.mnist.load_data()"
   ]
  },
  {
   "cell_type": "code",
   "execution_count": 3,
   "metadata": {},
   "outputs": [
    {
     "name": "stdout",
     "output_type": "stream",
     "text": [
      "1.16.2\n"
     ]
    }
   ],
   "source": [
    "import numpy as np\n",
    "\n",
    "np.random.seed( 1234567890 )\n",
    "\n",
    "print( np.__version__ )"
   ]
  },
  {
   "cell_type": "code",
   "execution_count": 4,
   "metadata": {},
   "outputs": [
    {
     "name": "stdout",
     "output_type": "stream",
     "text": [
      "3.0.3\n"
     ]
    }
   ],
   "source": [
    "import matplotlib\n",
    "import matplotlib.pyplot as plt\n",
    "\n",
    "print( matplotlib.__version__ )"
   ]
  },
  {
   "cell_type": "code",
   "execution_count": 5,
   "metadata": {},
   "outputs": [],
   "source": [
    "mu = np.mean( train_x )\n",
    "\n",
    "sigma = np.std( train_x )\n",
    "\n",
    "\n",
    "\n",
    "train_x = ( train_x - mu ) / sigma\n",
    "\n",
    "test_x = ( test_x - mu ) / sigma"
   ]
  },
  {
   "cell_type": "code",
   "execution_count": 6,
   "metadata": {},
   "outputs": [],
   "source": [
    "train_y_2 = np.zeros( shape = [ 60000, 10 ] )\n",
    "\n",
    "test_y_2 = np.zeros( shape = [ 10000, 10 ] )\n",
    "\n",
    "\n",
    "\n",
    "\n",
    "for i in range( 60000 ):\n",
    "    \n",
    "    train_y_2[ i, train_y[ i ] ] = 1.0\n",
    "    \n",
    "    \n",
    "for i in range( 10000 ):\n",
    "    \n",
    "    test_y_2[ i, test_y[ i ] ] = 1.0\n",
    "    \n",
    "\n",
    "\n",
    "\n",
    "\n",
    "train_y = train_y_2\n",
    "\n",
    "test_y = test_y_2"
   ]
  },
  {
   "cell_type": "markdown",
   "metadata": {},
   "source": [
    "Now we set up the convolutional neural network with $256$ filters in each convolutional layer."
   ]
  },
  {
   "cell_type": "code",
   "execution_count": 7,
   "metadata": {},
   "outputs": [
    {
     "name": "stdout",
     "output_type": "stream",
     "text": [
      "WARNING:tensorflow:From <ipython-input-7-a38e7a1f4864>:8: conv2d (from tensorflow.python.layers.convolutional) is deprecated and will be removed in a future version.\n",
      "Instructions for updating:\n",
      "Use keras.layers.conv2d instead.\n",
      "WARNING:tensorflow:From C:\\Users\\rhopi\\Anaconda3\\lib\\site-packages\\tensorflow\\python\\framework\\op_def_library.py:263: colocate_with (from tensorflow.python.framework.ops) is deprecated and will be removed in a future version.\n",
      "Instructions for updating:\n",
      "Colocations handled automatically by placer.\n",
      "WARNING:tensorflow:From <ipython-input-7-a38e7a1f4864>:10: max_pooling2d (from tensorflow.python.layers.pooling) is deprecated and will be removed in a future version.\n",
      "Instructions for updating:\n",
      "Use keras.layers.max_pooling2d instead.\n",
      "WARNING:tensorflow:From <ipython-input-7-a38e7a1f4864>:16: flatten (from tensorflow.python.layers.core) is deprecated and will be removed in a future version.\n",
      "Instructions for updating:\n",
      "Use keras.layers.flatten instead.\n"
     ]
    }
   ],
   "source": [
    "x_tf = tf.placeholder( tf.float32, shape = [ None, 28, 28, 1 ] )\n",
    "\n",
    "y_tf = tf.placeholder( tf.float32, shape = [ None, 10 ] )\n",
    "\n",
    "\n",
    "\n",
    "\n",
    "conv1 = tf.layers.conv2d( x_tf, filters = 256, kernel_size = [ 5, 5 ], name = 'conv1' )\n",
    "\n",
    "max1 = tf.layers.max_pooling2d( conv1, pool_size = [ 2, 2 ], strides = [ 2, 2 ] )\n",
    "\n",
    "conv2 = tf.layers.conv2d( max1, filters = 256, kernel_size = [ 5, 5 ] )\n",
    "\n",
    "max2 = tf.layers.max_pooling2d( conv2, pool_size = [ 2, 2 ], strides = [ 2, 2 ])\n",
    "\n",
    "flat = tf.layers.flatten( max2 )\n",
    "\n",
    "\n",
    "\n",
    "\n",
    "\n",
    "W_tf = tf.Variable( tf.truncated_normal( [ 4096, 10 ] ) )\n",
    "\n",
    "b_tf = tf.Variable( tf.truncated_normal( [ 10 ] ) )\n",
    "\n",
    "output = tf.nn.leaky_relu( tf.matmul( flat, W_tf ) + b_tf )\n",
    "\n",
    "\n",
    "\n",
    "\n",
    "cross_entropy = tf.reduce_mean( tf.nn.softmax_cross_entropy_with_logits_v2( logits = output, labels = y_tf ) )\n",
    "\n",
    "\n",
    "\n",
    "\n",
    "gd = tf.train.GradientDescentOptimizer( 0.001 ).minimize( cross_entropy )\n",
    "\n",
    "\n",
    "\n",
    "hit = tf.equal( tf.argmax( output, 1 ), tf.argmax( y_tf, 1 ) )\n",
    "\n",
    "\n",
    "\n",
    "accuracy = 100 * tf.reduce_mean( tf.cast( hit, tf.float32 ) )"
   ]
  },
  {
   "cell_type": "code",
   "execution_count": 8,
   "metadata": {},
   "outputs": [],
   "source": [
    "config = tf.ConfigProto()\n",
    "\n",
    "config.gpu_options.allow_growth = True\n",
    "\n",
    "sess = tf.Session(config=config)"
   ]
  },
  {
   "cell_type": "markdown",
   "metadata": {},
   "source": [
    "Up until now, we stole most of the code from [lesson 0020](https://github.com/Mathhead/Lessons-in-Machine-Learning/blob/master/lesson_0020_mnist_classification_convolutional_neural_network_3.ipynb).<br>\n",
    "On my machine, in run into problems with the memory of the GPU when I try to run the training as in [lesson 0020](https://github.com/Mathhead/Lessons-in-Machine-Learning/blob/master/lesson_0020_mnist_classification_convolutional_neural_network_3.ipynb). Therefore, I have to divide up the training and the test data sets to chunks of $1000$.<br>\n",
    "Aside from that and the number of filters, the code is literally the same as in [lesson 0020](https://github.com/Mathhead/Lessons-in-Machine-Learning/blob/master/lesson_0020_mnist_classification_convolutional_neural_network_3.ipynb)."
   ]
  },
  {
   "cell_type": "code",
   "execution_count": 9,
   "metadata": {},
   "outputs": [],
   "source": [
    "progress_train = []\n",
    "\n",
    "progress_train_current = []\n",
    "\n",
    "progress_test = []\n",
    "\n",
    "progress_iterations = []\n",
    "\n",
    "test_performance_buffer = []\n",
    "\n",
    "train_performance_buffer = []\n",
    "\n",
    "\n",
    "\n",
    "\n",
    "\n",
    "\n",
    "train_x_r = np.reshape( train_x, newshape = [ 60000, 28, 28, 1 ] )\n",
    "\n",
    "test_x_r = np.reshape( test_x, newshape = [ 10000, 28, 28, 1 ] )\n",
    " \n",
    "    \n",
    "    \n",
    "sess.run( tf.global_variables_initializer() )\n",
    "        \n",
    "for i in range( 200000 ):\n",
    "                \n",
    "    random_integers = np.random.choice( range( 60000 ), 100, replace = False )\n",
    "                \n",
    "    local_x = train_x[ random_integers, :, : ]\n",
    "    \n",
    "    local_y = train_y[ random_integers, : ]\n",
    "    \n",
    "    local_x = np.reshape( local_x, newshape = [ 100,28, 28, 1 ] )\n",
    "        \n",
    "    sess.run( gd, feed_dict = { x_tf : local_x, y_tf : local_y } )\n",
    "    \n",
    "    if( ( i % 100 ) == 0 ):\n",
    "        \n",
    "        for j in range(60):\n",
    "            \n",
    "            train_performance_buffer.append( \n",
    "                sess.run( accuracy, feed_dict = { x_tf : train_x_r[ ( j * 1000 ) : ( ( j + 1 ) * 1000 ), :, :, : ],\n",
    "                                                 y_tf : train_y[ ( j * 1000 ) : ( ( j + 1 ) * 1000 ), : ] } ) )\n",
    "            \n",
    "        progress_train.append( np.mean( train_performance_buffer ) )\n",
    "        \n",
    "        train_performance_buffer = []\n",
    "        \n",
    "        for j in range(10):\n",
    "            \n",
    "            test_performance_buffer.append( \n",
    "                sess.run( accuracy, feed_dict = { x_tf : test_x_r[ ( j * 1000 ) : ( ( j + 1 ) * 1000 ), :, :, : ],\n",
    "                                                 y_tf : test_y[ ( j * 1000 ) : ( ( j + 1 ) * 1000 ), : ] } ) )\n",
    "            \n",
    "        progress_test.append( np.mean( test_performance_buffer ) )\n",
    "        \n",
    "        test_performance_buffer = []\n",
    "        \n",
    "        progress_train_current.append( sess.run( accuracy, feed_dict = { x_tf : local_x, y_tf : local_y } ) )\n",
    "        \n",
    "        progress_iterations.append( i )"
   ]
  },
  {
   "cell_type": "code",
   "execution_count": 10,
   "metadata": {},
   "outputs": [
    {
     "data": {
      "text/plain": [
       "Text(0, 0.5, 'Accuracy (%)')"
      ]
     },
     "execution_count": 10,
     "metadata": {},
     "output_type": "execute_result"
    },
    {
     "data": {
      "image/png": "[encoded data removed]",
      "text/plain": [
       "<Figure size 432x288 with 1 Axes>"
      ]
     },
     "metadata": {
      "needs_background": "light"
     },
     "output_type": "display_data"
    }
   ],
   "source": [
    "plt.plot( progress_iterations, progress_train_current, label = 'Accuracy on current Training Set' )\n",
    "\n",
    "plt.plot( progress_iterations, progress_train, label = 'Accuracy on complete Training Set' )\n",
    "\n",
    "plt.plot( progress_iterations, progress_test, label = 'Accuracy on Test Set' )\n",
    "\n",
    "plt.legend( loc = 'best' )\n",
    "\n",
    "plt.xlabel( 'Iterations (-)' )\n",
    "\n",
    "plt.ylabel( 'Accuracy (%)' )"
   ]
  },
  {
   "cell_type": "code",
   "execution_count": 11,
   "metadata": {},
   "outputs": [
    {
     "data": {
      "text/plain": [
       "Text(0, 0.5, 'Accuracy (%)')"
      ]
     },
     "execution_count": 11,
     "metadata": {},
     "output_type": "execute_result"
    },
    {
     "data": {
      "image/png": "[encoded data removed]",
      "text/plain": [
       "<Figure size 432x288 with 1 Axes>"
      ]
     },
     "metadata": {
      "needs_background": "light"
     },
     "output_type": "display_data"
    }
   ],
   "source": [
    "plt.plot( progress_iterations[ 100 : 2000 ], progress_train_current[ 100 : 2000 ], \n",
    "         label = 'Accuracy on current Training Set' )\n",
    "\n",
    "plt.plot( progress_iterations[ 100 : 2000 ], progress_train[ 100 : 2000 ], label = 'Accuracy on complete Training Set' )\n",
    "\n",
    "plt.plot( progress_iterations[ 100 : 2000 ], progress_test[ 100 : 2000 ], label = 'Accuracy on Test Set' )\n",
    "\n",
    "plt.legend( loc = 'best' )\n",
    "\n",
    "plt.xlabel( 'Iterations (-)' )\n",
    "\n",
    "plt.ylabel( 'Accuracy (%)' )"
   ]
  },
  {
   "cell_type": "code",
   "execution_count": 12,
   "metadata": {},
   "outputs": [
    {
     "data": {
      "text/plain": [
       "Text(0, 0.5, 'Accuracy (%)')"
      ]
     },
     "execution_count": 12,
     "metadata": {},
     "output_type": "execute_result"
    },
    {
     "data": {
      "image/png": "[encoded data removed]",
      "text/plain": [
       "<Figure size 432x288 with 1 Axes>"
      ]
     },
     "metadata": {
      "needs_background": "light"
     },
     "output_type": "display_data"
    }
   ],
   "source": [
    "plt.plot( progress_iterations[ 100 : 2000 ], progress_test[ 100 : 2000 ], label= 'Accuracy on Test Set' )\n",
    "\n",
    "plt.legend( loc = 'best' )\n",
    "\n",
    "plt.xlabel( 'Iterations (-)' )\n",
    "\n",
    "plt.ylabel( 'Accuracy (%)' )"
   ]
  },
  {
   "cell_type": "code",
   "execution_count": 13,
   "metadata": {},
   "outputs": [],
   "source": [
    "saver = tf.train.Saver()\n",
    "\n",
    "saver.save( sess, \n",
    "           \"C:\\\\Users\\\\rhopi\\\\OneDrive\\\\Desktop\\\\python dev\\\\github\\\\lesson_0021\\\\convolutional_neural_network_256_256\" )\n",
    "\n",
    "sess.close()"
   ]
  },
  {
   "cell_type": "markdown",
   "metadata": {},
   "source": [
    "When we compare the performance of this model with the performance of the model from [lesson 0020](https://github.com/Mathhead/Lessons-in-Machine-Learning/blob/master/lesson_0020_mnist_classification_convolutional_neural_network_3.ipynb), we notice, that this model learns the training data set faster and also achieves a higher performance on the test.<br>\n",
    "Class dismissed."
   ]
  }
 ],
 "metadata": {
  "kernelspec": {
   "display_name": "Python 3",
   "language": "python",
   "name": "python3"
  },
  "language_info": {
   "codemirror_mode": {
    "name": "ipython",
    "version": 3
   },
   "file_extension": ".py",
   "mimetype": "text/x-python",
   "name": "python",
   "nbconvert_exporter": "python",
   "pygments_lexer": "ipython3",
   "version": "3.7.3"
  }
 },
 "nbformat": 4,
 "nbformat_minor": 2
}
