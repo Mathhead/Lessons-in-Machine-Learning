{
 "cells": [
  {
   "cell_type": "markdown",
   "metadata": {},
   "source": [
    "# Lesson 0019 - MNIST Classification Convolutional Neural Network (II)\n",
    "In the last [lesson](https://github.com/Mathhead/Lessons-in-Machine-Learning/blob/master/lesson_0018_mnist_classification_convolutional_neural_network.ipynb), we created our first convolutional neural network.<br>\n",
    "In this lesson, we steal the code from [last lesson](https://github.com/Mathhead/Lessons-in-Machine-Learning/blob/master/lesson_0018_mnist_classification_convolutional_neural_network.ipynb) and create a bigger convolutional neural network hoping, that the we achieve better performance on the MNIST data set.<br>\n",
    "Also, since training the model from [lesson 0018](https://github.com/Mathhead/Lessons-in-Machine-Learning/blob/master/lesson_0018_mnist_classification_convolutional_neural_network.ipynb) took really long, we change our code, so that we evaluate the performance on the training and test set only every $100$ iterations.<br>\n",
    "Also, we will have a look at what the filters in the first convolutional layer look like."
   ]
  },
  {
   "cell_type": "code",
   "execution_count": 1,
   "metadata": {},
   "outputs": [
    {
     "name": "stdout",
     "output_type": "stream",
     "text": [
      "1.13.1\n"
     ]
    }
   ],
   "source": [
    "import tensorflow as tf\n",
    "\n",
    "tf.set_random_seed( 1234567890 )\n",
    "\n",
    "print( tf.__version__ )"
   ]
  },
  {
   "cell_type": "code",
   "execution_count": 2,
   "metadata": {},
   "outputs": [],
   "source": [
    "( train_x, train_y ),( test_x, test_y ) = tf.keras.datasets.mnist.load_data()"
   ]
  },
  {
   "cell_type": "code",
   "execution_count": 3,
   "metadata": {},
   "outputs": [
    {
     "name": "stdout",
     "output_type": "stream",
     "text": [
      "1.16.2\n"
     ]
    }
   ],
   "source": [
    "import numpy as np\n",
    "\n",
    "np.random.seed( 1234567890 )\n",
    "\n",
    "print( np.__version__ )"
   ]
  },
  {
   "cell_type": "code",
   "execution_count": 4,
   "metadata": {},
   "outputs": [
    {
     "name": "stdout",
     "output_type": "stream",
     "text": [
      "3.0.3\n"
     ]
    }
   ],
   "source": [
    "import matplotlib\n",
    "import matplotlib.pyplot as plt\n",
    "\n",
    "print( matplotlib.__version__ )"
   ]
  },
  {
   "cell_type": "code",
   "execution_count": 5,
   "metadata": {},
   "outputs": [],
   "source": [
    "mu = np.mean( train_x )\n",
    "\n",
    "sigma = np.std( train_x )\n",
    "\n",
    "\n",
    "\n",
    "train_x = ( train_x - mu ) / sigma\n",
    "\n",
    "test_x = ( test_x - mu ) / sigma"
   ]
  },
  {
   "cell_type": "code",
   "execution_count": 6,
   "metadata": {},
   "outputs": [],
   "source": [
    "train_y_2 = np.zeros( shape = [ 60000, 10 ] )\n",
    "\n",
    "test_y_2 = np.zeros( shape = [ 10000, 10 ] )\n",
    "\n",
    "\n",
    "\n",
    "\n",
    "for i in range( 60000 ):\n",
    "    \n",
    "    train_y_2[ i, train_y[ i ] ] = 1.0\n",
    "    \n",
    "    \n",
    "for i in range( 10000 ):\n",
    "    \n",
    "    test_y_2[ i, test_y[ i ] ] = 1.0\n",
    "    \n",
    "\n",
    "\n",
    "\n",
    "\n",
    "train_y = train_y_2\n",
    "\n",
    "test_y = test_y_2"
   ]
  },
  {
   "cell_type": "markdown",
   "metadata": {},
   "source": [
    "In the last [lesson](https://github.com/Mathhead/Lessons-in-Machine-Learning/blob/master/lesson_0018_mnist_classification_convolutional_neural_network.ipynb), the convolutional layers had $32$ filters each. We now increase this to $64$.<br>\n",
    "We name the first convolutional layer __conv1__."
   ]
  },
  {
   "cell_type": "code",
   "execution_count": 7,
   "metadata": {},
   "outputs": [
    {
     "name": "stdout",
     "output_type": "stream",
     "text": [
      "WARNING:tensorflow:From <ipython-input-7-ba3a492a8c36>:10: conv2d (from tensorflow.python.layers.convolutional) is deprecated and will be removed in a future version.\n",
      "Instructions for updating:\n",
      "Use keras.layers.conv2d instead.\n",
      "WARNING:tensorflow:From C:\\Users\\rhopi\\Anaconda3\\lib\\site-packages\\tensorflow\\python\\framework\\op_def_library.py:263: colocate_with (from tensorflow.python.framework.ops) is deprecated and will be removed in a future version.\n",
      "Instructions for updating:\n",
      "Colocations handled automatically by placer.\n",
      "WARNING:tensorflow:From <ipython-input-7-ba3a492a8c36>:12: max_pooling2d (from tensorflow.python.layers.pooling) is deprecated and will be removed in a future version.\n",
      "Instructions for updating:\n",
      "Use keras.layers.max_pooling2d instead.\n",
      "WARNING:tensorflow:From <ipython-input-7-ba3a492a8c36>:18: flatten (from tensorflow.python.layers.core) is deprecated and will be removed in a future version.\n",
      "Instructions for updating:\n",
      "Use keras.layers.flatten instead.\n"
     ]
    }
   ],
   "source": [
    "\n",
    "\n",
    "x_tf = tf.placeholder( tf.float32, shape = [ None, 28, 28, 1 ] )\n",
    "\n",
    "y_tf = tf.placeholder( tf.float32, shape = [ None, 10 ] )\n",
    "\n",
    "\n",
    "\n",
    "\n",
    "conv1 = tf.layers.conv2d( x_tf, filters = 64, kernel_size = [ 5, 5 ], name = 'conv1' )\n",
    "\n",
    "max1 = tf.layers.max_pooling2d( conv1, pool_size = [ 2, 2 ], strides = [ 2, 2 ] )\n",
    "\n",
    "conv2 = tf.layers.conv2d( max1, filters = 64, kernel_size = [ 5, 5 ] )\n",
    "\n",
    "max2 = tf.layers.max_pooling2d( conv2, pool_size = [ 2, 2 ], strides = [ 2, 2 ])\n",
    "\n",
    "flat = tf.layers.flatten( max2 )\n",
    "\n",
    "\n",
    "\n",
    "\n",
    "\n",
    "W_tf = tf.Variable( tf.truncated_normal( [ 1024, 10 ] ) )\n",
    "\n",
    "b_tf = tf.Variable( tf.truncated_normal( [ 10 ] ) )\n",
    "\n",
    "output = tf.nn.leaky_relu( tf.matmul( flat, W_tf ) + b_tf )\n",
    "\n",
    "\n",
    "\n",
    "\n",
    "cross_entropy = tf.reduce_mean( tf.nn.softmax_cross_entropy_with_logits_v2( logits = output, labels = y_tf ) )\n",
    "\n",
    "\n",
    "\n",
    "\n",
    "gd = tf.train.GradientDescentOptimizer( 0.001 ).minimize( cross_entropy )\n",
    "\n",
    "\n",
    "\n",
    "hit = tf.equal( tf.argmax( output, 1 ), tf.argmax( y_tf, 1 ) )\n",
    "\n",
    "\n",
    "\n",
    "accuracy = 100 * tf.reduce_mean( tf.cast( hit, tf.float32 ) )\n",
    "\n"
   ]
  },
  {
   "cell_type": "markdown",
   "metadata": {},
   "source": [
    "As stated above, we want to reduce the time for training by evaluating the performance only every $100$. Therefore, we introduce the list __progress_iterations__ to store the iteration number and an __if clause__ that checks whether the current iteration can be divided by $100$.<br>\n",
    "We also have to split up the evaluation of the complete training set into $6$ chunks to avoid problems with the memory (at least on my machine).<br>\n",
    "We train this model for $200000$ iterations with $100$ randomly drawn training data and a learning rate of $0.001$."
   ]
  },
  {
   "cell_type": "code",
   "execution_count": 8,
   "metadata": {},
   "outputs": [],
   "source": [
    "sess = tf.Session()\n",
    "\n",
    "progress_train = []\n",
    "\n",
    "progress_train_current = []\n",
    "\n",
    "progress_test = []\n",
    "\n",
    "progress_iterations = []\n",
    "\n",
    "test_performance_buffer = []\n",
    "\n",
    "\n",
    "\n",
    "\n",
    "train_x_r = np.reshape( train_x, newshape = [ 60000, 28, 28, 1 ] )\n",
    "\n",
    "test_x_r = np.reshape( test_x, newshape = [ 10000, 28, 28, 1 ] )\n",
    " \n",
    "    \n",
    "    \n",
    "sess.run( tf.global_variables_initializer() )\n",
    "        \n",
    "for i in range( 200000 ):\n",
    "                \n",
    "    random_integers = np.random.choice( range( 60000 ), 100, replace = False )\n",
    "                \n",
    "    local_x = train_x[ random_integers, :, : ]\n",
    "    \n",
    "    local_y = train_y[ random_integers, : ]\n",
    "    \n",
    "    local_x = np.reshape( local_x, newshape = [ 100,28, 28, 1 ] )\n",
    "        \n",
    "    sess.run( gd, feed_dict = { x_tf : local_x, y_tf : local_y } )\n",
    "    \n",
    "    if( ( i % 100 ) == 0 ):\n",
    "        \n",
    "        for j in range(6):\n",
    "            \n",
    "            test_performance_buffer.append( \n",
    "                sess.run( accuracy, feed_dict = { x_tf : train_x_r[ ( j * 10000 ) : ( ( j + 1 ) * 10000 ), :, :, : ],\n",
    "                                                 y_tf : train_y[ ( j * 10000 ) : ( ( j + 1 ) * 10000 ), : ] } ) )\n",
    "            \n",
    "        progress_train.append( np.mean( test_performance_buffer ) )\n",
    "        \n",
    "        test_performance_buffer = []\n",
    "        \n",
    "        progress_train_current.append( sess.run( accuracy, feed_dict = { x_tf : local_x, y_tf : local_y } ) )\n",
    "        \n",
    "        progress_test.append( sess.run( accuracy, feed_dict = { x_tf : test_x_r, y_tf : test_y } ) )\n",
    "        \n",
    "        progress_iterations.append( i )"
   ]
  },
  {
   "cell_type": "code",
   "execution_count": 9,
   "metadata": {},
   "outputs": [
    {
     "data": {
      "text/plain": [
       "Text(0, 0.5, 'Accuracy (%)')"
      ]
     },
     "execution_count": 9,
     "metadata": {},
     "output_type": "execute_result"
    },
    {
     "data": {
      "image/png": "[encoded data removed]",
      "text/plain": [
       "<Figure size 432x288 with 1 Axes>"
      ]
     },
     "metadata": {
      "needs_background": "light"
     },
     "output_type": "display_data"
    }
   ],
   "source": [
    "plt.plot( progress_iterations, progress_train_current, label = 'Accuracy on current Training Set' )\n",
    "\n",
    "plt.plot( progress_iterations, progress_train, label = 'Accuracy on complete Training Set' )\n",
    "\n",
    "plt.plot( progress_iterations, progress_test, label = 'Accuracy on Test Set' )\n",
    "\n",
    "plt.legend( loc = 'best' )\n",
    "\n",
    "plt.xlabel( 'Iterations (-)' )\n",
    "\n",
    "plt.ylabel( 'Accuracy (%)' )"
   ]
  },
  {
   "cell_type": "code",
   "execution_count": 10,
   "metadata": {},
   "outputs": [
    {
     "data": {
      "text/plain": [
       "Text(0, 0.5, 'Accuracy (%)')"
      ]
     },
     "execution_count": 10,
     "metadata": {},
     "output_type": "execute_result"
    },
    {
     "data": {
      "image/png": "[encoded data removed]",
      "text/plain": [
       "<Figure size 432x288 with 1 Axes>"
      ]
     },
     "metadata": {
      "needs_background": "light"
     },
     "output_type": "display_data"
    }
   ],
   "source": [
    "plt.plot( progress_iterations[ 100 : 2000 ], progress_train_current[ 100 : 2000 ], \n",
    "         label = 'Accuracy on current Training Set' )\n",
    "\n",
    "plt.plot( progress_iterations[ 100 : 2000 ], progress_train[ 100 : 2000 ], label = 'Accuracy on complete Training Set' )\n",
    "\n",
    "plt.plot( progress_iterations[ 100 : 2000 ], progress_test[ 100 : 2000 ], label = 'Accuracy on Test Set' )\n",
    "\n",
    "plt.legend( loc = 'best' )\n",
    "\n",
    "plt.xlabel( 'Iterations (-)' )\n",
    "\n",
    "plt.ylabel( 'Accuracy (%)' )"
   ]
  },
  {
   "cell_type": "code",
   "execution_count": 11,
   "metadata": {},
   "outputs": [
    {
     "data": {
      "text/plain": [
       "Text(0, 0.5, 'Accuracy (%)')"
      ]
     },
     "execution_count": 11,
     "metadata": {},
     "output_type": "execute_result"
    },
    {
     "data": {
      "image/png": "[encoded data removed]",
      "text/plain": [
       "<Figure size 432x288 with 1 Axes>"
      ]
     },
     "metadata": {
      "needs_background": "light"
     },
     "output_type": "display_data"
    }
   ],
   "source": [
    "plt.plot( progress_iterations[ 100 : 2000 ], progress_test[ 100 : 2000 ], label= 'Accuracy on Test Set' )\n",
    "\n",
    "plt.legend( loc = 'best' )\n",
    "\n",
    "plt.xlabel( 'Iterations (-)' )\n",
    "\n",
    "plt.ylabel( 'Accuracy (%)' )"
   ]
  },
  {
   "cell_type": "markdown",
   "metadata": {},
   "source": [
    "From the plots from above, we can deduce, that the model has learnt all the training data at iteration $125000$. Therefore, we cannot expect the model to improve any more, because once it has learnt all the data, it cannot update the weights in a meaningful way.<br>\n",
    "Now, we want to have a look at the filters in the first convolutional layer.<br>\n",
    "We start by querying the [trainable variables](https://www.tensorflow.org/api_docs/python/tf/trainable_variables)."
   ]
  },
  {
   "cell_type": "code",
   "execution_count": 12,
   "metadata": {},
   "outputs": [],
   "source": [
    "vars = tf.trainable_variables()"
   ]
  },
  {
   "cell_type": "markdown",
   "metadata": {},
   "source": [
    "Now, we print __vars__:"
   ]
  },
  {
   "cell_type": "code",
   "execution_count": 13,
   "metadata": {},
   "outputs": [
    {
     "name": "stdout",
     "output_type": "stream",
     "text": [
      "[<tf.Variable 'conv1/kernel:0' shape=(5, 5, 1, 64) dtype=float32_ref>, <tf.Variable 'conv1/bias:0' shape=(64,) dtype=float32_ref>, <tf.Variable 'conv2d/kernel:0' shape=(5, 5, 64, 64) dtype=float32_ref>, <tf.Variable 'conv2d/bias:0' shape=(64,) dtype=float32_ref>, <tf.Variable 'Variable:0' shape=(1024, 10) dtype=float32_ref>, <tf.Variable 'Variable_1:0' shape=(10,) dtype=float32_ref>]\n"
     ]
    }
   ],
   "source": [
    "print( vars )"
   ]
  },
  {
   "cell_type": "markdown",
   "metadata": {},
   "source": [
    "The filters of the first convolutional layer are the first entry of the list above.<br>\n",
    "We save these data into __conv1_data__ and print the format using [shape](https://docs.scipy.org/doc/numpy/reference/generated/numpy.ndarray.shape.html):"
   ]
  },
  {
   "cell_type": "code",
   "execution_count": 14,
   "metadata": {},
   "outputs": [
    {
     "name": "stdout",
     "output_type": "stream",
     "text": [
      "(5, 5, 1, 64)\n"
     ]
    }
   ],
   "source": [
    "conv1_data = sess.run( vars[ 0 ] )\n",
    "\n",
    "print( np.shape( conv1_data ) )"
   ]
  },
  {
   "cell_type": "markdown",
   "metadata": {},
   "source": [
    "We copy the data into a single matrix, where we leave one empty line and one empty column between every filter.<br>\n",
    "For the visualization, we steal code from [lesson 0010](https://github.com/Mathhead/Lessons-in-Machine-Learning/blob/master/lesson_0010_mnist_classification_linear_classifier.ipynb)."
   ]
  },
  {
   "cell_type": "code",
   "execution_count": 15,
   "metadata": {},
   "outputs": [
    {
     "data": {
      "text/plain": [
       "([], <a list of 0 Text yticklabel objects>)"
      ]
     },
     "execution_count": 15,
     "metadata": {},
     "output_type": "execute_result"
    },
    {
     "data": {
      "image/png": "[encoded data removed]",
      "text/plain": [
       "<Figure size 720x720 with 1 Axes>"
      ]
     },
     "metadata": {},
     "output_type": "display_data"
    }
   ],
   "source": [
    "mat = np.zeros( shape = [ 47, 47 ] )\n",
    "\n",
    "for i in range( 8 ):\n",
    "    \n",
    "    for j in range( 8 ):\n",
    "        \n",
    "        x_left = i * 6\n",
    "        \n",
    "        x_right = x_left + 5\n",
    "        \n",
    "        y_down = j * 6\n",
    "        \n",
    "        y_up = y_down + 5\n",
    "        \n",
    "        mat[ x_left : x_right , y_down : y_up ] = conv1_data[ :, :, 0, i * 8 + j ]\n",
    "        \n",
    "        \n",
    "        \n",
    "plt.figure( 1, figsize = ( 10, 10 ) )\n",
    "        \n",
    "plt.matshow( mat, cmap = plt.cm.gray, fignum = 1 )\n",
    "\n",
    "plt.xticks( [ ] )\n",
    "\n",
    "plt.yticks( [ ] )"
   ]
  },
  {
   "cell_type": "markdown",
   "metadata": {},
   "source": [
    "It's acutally hard to interprete these filters. The second filter from the left in the top row might look for vertical lines,  the second and the third filter from the right in the top row might look for horizontal lines, the first filter from the left in the second row from the bottom might like circular shapes, but that's all just guessing.<br>\n",
    "Let's save the model and close the session."
   ]
  },
  {
   "cell_type": "code",
   "execution_count": 16,
   "metadata": {},
   "outputs": [],
   "source": [
    "saver = tf.train.Saver()\n",
    "\n",
    "saver.save( sess, \n",
    "           \"C:\\\\Users\\\\rhopi\\\\OneDrive\\\\Desktop\\\\python dev\\\\github\\\\lesson_0019\\\\convolutional_neural_network_64_64\" )\n",
    "\n",
    "sess.close()"
   ]
  },
  {
   "cell_type": "markdown",
   "metadata": {},
   "source": [
    "Class dismissed."
   ]
  }
 ],
 "metadata": {
  "kernelspec": {
   "display_name": "Python 3",
   "language": "python",
   "name": "python3"
  },
  "language_info": {
   "codemirror_mode": {
    "name": "ipython",
    "version": 3
   },
   "file_extension": ".py",
   "mimetype": "text/x-python",
   "name": "python",
   "nbconvert_exporter": "python",
   "pygments_lexer": "ipython3",
   "version": "3.7.3"
  }
 },
 "nbformat": 4,
 "nbformat_minor": 2
}
