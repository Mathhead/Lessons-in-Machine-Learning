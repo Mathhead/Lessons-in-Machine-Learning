{
 "cells": [
  {
   "cell_type": "markdown",
   "metadata": {},
   "source": [
    "# Lesson 0013 - MNIST Classification k-nearest neighbor\n",
    "We assume the reader to be familiar with the preceeding lessons.<br>\n",
    "In this lesson, we apply the k-nearest neighbor scheme to the MNIST dataset.<br>\n",
    "We steal the preprocessing from lesson [lesson 0011](https://github.com/Mathhead/Lessons-in-Machine-Learning/blob/master/lesson_0011_mnist_classification_support_vector_machine_boosting.ipynb) and the k-nearest neighbor code from [lesson 0005](https://github.com/Mathhead/Lessons-in-Machine-Learning/blob/master/lesson_0005_iris_classification_k_nearest_neighbor.ipynb)."
   ]
  },
  {
   "cell_type": "code",
   "execution_count": 1,
   "metadata": {},
   "outputs": [
    {
     "name": "stderr",
     "output_type": "stream",
     "text": [
      "C:\\Users\\Robert\\Anaconda3\\lib\\site-packages\\h5py\\__init__.py:36: FutureWarning: Conversion of the second argument of issubdtype from `float` to `np.floating` is deprecated. In future, it will be treated as `np.float64 == np.dtype(float).type`.\n",
      "  from ._conv import register_converters as _register_converters\n"
     ]
    },
    {
     "name": "stdout",
     "output_type": "stream",
     "text": [
      "1.12.0\n"
     ]
    }
   ],
   "source": [
    "import tensorflow as tf\n",
    "\n",
    "tf.set_random_seed( 1234567890 )\n",
    "\n",
    "print( tf.__version__ )"
   ]
  },
  {
   "cell_type": "code",
   "execution_count": 2,
   "metadata": {},
   "outputs": [],
   "source": [
    "( train_x, train_y ),( test_x, test_y ) = tf.keras.datasets.mnist.load_data()"
   ]
  },
  {
   "cell_type": "code",
   "execution_count": 3,
   "metadata": {},
   "outputs": [
    {
     "name": "stdout",
     "output_type": "stream",
     "text": [
      "1.14.3\n"
     ]
    }
   ],
   "source": [
    "import numpy as np\n",
    "\n",
    "np.random.seed( 1234567890 )\n",
    "\n",
    "print( np.__version__ )"
   ]
  },
  {
   "cell_type": "code",
   "execution_count": 4,
   "metadata": {},
   "outputs": [],
   "source": [
    "mu = np.mean( train_x )\n",
    "\n",
    "sigma = np.std( train_x )\n",
    "\n",
    "\n",
    "\n",
    "train_x = ( train_x - mu ) / sigma\n",
    "\n",
    "test_x = ( test_x - mu ) / sigma"
   ]
  },
  {
   "cell_type": "code",
   "execution_count": 5,
   "metadata": {},
   "outputs": [],
   "source": [
    "train_x_f = np.zeros( shape = [ 60000, 28 * 28 ] )\n",
    "\n",
    "test_x_f = np.zeros( shape = [ 10000, 28 * 28 ] )\n",
    "\n",
    "\n",
    "\n",
    "    \n",
    "\n",
    "for i in range( 60000 ):\n",
    "    \n",
    "    dummy = np.array( train_x[ i ] )\n",
    "    \n",
    "    train_x_f[ i, : ] = dummy.flatten()\n",
    "    \n",
    "    \n",
    "for i in range( 10000 ):\n",
    "    \n",
    "    dummy = np.array( test_x[ i ] )\n",
    "    \n",
    "    test_x_f[ i ] = dummy.flatten()\n",
    "    \n",
    "    \n",
    "    \n",
    "    \n",
    "train_x = train_x_f\n",
    "\n",
    "test_x = test_x_f"
   ]
  },
  {
   "cell_type": "code",
   "execution_count": 6,
   "metadata": {},
   "outputs": [
    {
     "name": "stdout",
     "output_type": "stream",
     "text": [
      "0.19.1\n"
     ]
    }
   ],
   "source": [
    "import sklearn\n",
    "\n",
    "print( sklearn.__version__ )"
   ]
  },
  {
   "cell_type": "code",
   "execution_count": 7,
   "metadata": {},
   "outputs": [],
   "source": [
    "from sklearn.neighbors import KNeighborsClassifier as knn"
   ]
  },
  {
   "cell_type": "markdown",
   "metadata": {},
   "source": [
    "We train a nearest neighbor model __nn__ using __knn__ out of the box, predict the __test_x__ set, store the comparison in __hit__ and compute the __accuracy__."
   ]
  },
  {
   "cell_type": "code",
   "execution_count": 8,
   "metadata": {},
   "outputs": [
    {
     "name": "stdout",
     "output_type": "stream",
     "text": [
      "We reached an accuracy of 96.88%\n"
     ]
    }
   ],
   "source": [
    "nn = knn()\n",
    "\n",
    "nn.fit( train_x, train_y )\n",
    "\n",
    "hit = ( nn.predict( test_x ) == test_y )\n",
    "\n",
    "accuracy = 0.0\n",
    "\n",
    "for i in range( 10000 ):\n",
    "    \n",
    "    if hit[ i ]:\n",
    "        \n",
    "        accuracy = accuracy + 1.0\n",
    "        \n",
    "accuracy = accuracy / 100\n",
    "\n",
    "print( 'We reached an accuracy of ' + str( accuracy ) + '%' )"
   ]
  },
  {
   "cell_type": "markdown",
   "metadata": {},
   "source": [
    "So we reached an accuracy of nearly $97\\%$.<br>\n",
    "We want to try a grid search over the number of neighbors that are considered.<br>\n",
    "We start the size of the neighborhood at $1$ and scale up to $1000$. The more neighbors we consider, the better the model should be able to deal with noise.<br>\n",
    "We will split the training data into a second training set of $50000$ and a validation set of $10000$ randomly drawn data.\n",
    "For this, we will steal code from [lesson 0012](https://github.com/Mathhead/Lessons-in-Machine-Learning/blob/master/lesson_0012_mnist_classification_decision_tree_and_random_forest.ipynb)."
   ]
  },
  {
   "cell_type": "code",
   "execution_count": 9,
   "metadata": {},
   "outputs": [],
   "source": [
    "train_2_x = np.zeros( shape = [ 50000, 28 * 28 ] )\n",
    "\n",
    "train_2_y = np.zeros( shape = [ 50000 ] )\n",
    "\n",
    "val_2_x = np.zeros( shape = [ 10000, 28 * 28 ] )\n",
    "\n",
    "val_2_y = np.zeros( shape = [ 10000 ] )\n",
    "\n",
    "\n",
    "\n",
    "\n",
    "random_integers = np.random.choice( range( 60000 ), 50000, replace = False )\n",
    "\n",
    "random_integers = np.sort( random_integers )\n",
    "\n",
    "\n",
    "\n",
    "j = 0\n",
    "\n",
    "k = 0\n",
    "\n",
    "\n",
    "\n",
    "for i in range( 60000 ):\n",
    "    \n",
    "    if i == random_integers[ j ]:\n",
    "        \n",
    "        train_2_x[ j, : ] = train_x[ i, : ]\n",
    "        \n",
    "        train_2_y[ j ] = train_y[ i ]\n",
    "        \n",
    "        j = j + 1\n",
    "        \n",
    "        if j == 50000:\n",
    "            \n",
    "            j = 0\n",
    "            \n",
    "    else:\n",
    "        \n",
    "        val_2_x[ k, : ] = train_x[ i, : ]\n",
    "        \n",
    "        val_2_y[ k ] = train_y[ i ]\n",
    "        \n",
    "        k = k + 1"
   ]
  },
  {
   "cell_type": "code",
   "execution_count": 10,
   "metadata": {},
   "outputs": [],
   "source": [
    "grid = [ 1, 3, 5, 10, 25, 50, 75, 100, 150, 200, 250, 350, 500, 750, 1000 ]\n",
    "\n",
    "grid_val = []\n",
    "\n",
    "for i in range( len( grid ) ):\n",
    "    \n",
    "    nn_2 = knn( n_neighbors = grid[ i ] )\n",
    "    \n",
    "    nn_2.fit( train_2_x, train_2_y )\n",
    "\n",
    "    hit_2 = ( nn_2.predict( val_2_x ) == val_2_y )\n",
    "\n",
    "    accuracy_2 = 0.0\n",
    "\n",
    "    for i in range( 10000 ):\n",
    "    \n",
    "        if hit_2[ i ]:\n",
    "        \n",
    "            accuracy_2 = accuracy_2 + 1.0\n",
    "        \n",
    "    accuracy_2 = accuracy_2 / 100\n",
    "    \n",
    "    grid_val.append( accuracy_2 )"
   ]
  },
  {
   "cell_type": "code",
   "execution_count": 11,
   "metadata": {},
   "outputs": [
    {
     "name": "stdout",
     "output_type": "stream",
     "text": [
      "2.2.2\n"
     ]
    }
   ],
   "source": [
    "import matplotlib as matplotlib\n",
    "import matplotlib.pyplot as plt\n",
    "\n",
    "print( matplotlib.__version__ )"
   ]
  },
  {
   "cell_type": "code",
   "execution_count": 12,
   "metadata": {},
   "outputs": [
    {
     "data": {
      "text/plain": [
       "Text(0,0.5,'Accuracy (%)')"
      ]
     },
     "execution_count": 12,
     "metadata": {},
     "output_type": "execute_result"
    },
    {
     "data": {
      "image/png": "[encoded data removed]",
      "text/plain": [
       "<Figure size 432x288 with 1 Axes>"
      ]
     },
     "metadata": {},
     "output_type": "display_data"
    }
   ],
   "source": [
    "plt.plot( grid_val, 'bo' )\n",
    "\n",
    "plt.xticks( range( len( grid ) ), grid )\n",
    "\n",
    "plt.xlabel( 'Number of estimators (-)' )\n",
    "\n",
    "plt.ylabel( 'Accuracy (%)' )"
   ]
  },
  {
   "cell_type": "markdown",
   "metadata": {},
   "source": [
    "Seems like $5$ neighbors deliver the best classification.<br>\n",
    "According to the [documentation](https://scikit-learn.org/stable/modules/generated/sklearn.neighbors.KNeighborsClassifier.html) the default number of neighbors is $5$, therefore __nn__ is already the best model, and we are done.<br>\n",
    "Class dismissed."
   ]
  }
 ],
 "metadata": {
  "kernelspec": {
   "display_name": "Python 3",
   "language": "python",
   "name": "python3"
  },
  "language_info": {
   "codemirror_mode": {
    "name": "ipython",
    "version": 3
   },
   "file_extension": ".py",
   "mimetype": "text/x-python",
   "name": "python",
   "nbconvert_exporter": "python",
   "pygments_lexer": "ipython3",
   "version": "3.6.5"
  }
 },
 "nbformat": 4,
 "nbformat_minor": 2
}
