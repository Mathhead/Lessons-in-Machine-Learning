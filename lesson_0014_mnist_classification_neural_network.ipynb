{
 "cells": [
  {
   "cell_type": "markdown",
   "metadata": {},
   "source": [
    "# Lesson 0014 - MNIST Classification Neural Network\n",
    "In this lesson, we revisit the MNIST dataset we introduced in [lesson 0010](https://github.com/Mathhead/Lessons-in-Machine-Learning/blob/master/lesson_0010_mnist_classification_linear_classifier.ipynb).<br>\n",
    "This time, we will train a neural network to the task of classification. We can steal pretty much code from [lesson 0010](https://github.com/Mathhead/Lessons-in-Machine-Learning/blob/master/lesson_0010_mnist_classification_linear_classifier.ipynb)."
   ]
  },
  {
   "cell_type": "code",
   "execution_count": 1,
   "metadata": {},
   "outputs": [
    {
     "name": "stderr",
     "output_type": "stream",
     "text": [
      "C:\\Users\\Robert\\Anaconda3\\lib\\site-packages\\h5py\\__init__.py:36: FutureWarning: Conversion of the second argument of issubdtype from `float` to `np.floating` is deprecated. In future, it will be treated as `np.float64 == np.dtype(float).type`.\n",
      "  from ._conv import register_converters as _register_converters\n"
     ]
    },
    {
     "name": "stdout",
     "output_type": "stream",
     "text": [
      "1.12.0\n"
     ]
    }
   ],
   "source": [
    "import tensorflow as tf\n",
    "\n",
    "tf.set_random_seed( 1234567890 )\n",
    "\n",
    "print( tf.__version__ )"
   ]
  },
  {
   "cell_type": "code",
   "execution_count": 2,
   "metadata": {},
   "outputs": [],
   "source": [
    "( train_x, train_y ),( test_x, test_y ) = tf.keras.datasets.mnist.load_data()"
   ]
  },
  {
   "cell_type": "code",
   "execution_count": 3,
   "metadata": {},
   "outputs": [
    {
     "name": "stdout",
     "output_type": "stream",
     "text": [
      "1.14.3\n"
     ]
    }
   ],
   "source": [
    "import numpy as np\n",
    "\n",
    "np.random.seed( 1234567890 )\n",
    "\n",
    "print( np.__version__ )"
   ]
  },
  {
   "cell_type": "code",
   "execution_count": 4,
   "metadata": {},
   "outputs": [
    {
     "name": "stdout",
     "output_type": "stream",
     "text": [
      "2.2.2\n"
     ]
    }
   ],
   "source": [
    "import matplotlib\n",
    "import matplotlib.pyplot as plt\n",
    "\n",
    "print( matplotlib.__version__ )"
   ]
  },
  {
   "cell_type": "code",
   "execution_count": 5,
   "metadata": {},
   "outputs": [],
   "source": [
    "mu = np.mean( train_x )\n",
    "\n",
    "sigma = np.std( train_x )\n",
    "\n",
    "\n",
    "\n",
    "train_x = ( train_x - mu ) / sigma\n",
    "\n",
    "test_x = ( test_x - mu ) / sigma"
   ]
  },
  {
   "cell_type": "code",
   "execution_count": 6,
   "metadata": {},
   "outputs": [],
   "source": [
    "train_x_f = np.zeros( shape = [ 60000, 28 * 28 ] )\n",
    "\n",
    "train_y_f = np.zeros( shape = [ 60000, 10 ] )\n",
    "\n",
    "test_x_f = np.zeros( shape = [ 10000, 28 * 28 ] )\n",
    "\n",
    "test_y_f = np.zeros( shape = [ 10000, 10 ] )\n",
    "\n",
    "\n",
    "\n",
    "\n",
    "for i in range( 60000 ):\n",
    "    \n",
    "    train_y_f[ i, train_y[ i ] ] = 1.0\n",
    "    \n",
    "    \n",
    "for i in range( 10000 ):\n",
    "    \n",
    "    test_y_f[ i, test_y[ i ] ] = 1.0\n",
    "    \n",
    "\n",
    "for i in range( 60000 ):\n",
    "    \n",
    "    dummy = np.array( train_x[ i ] )\n",
    "    \n",
    "    train_x_f[ i, : ] = dummy.flatten()\n",
    "    \n",
    "    \n",
    "for i in range( 10000 ):\n",
    "    \n",
    "    dummy = np.array( test_x[ i ] )\n",
    "    \n",
    "    test_x_f[ i ] = dummy.flatten()\n",
    "    \n",
    "    \n",
    "    \n",
    "    \n",
    "train_x = train_x_f\n",
    "\n",
    "train_y = train_y_f\n",
    "\n",
    "test_x = test_x_f\n",
    "\n",
    "test_y = test_y_f"
   ]
  },
  {
   "cell_type": "markdown",
   "metadata": {},
   "source": [
    "Up until now, we stole code from [lesson 0010](https://github.com/Mathhead/Lessons-in-Machine-Learning/blob/master/lesson_0010_mnist_classification_linear_classifier.ipynb) to prepare the data.<br>\n",
    "Now, we build our first neural network. We will use the following architecture:<br>\n",
    "-  we use a $28*28$ dimensional input layer.\n",
    "-  in the second layer, we will use $28*28$ neurons. Each neuron will take the input vector $x$ and map it to $x\\rightarrow LReLU\\left( w^{T}x+b\\right)$, where $w$ is a weight vector, $b$ is a scalar and $LReLU$ is the [leaky ReLu](https://www.tensorflow.org/api_docs/python/tf/nn/leaky_relu) function. $LReLu$ maps a scalar $x$ to $x\\rightarrow \\left\\{\\begin{array}{c}x\\text{ if }x\\geq0\\\\0.2x\\text{ else}\\end{array}\\right.$. Therefore, $LReLu$ is highly nonlinear, but also, it is easy to compute, and also its derivative is easy to compute.\n",
    "-  finally we will have an output layer of $10$ neurons, to which we apply the softmax function.<br>\n",
    "\n",
    "We train this model for $1000$ iterations with $100$ randomly drawn training samples.<br>\n",
    "In each iteration, we compute the accuracy on the current training set, the complete training set and the test set.<br>\n",
    "We use a learning rate of $0.1$.<br>\n",
    "We initialize the weights with [the truncated normal distributon](https://www.tensorflow.org/api_docs/python/tf/random/truncated_normal). This way, the weights are randomly distributed. If we initialize the weights with $0$, the training will get stuck, because the weights are updated with the gradient, and if we initialize the weights with $0$, then the gradients for varying training examples will contradict each other."
   ]
  },
  {
   "cell_type": "code",
   "execution_count": 7,
   "metadata": {},
   "outputs": [],
   "source": [
    "x_tf = tf.placeholder( tf.float32, shape = [ None, 28 * 28 ] )\n",
    "\n",
    "y_tf = tf.placeholder( tf.float32, shape = [ None, 10 ] )\n",
    "\n",
    "\n",
    "\n",
    "\n",
    "W_tf_1 = tf.Variable( tf.truncated_normal( [ 28 * 28, 28 * 28 ] ) )\n",
    "\n",
    "b_tf_1 = tf.Variable( tf.truncated_normal( [ 28 * 28 ] ) )\n",
    "\n",
    "layer_2 = tf.nn.leaky_relu( tf.matmul( x_tf, W_tf_1 ) + b_tf_1 )\n",
    "\n",
    "\n",
    "\n",
    "\n",
    "W_tf_2 = tf.Variable( tf.truncated_normal( [ 28 * 28, 10 ] ) )\n",
    "\n",
    "b_tf_2 = tf.Variable( tf.truncated_normal( [ 10 ] ) )\n",
    "\n",
    "layer_3 = tf.nn.leaky_relu( tf.matmul( layer_2, W_tf_2 ) + b_tf_2 )\n",
    "\n",
    "\n",
    "\n",
    "\n",
    "cross_entropy = tf.reduce_mean( tf.nn.softmax_cross_entropy_with_logits_v2( logits = layer_3, labels = y_tf ) )\n",
    "\n",
    "\n",
    "\n",
    "\n",
    "gd = tf.train.GradientDescentOptimizer( 0.1 ).minimize( cross_entropy )\n",
    "\n",
    "\n",
    "\n",
    "hit = tf.equal( tf.argmax( layer_3, 1 ), tf.argmax( y_tf, 1 ) )\n",
    "\n",
    "\n",
    "\n",
    "accuracy = 100 * tf.reduce_mean( tf.cast( hit, tf.float32 ) )"
   ]
  },
  {
   "cell_type": "code",
   "execution_count": 8,
   "metadata": {},
   "outputs": [],
   "source": [
    "sess = tf.Session()\n",
    "\n",
    "progress_train = []\n",
    "\n",
    "progress_train_current = []\n",
    "\n",
    "progress_test = []\n",
    " \n",
    "    \n",
    "    \n",
    "sess.run( tf.global_variables_initializer() )\n",
    "        \n",
    "for i in range( 1000 ):\n",
    "                \n",
    "    random_integers = np.random.choice( range( 60000 ), 100, replace = False )\n",
    "                \n",
    "    local_x = train_x[ random_integers, : ]\n",
    "    \n",
    "    local_y = train_y[ random_integers, : ]\n",
    "        \n",
    "    sess.run( gd, feed_dict = { x_tf : local_x, y_tf : local_y } )\n",
    "        \n",
    "    progress_train.append( sess.run( accuracy, feed_dict = { x_tf : train_x, y_tf : train_y } ) )\n",
    "        \n",
    "    progress_train_current.append( sess.run( accuracy, feed_dict = { x_tf : local_x, y_tf : local_y } ) )\n",
    "        \n",
    "    progress_test.append( sess.run( accuracy, feed_dict = { x_tf : test_x, y_tf : test_y } ) )"
   ]
  },
  {
   "cell_type": "code",
   "execution_count": 9,
   "metadata": {},
   "outputs": [
    {
     "data": {
      "text/plain": [
       "Text(0,0.5,'Accuracy (%)')"
      ]
     },
     "execution_count": 9,
     "metadata": {},
     "output_type": "execute_result"
    },
    {
     "data": {
      "image/png": "[encoded data removed]",
      "text/plain": [
       "<Figure size 432x288 with 1 Axes>"
      ]
     },
     "metadata": {},
     "output_type": "display_data"
    }
   ],
   "source": [
    "plt.plot( progress_train_current, label = 'Accuracy on current Training Set' )\n",
    "\n",
    "plt.plot( progress_train, label = 'Accuracy on complete Training Set' )\n",
    "\n",
    "plt.plot( progress_test, label = 'Accuracy on Test Set' )\n",
    "\n",
    "plt.legend( loc = 'best' )\n",
    "\n",
    "plt.xlabel( 'Iterations (-)' )\n",
    "\n",
    "plt.ylabel( 'Accuracy (%)' )"
   ]
  },
  {
   "cell_type": "markdown",
   "metadata": {},
   "source": [
    "So, we achieved a decent recognition rate. Let us save the model.<br>\n",
    "For this, we employ [the Saver](https://www.tensorflow.org/api_docs/python/tf/train/Saver)."
   ]
  },
  {
   "cell_type": "code",
   "execution_count": 10,
   "metadata": {},
   "outputs": [
    {
     "data": {
      "text/plain": [
       "'C:\\\\Users\\\\Robert\\\\Desktop\\\\python\\\\python 3\\\\github\\\\lesson_0014\\\\neural_network_1000'"
      ]
     },
     "execution_count": 10,
     "metadata": {},
     "output_type": "execute_result"
    }
   ],
   "source": [
    "saver = tf.train.Saver()\n",
    "\n",
    "saver.save( sess, \"C:\\\\Users\\\\Robert\\\\Desktop\\\\python\\\\python 3\\\\github\\\\lesson_0014\\\\neural_network_1000\" )"
   ]
  },
  {
   "cell_type": "markdown",
   "metadata": {},
   "source": [
    "Now, we close the session __sess__, and try to predict some data."
   ]
  },
  {
   "cell_type": "code",
   "execution_count": 11,
   "metadata": {},
   "outputs": [],
   "source": [
    "sess.close()"
   ]
  },
  {
   "cell_type": "code",
   "execution_count": 12,
   "metadata": {},
   "outputs": [
    {
     "ename": "RuntimeError",
     "evalue": "Attempted to use a closed Session.",
     "output_type": "error",
     "traceback": [
      "\u001b[1;31m---------------------------------------------------------------------------\u001b[0m",
      "\u001b[1;31mRuntimeError\u001b[0m                              Traceback (most recent call last)",
      "\u001b[1;32m<ipython-input-12-73b87596555f>\u001b[0m in \u001b[0;36m<module>\u001b[1;34m()\u001b[0m\n\u001b[1;32m----> 1\u001b[1;33m \u001b[0msess\u001b[0m\u001b[1;33m.\u001b[0m\u001b[0mrun\u001b[0m\u001b[1;33m(\u001b[0m \u001b[0maccuracy\u001b[0m\u001b[1;33m,\u001b[0m \u001b[0mfeed_dict\u001b[0m \u001b[1;33m=\u001b[0m \u001b[1;33m{\u001b[0m \u001b[0mx_tf\u001b[0m \u001b[1;33m:\u001b[0m \u001b[0mtest_x\u001b[0m\u001b[1;33m,\u001b[0m \u001b[0my_tf\u001b[0m \u001b[1;33m:\u001b[0m \u001b[0mtest_y\u001b[0m \u001b[1;33m}\u001b[0m \u001b[1;33m)\u001b[0m\u001b[1;33m\u001b[0m\u001b[0m\n\u001b[0m",
      "\u001b[1;32m~\\Anaconda3\\lib\\site-packages\\tensorflow\\python\\client\\session.py\u001b[0m in \u001b[0;36mrun\u001b[1;34m(self, fetches, feed_dict, options, run_metadata)\u001b[0m\n\u001b[0;32m    927\u001b[0m     \u001b[1;32mtry\u001b[0m\u001b[1;33m:\u001b[0m\u001b[1;33m\u001b[0m\u001b[0m\n\u001b[0;32m    928\u001b[0m       result = self._run(None, fetches, feed_dict, options_ptr,\n\u001b[1;32m--> 929\u001b[1;33m                          run_metadata_ptr)\n\u001b[0m\u001b[0;32m    930\u001b[0m       \u001b[1;32mif\u001b[0m \u001b[0mrun_metadata\u001b[0m\u001b[1;33m:\u001b[0m\u001b[1;33m\u001b[0m\u001b[0m\n\u001b[0;32m    931\u001b[0m         \u001b[0mproto_data\u001b[0m \u001b[1;33m=\u001b[0m \u001b[0mtf_session\u001b[0m\u001b[1;33m.\u001b[0m\u001b[0mTF_GetBuffer\u001b[0m\u001b[1;33m(\u001b[0m\u001b[0mrun_metadata_ptr\u001b[0m\u001b[1;33m)\u001b[0m\u001b[1;33m\u001b[0m\u001b[0m\n",
      "\u001b[1;32m~\\Anaconda3\\lib\\site-packages\\tensorflow\\python\\client\\session.py\u001b[0m in \u001b[0;36m_run\u001b[1;34m(self, handle, fetches, feed_dict, options, run_metadata)\u001b[0m\n\u001b[0;32m   1073\u001b[0m     \u001b[1;31m# Check session.\u001b[0m\u001b[1;33m\u001b[0m\u001b[1;33m\u001b[0m\u001b[0m\n\u001b[0;32m   1074\u001b[0m     \u001b[1;32mif\u001b[0m \u001b[0mself\u001b[0m\u001b[1;33m.\u001b[0m\u001b[0m_closed\u001b[0m\u001b[1;33m:\u001b[0m\u001b[1;33m\u001b[0m\u001b[0m\n\u001b[1;32m-> 1075\u001b[1;33m       \u001b[1;32mraise\u001b[0m \u001b[0mRuntimeError\u001b[0m\u001b[1;33m(\u001b[0m\u001b[1;34m'Attempted to use a closed Session.'\u001b[0m\u001b[1;33m)\u001b[0m\u001b[1;33m\u001b[0m\u001b[0m\n\u001b[0m\u001b[0;32m   1076\u001b[0m     \u001b[1;32mif\u001b[0m \u001b[0mself\u001b[0m\u001b[1;33m.\u001b[0m\u001b[0mgraph\u001b[0m\u001b[1;33m.\u001b[0m\u001b[0mversion\u001b[0m \u001b[1;33m==\u001b[0m \u001b[1;36m0\u001b[0m\u001b[1;33m:\u001b[0m\u001b[1;33m\u001b[0m\u001b[0m\n\u001b[0;32m   1077\u001b[0m       raise RuntimeError('The Session graph is empty.  Add operations to the '\n",
      "\u001b[1;31mRuntimeError\u001b[0m: Attempted to use a closed Session."
     ]
    }
   ],
   "source": [
    "sess.run( accuracy, feed_dict = { x_tf : test_x, y_tf : test_y } )"
   ]
  },
  {
   "cell_type": "markdown",
   "metadata": {},
   "source": [
    "This tells us, that the session is closed, and that we can't access the neural network anymore.<br>\n",
    "Luckily, we can restore the session."
   ]
  },
  {
   "cell_type": "code",
   "execution_count": 13,
   "metadata": {},
   "outputs": [
    {
     "name": "stdout",
     "output_type": "stream",
     "text": [
      "INFO:tensorflow:Restoring parameters from C:\\Users\\Robert\\Desktop\\python\\python 3\\github\\lesson_0014\\neural_network_1000\n"
     ]
    }
   ],
   "source": [
    "sess = tf.Session()\n",
    "\n",
    "saver.restore( sess, \"C:\\\\Users\\\\Robert\\\\Desktop\\\\python\\\\python 3\\\\github\\\\lesson_0014\\\\neural_network_1000\" )"
   ]
  },
  {
   "cell_type": "markdown",
   "metadata": {},
   "source": [
    "Now, we do the following: we continue training the restored neural network. We train for another $9000$ iterations.<br>\n",
    "But we check every $500$ iterations whether the performance on the test set increased on average. If so, we save the model, else, we break."
   ]
  },
  {
   "cell_type": "code",
   "execution_count": 14,
   "metadata": {},
   "outputs": [],
   "source": [
    "for i in range( 9000 ):\n",
    "                \n",
    "    random_integers = np.random.choice( range( 60000 ), 100, replace = False )\n",
    "                \n",
    "    local_x = train_x[ random_integers, : ]\n",
    "    \n",
    "    local_y = train_y[ random_integers, : ]\n",
    "        \n",
    "    sess.run( gd, feed_dict = { x_tf : local_x, y_tf : local_y } )\n",
    "        \n",
    "    progress_train.append( sess.run( accuracy, feed_dict = { x_tf : train_x, y_tf : train_y } ) )\n",
    "        \n",
    "    progress_train_current.append( sess.run( accuracy, feed_dict = { x_tf : local_x, y_tf : local_y } ) )\n",
    "        \n",
    "    progress_test.append( sess.run( accuracy, feed_dict = { x_tf : test_x, y_tf : test_y } ) )\n",
    "    \n",
    "    if ( i % 500 ) == 0:\n",
    "        \n",
    "        if ( np.mean( progress_test[ ( i - 500 ) : ( i - 1 ) ] ) > np.mean( progress_test[ ( i - 1000 ) : ( i - 501 ) ] ) ):\n",
    "            \n",
    "            saver.save( sess, \"C:\\\\Users\\\\Robert\\\\Desktop\\\\python\\\\python 3\\\\github\\\\lesson_0014\\\\neural_network_\" + \n",
    "                       str( i + 1000 ) )\n",
    "            \n",
    "        else:\n",
    "            \n",
    "            break"
   ]
  },
  {
   "cell_type": "code",
   "execution_count": 15,
   "metadata": {},
   "outputs": [
    {
     "data": {
      "text/plain": [
       "Text(0,0.5,'Accuracy (%)')"
      ]
     },
     "execution_count": 15,
     "metadata": {},
     "output_type": "execute_result"
    },
    {
     "data": {
      "image/png": "[encoded data removed]",
      "text/plain": [
       "<Figure size 432x288 with 1 Axes>"
      ]
     },
     "metadata": {},
     "output_type": "display_data"
    }
   ],
   "source": [
    "plt.plot( progress_train_current, label = 'Accuracy on current Training Set' )\n",
    "\n",
    "plt.plot( progress_train, label = 'Accuracy on complete Training Set' )\n",
    "\n",
    "plt.plot( progress_test, label = 'Accuracy on Test Set' )\n",
    "\n",
    "plt.legend( loc = 'best' )\n",
    "\n",
    "plt.xlabel( 'Iterations (-)' )\n",
    "\n",
    "plt.ylabel( 'Accuracy (%)' )"
   ]
  },
  {
   "cell_type": "code",
   "execution_count": 16,
   "metadata": {},
   "outputs": [],
   "source": [
    "sess.close()"
   ]
  },
  {
   "cell_type": "markdown",
   "metadata": {},
   "source": [
    "We did not improve on the test set, so we close the session __sess__.<br>\n",
    "If we look closely, we notice, that the performance on the training set starts getting better than the performance  on the test set. This is called __overfitting__. And __overfitting__ is great.<br>\n",
    "__Overfitting__ is bad, because the performance can only improve on the training set and remain constant on the test set, if the model starts learning the noise in the training set. But this only happens, when the model has learnt everything it can learn from the training set that is also valid in the test set. Therefore: we should always train neural models until they start to overfit, and then abort the training.<br>\n",
    "Class dismissed."
   ]
  }
 ],
 "metadata": {
  "kernelspec": {
   "display_name": "Python 3",
   "language": "python",
   "name": "python3"
  },
  "language_info": {
   "codemirror_mode": {
    "name": "ipython",
    "version": 3
   },
   "file_extension": ".py",
   "mimetype": "text/x-python",
   "name": "python",
   "nbconvert_exporter": "python",
   "pygments_lexer": "ipython3",
   "version": "3.6.5"
  }
 },
 "nbformat": 4,
 "nbformat_minor": 2
}
