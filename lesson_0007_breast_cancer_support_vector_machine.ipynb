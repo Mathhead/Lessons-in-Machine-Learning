{
 "cells": [
  {
   "cell_type": "markdown",
   "metadata": {},
   "source": [
    "# Lesson 0007 - breast cancer support vector machines classification\n",
    "We assume, that the reader has worked through all the previous lessons.<br>\n",
    "In this lesson, we perform on the breast cancer data set from [lesson 0006](https://github.com/Mathhead/Lessons-in-Machine-Learning/blob/master/lesson_0006_breast_cancer_linear_classifier_fine_tuning.ipynb) classification using support vector machines.<br>\n",
    "The preparation of the data can be stolen from lesson 0006.<br>\n",
    "Please note, that the support vector machine expects 1-dimensional classification data, therefore __train_y__ and __test_y__ need to be 1-dimensional."
   ]
  },
  {
   "cell_type": "code",
   "execution_count": 1,
   "metadata": {},
   "outputs": [
    {
     "name": "stdout",
     "output_type": "stream",
     "text": [
      "0.19.1\n"
     ]
    }
   ],
   "source": [
    "import sklearn as sklearn\n",
    "from sklearn.datasets import load_breast_cancer as lbc\n",
    "\n",
    "print( sklearn.__version__ )"
   ]
  },
  {
   "cell_type": "code",
   "execution_count": 2,
   "metadata": {},
   "outputs": [
    {
     "name": "stdout",
     "output_type": "stream",
     "text": [
      "1.14.3\n"
     ]
    }
   ],
   "source": [
    "data = lbc()\n",
    "\n",
    "data_x = data.data\n",
    "\n",
    "data_y = data.target\n",
    "\n",
    "\n",
    "\n",
    "\n",
    "\n",
    "import numpy as np\n",
    "\n",
    "np.random.seed( 1234567890 )\n",
    "\n",
    "print( np.__version__ )"
   ]
  },
  {
   "cell_type": "code",
   "execution_count": 3,
   "metadata": {},
   "outputs": [],
   "source": [
    "train_x = np.zeros( shape = [ 400, 30 ] )\n",
    "\n",
    "train_y = np.zeros( shape = [ 400 ] )\n",
    "\n",
    "test_x = np.zeros( shape = [ 169, 30 ] )\n",
    "\n",
    "test_y = np.zeros( shape = [ 169 ] )\n",
    "\n",
    "\n",
    "\n",
    "random_integers = np.random.choice( range( 569 ), 400, replace = False )\n",
    "\n",
    "random_integers = np.sort( random_integers )\n",
    "\n",
    "\n",
    "\n",
    "j = 0\n",
    "\n",
    "k = 0\n",
    "\n",
    "\n",
    "\n",
    "for i in range( 569 ):\n",
    "    \n",
    "    if i == random_integers[ j ]:\n",
    "        \n",
    "        train_x[ j, : ] = data_x[ i, : ]\n",
    "        \n",
    "        train_y[ j ] = data_y[ i ]\n",
    "        \n",
    "        j = j + 1\n",
    "        \n",
    "        if j == 400:\n",
    "            \n",
    "            j = 0\n",
    "            \n",
    "    else:\n",
    "        \n",
    "        test_x[ k, : ] = data_x[ i, : ]\n",
    "        \n",
    "        test_y[ k ] = data_y[ i ]\n",
    "        \n",
    "        k = k + 1\n",
    "        \n",
    "        \n",
    "        \n",
    "        \n",
    "mu = np.zeros( shape = [ 30 ] )\n",
    "\n",
    "sigma = np.zeros( shape = [ 30 ] )\n",
    "\n",
    "\n",
    "\n",
    "\n",
    "for i in range( 30 ):\n",
    "    \n",
    "    mu[ i ] = np.mean( train_x[ :, i ] )\n",
    "    \n",
    "    sigma[ i ] = np.std( train_x[ :, i ] )\n",
    "    \n",
    "    \n",
    "    \n",
    "    \n",
    "for i in range( 30 ):\n",
    "    \n",
    "    train_x[ :, i ] = ( train_x[ :, i ] - mu[ i ] ) / sigma[ i ]\n",
    "    \n",
    "    test_x[ :, i ] = ( test_x[ :, i ] - mu[ i ] ) / sigma[ i ]"
   ]
  },
  {
   "cell_type": "markdown",
   "metadata": {},
   "source": [
    "Now we steal the code for the support vector machine from [lesson 0002](https://github.com/Mathhead/Lessons-in-Machine-Learning/blob/master/lesson_0002_support_vector_machines_classification.ipynb)."
   ]
  },
  {
   "cell_type": "code",
   "execution_count": 4,
   "metadata": {},
   "outputs": [],
   "source": [
    "from sklearn.svm import SVC as SVC"
   ]
  },
  {
   "cell_type": "markdown",
   "metadata": {},
   "source": [
    "We use __SVC__ straight out of the box.<br>\n",
    "We train the model __svc__, store the correctly predicted data in __hit__ and compute the accuracy of that model in __accuracy__."
   ]
  },
  {
   "cell_type": "code",
   "execution_count": 5,
   "metadata": {},
   "outputs": [
    {
     "name": "stdout",
     "output_type": "stream",
     "text": [
      "The out of the box model reached an accuracy of 96.0%\n"
     ]
    }
   ],
   "source": [
    "svc = SVC()\n",
    "\n",
    "svc.fit( train_x, train_y )\n",
    "\n",
    "hit = ( svc.predict( test_x ) == test_y )\n",
    "\n",
    "accuracy = 0.0\n",
    "\n",
    "for i in range( 50 ):\n",
    "    \n",
    "    if hit[ i ]:\n",
    "        \n",
    "        accuracy = accuracy + 1.0\n",
    "        \n",
    "accuracy = accuracy * 2.0\n",
    "\n",
    "print( 'The out of the box model reached an accuracy of ' + str( accuracy ) + '%' )"
   ]
  },
  {
   "cell_type": "markdown",
   "metadata": {},
   "source": [
    "With an accuarcy of $96\\%$ and a test set size of less than $170$, we have less than $7$ items missclassified, so there is hardly room for improvement. Therefore<br>\n",
    "Class dismissed."
   ]
  }
 ],
 "metadata": {
  "kernelspec": {
   "display_name": "Python 3",
   "language": "python",
   "name": "python3"
  },
  "language_info": {
   "codemirror_mode": {
    "name": "ipython",
    "version": 3
   },
   "file_extension": ".py",
   "mimetype": "text/x-python",
   "name": "python",
   "nbconvert_exporter": "python",
   "pygments_lexer": "ipython3",
   "version": "3.6.5"
  }
 },
 "nbformat": 4,
 "nbformat_minor": 2
}
