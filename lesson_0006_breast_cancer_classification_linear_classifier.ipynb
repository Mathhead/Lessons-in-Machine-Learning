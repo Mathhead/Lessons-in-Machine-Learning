{
 "cells": [
  {
   "cell_type": "markdown",
   "metadata": {},
   "source": [
    "# Lesson 0006 - Breast Cancer Classification Linear Classifier\n",
    "We assume, that the reader has worked through all the previous lessons.<br>\n",
    "In this lesson, we introduce a new dataset.<br>\n",
    "First, we will load this data set, then we will perform exploratory analysis on this data, then, we will train a linear classifier on this data set, which we later will improve by fine tuning.<br>\n",
    "We begin by loading the [breast cancer data set](https://scikit-learn.org/stable/modules/generated/sklearn.datasets.load_breast_cancer.html#sklearn.datasets.load_breast_cancer) and printing the version number of sklearn:"
   ]
  },
  {
   "cell_type": "code",
   "execution_count": 1,
   "metadata": {},
   "outputs": [
    {
     "name": "stdout",
     "output_type": "stream",
     "text": [
      "0.19.1\n"
     ]
    }
   ],
   "source": [
    "import sklearn as sklearn\n",
    "from sklearn.datasets import load_breast_cancer as lbc\n",
    "\n",
    "print( sklearn.__version__ )"
   ]
  },
  {
   "cell_type": "markdown",
   "metadata": {},
   "source": [
    "We now load the dataset and store it in __data__.<br>\n",
    "We then extract the features and store them in __data_x__ and the target and store them in __data_y__."
   ]
  },
  {
   "cell_type": "code",
   "execution_count": 2,
   "metadata": {},
   "outputs": [],
   "source": [
    "data = lbc()\n",
    "\n",
    "data_x = data.data\n",
    "\n",
    "data_y = data.target"
   ]
  },
  {
   "cell_type": "markdown",
   "metadata": {},
   "source": [
    "We start our exploratory analysis by printing the first item of __data_x__:"
   ]
  },
  {
   "cell_type": "code",
   "execution_count": 3,
   "metadata": {},
   "outputs": [
    {
     "name": "stdout",
     "output_type": "stream",
     "text": [
      "[1.799e+01 1.038e+01 1.228e+02 1.001e+03 1.184e-01 2.776e-01 3.001e-01\n",
      " 1.471e-01 2.419e-01 7.871e-02 1.095e+00 9.053e-01 8.589e+00 1.534e+02\n",
      " 6.399e-03 4.904e-02 5.373e-02 1.587e-02 3.003e-02 6.193e-03 2.538e+01\n",
      " 1.733e+01 1.846e+02 2.019e+03 1.622e-01 6.656e-01 7.119e-01 2.654e-01\n",
      " 4.601e-01 1.189e-01]\n"
     ]
    }
   ],
   "source": [
    "print( data_x[ 0 ] )"
   ]
  },
  {
   "cell_type": "markdown",
   "metadata": {},
   "source": [
    "Seems like we got numerical data in __data_x__.<br>\n",
    "But let's do the counting of dimensions by Python:"
   ]
  },
  {
   "cell_type": "code",
   "execution_count": 4,
   "metadata": {},
   "outputs": [
    {
     "name": "stdout",
     "output_type": "stream",
     "text": [
      "30\n"
     ]
    }
   ],
   "source": [
    "print( len( data_x[ 0 ] ) )"
   ]
  },
  {
   "cell_type": "markdown",
   "metadata": {},
   "source": [
    "So we got $30$ dimensions of numerical data in __data_x__. How about __data_y__?"
   ]
  },
  {
   "cell_type": "code",
   "execution_count": 5,
   "metadata": {},
   "outputs": [
    {
     "name": "stdout",
     "output_type": "stream",
     "text": [
      "0\n"
     ]
    }
   ],
   "source": [
    "print( data_y[ 0 ] )"
   ]
  },
  {
   "cell_type": "markdown",
   "metadata": {},
   "source": [
    "The data in __data_y__ are 1-dimensional, but we have no idea, how many classes there are.<br>\n",
    "Let's import NumPy and use its function unique to determine the number of classes.<br> \n",
    "Also, we will print the version number of NumPy and set a seed for reproducability."
   ]
  },
  {
   "cell_type": "code",
   "execution_count": 6,
   "metadata": {},
   "outputs": [
    {
     "name": "stdout",
     "output_type": "stream",
     "text": [
      "1.14.3\n"
     ]
    }
   ],
   "source": [
    "import numpy as np\n",
    "\n",
    "np.random.seed( 1234567890 )\n",
    "\n",
    "print( np.__version__ )"
   ]
  },
  {
   "cell_type": "code",
   "execution_count": 7,
   "metadata": {},
   "outputs": [
    {
     "name": "stdout",
     "output_type": "stream",
     "text": [
      "[0 1]\n"
     ]
    }
   ],
   "source": [
    "print( np.unique( data_y ) )"
   ]
  },
  {
   "cell_type": "markdown",
   "metadata": {},
   "source": [
    "Ok, we got $2$ classes, but how many data points?"
   ]
  },
  {
   "cell_type": "code",
   "execution_count": 8,
   "metadata": {},
   "outputs": [
    {
     "name": "stdout",
     "output_type": "stream",
     "text": [
      "569\n"
     ]
    }
   ],
   "source": [
    "print( len( data_y ) )"
   ]
  },
  {
   "cell_type": "markdown",
   "metadata": {},
   "source": [
    "Since we have $30$ dimensions in __data_x__, plotting is not really an option.<br>\n",
    "Therefore, we will continue by splitting the data into a training set of $400$ items and the rest is for testing.<br>\n",
    "Then we will standardize the data."
   ]
  },
  {
   "cell_type": "code",
   "execution_count": 9,
   "metadata": {},
   "outputs": [],
   "source": [
    "train_x = np.zeros( shape = [ 400, 30 ] )\n",
    "\n",
    "train_y = np.zeros( shape = [ 400, 2 ] )\n",
    "\n",
    "test_x = np.zeros( shape = [ 169, 30 ] )\n",
    "\n",
    "test_y = np.zeros( shape = [ 169, 2 ] )\n",
    "\n",
    "\n",
    "\n",
    "random_integers = np.random.choice( range( 569 ), 400, replace = False )\n",
    "\n",
    "random_integers = np.sort( random_integers )\n",
    "\n",
    "\n",
    "\n",
    "j = 0\n",
    "\n",
    "k = 0\n",
    "\n",
    "\n",
    "\n",
    "for i in range( 569 ):\n",
    "    \n",
    "    if i == random_integers[ j ]:\n",
    "        \n",
    "        train_x[ j, : ] = data_x[ i, : ]\n",
    "        \n",
    "        train_y[ j, data_y[ i ] ] = 1.0\n",
    "        \n",
    "        j = j + 1\n",
    "        \n",
    "        if j == 400:\n",
    "            \n",
    "            j = 0\n",
    "            \n",
    "    else:\n",
    "        \n",
    "        test_x[ k, : ] = data_x[ i, : ]\n",
    "        \n",
    "        test_y[ k, data_y[ i ] ] = 1.0\n",
    "        \n",
    "        k = k + 1\n",
    "        \n",
    "        \n",
    "        \n",
    "        \n",
    "mu = np.zeros( shape = [ 30 ] )\n",
    "\n",
    "sigma = np.zeros( shape = [ 30 ] )\n",
    "\n",
    "\n",
    "\n",
    "\n",
    "for i in range( 30 ):\n",
    "    \n",
    "    mu[ i ] = np.mean( train_x[ :, i ] )\n",
    "    \n",
    "    sigma[ i ] = np.std( train_x[ :, i ] )\n",
    "    \n",
    "    \n",
    "    \n",
    "    \n",
    "for i in range( 30 ):\n",
    "    \n",
    "    train_x[ :, i ] = ( train_x[ :, i ] - mu[ i ] ) / sigma[ i ]\n",
    "    \n",
    "    test_x[ :, i ] = ( test_x[ :, i ] - mu[ i ] ) / sigma[ i ]"
   ]
  },
  {
   "cell_type": "markdown",
   "metadata": {},
   "source": [
    "Now, we basically steal the code for the linear classifier from [lesson 0001](https://github.com/Mathhead/Lessons-in-Machine-Learning/blob/master/lesson_0001_iris_classification_linear_classifier.ipynb).<br>\n",
    "We start by importing tensorflow, printing the version number and setting the random seed."
   ]
  },
  {
   "cell_type": "code",
   "execution_count": 10,
   "metadata": {},
   "outputs": [
    {
     "name": "stderr",
     "output_type": "stream",
     "text": [
      "C:\\Users\\Robert\\Anaconda3\\lib\\site-packages\\h5py\\__init__.py:36: FutureWarning: Conversion of the second argument of issubdtype from `float` to `np.floating` is deprecated. In future, it will be treated as `np.float64 == np.dtype(float).type`.\n",
      "  from ._conv import register_converters as _register_converters\n"
     ]
    },
    {
     "name": "stdout",
     "output_type": "stream",
     "text": [
      "1.12.0\n"
     ]
    }
   ],
   "source": [
    "import tensorflow as tf\n",
    "\n",
    "tf.random.set_random_seed( 1234567890 )\n",
    "\n",
    "print( tf.__version__ )"
   ]
  },
  {
   "cell_type": "code",
   "execution_count": 11,
   "metadata": {},
   "outputs": [],
   "source": [
    "x_tf = tf.placeholder( tf.float32, shape = [ None, 30 ] )\n",
    "\n",
    "y_tf = tf.placeholder( tf.float32, shape = [ None, 2 ] )\n",
    "\n",
    "W_tf = tf.Variable( tf.zeros( [ 30, 2 ] ) )\n",
    "\n",
    "b_tf = tf.Variable( tf.zeros( [ 2 ] ) )\n",
    "\n",
    "classifier = tf.matmul( x_tf, W_tf ) + b_tf\n",
    "\n",
    "\n",
    "\n",
    "cross_entropy = tf.reduce_mean( tf.nn.softmax_cross_entropy_with_logits_v2( logits = classifier, labels = y_tf ) )\n",
    "\n",
    "\n",
    "\n",
    "gd = tf.train.GradientDescentOptimizer( 1e-4 ).minimize( cross_entropy )\n",
    "\n",
    "\n",
    "\n",
    "hit = tf.equal( tf.argmax( classifier, 1 ), tf.argmax( y_tf, 1 ) )\n",
    "\n",
    "\n",
    "\n",
    "accuracy = 100 * tf.reduce_mean( tf.cast( hit, tf.float32 ) )"
   ]
  },
  {
   "cell_type": "code",
   "execution_count": 12,
   "metadata": {},
   "outputs": [],
   "source": [
    "progress_train_s = []\n",
    "\n",
    "progress_train = []\n",
    "\n",
    "progress_test = []\n",
    "\n",
    "\n",
    "sess = tf.Session()\n",
    "\n",
    "sess.run( tf.global_variables_initializer() )\n",
    "\n",
    "for i in range( 500 ):\n",
    "    \n",
    "    random_integers = np.random.choice( range( 400 ), 30, replace = False )\n",
    "    \n",
    "    local_x = train_x[ random_integers, : ]\n",
    "    \n",
    "    local_y = train_y[ random_integers, : ]\n",
    "    \n",
    "    sess.run( gd, feed_dict = { x_tf : local_x, y_tf : local_y } )\n",
    "    \n",
    "    progress_train_s.append( sess.run( accuracy, feed_dict = { x_tf : local_x, y_tf : local_y } ) )\n",
    "    \n",
    "    progress_train.append( sess.run( accuracy, feed_dict = { x_tf : train_x, y_tf : train_y } ) )\n",
    "    \n",
    "    progress_test.append( sess.run( accuracy, feed_dict = { x_tf : test_x, y_tf : test_y } ) )\n",
    "    \n",
    "    \n",
    "sess.close()"
   ]
  },
  {
   "cell_type": "markdown",
   "metadata": {},
   "source": [
    "We have basically reproduced [lesson 0001](https://github.com/Mathhead/Lessons-in-Machine-Learning/blob/master/lesson_0001_iris_classification_linear_classifier.ipynb).<br>\n",
    "Let us import matplotlib and print the version number."
   ]
  },
  {
   "cell_type": "code",
   "execution_count": 13,
   "metadata": {},
   "outputs": [
    {
     "name": "stdout",
     "output_type": "stream",
     "text": [
      "2.2.2\n"
     ]
    }
   ],
   "source": [
    "import matplotlib\n",
    "import matplotlib.pyplot as plt\n",
    "\n",
    "print( matplotlib.__version__ )"
   ]
  },
  {
   "cell_type": "code",
   "execution_count": 14,
   "metadata": {},
   "outputs": [
    {
     "data": {
      "text/plain": [
       "Text(0,0.5,'Accuracy (%)')"
      ]
     },
     "execution_count": 14,
     "metadata": {},
     "output_type": "execute_result"
    },
    {
     "data": {
      "image/png": "[encoded data removed]",
      "text/plain": [
       "<Figure size 432x288 with 1 Axes>"
      ]
     },
     "metadata": {},
     "output_type": "display_data"
    }
   ],
   "source": [
    "plt.plot( progress_train_s, label = 'Accuracy on current Training Set' )\n",
    "\n",
    "plt.plot( progress_train, label = 'Accuracy on complete Training Set' )\n",
    "\n",
    "plt.plot( progress_test, label = 'Accuracy on Test Set' )\n",
    "\n",
    "plt.legend( loc = 'best' )\n",
    "\n",
    "plt.xlabel( 'Iterations (-)' )\n",
    "\n",
    "plt.ylabel( 'Accuracy (%)' )"
   ]
  },
  {
   "cell_type": "markdown",
   "metadata": {},
   "source": [
    "We notice, that after the first $100$ iterations, the accuracy does not improve.<br>\n",
    "Therefore, we will perform a grid search for the best parameters.<br>\n",
    "We will consider training set sizes between $10$ and $150$ and learning rates between $1e-8$ and $1$.<br>\n",
    "We will perform with each combination $100$ iterations and evaluate the accuracy.<br>\n",
    "For this end, we will define a new model.<br>\n",
    "Also, we split the training set into a training set for the optimization of size $300$, one validation set of size $100$ to evaluate the performance of a given combination."
   ]
  },
  {
   "cell_type": "code",
   "execution_count": 15,
   "metadata": {},
   "outputs": [],
   "source": [
    "train_x_2 = np.zeros( shape = [ 300, 30 ] )\n",
    "\n",
    "train_y_2 = np.zeros( shape = [ 300, 2 ] )\n",
    "\n",
    "val_x_2 = np.zeros( shape = [ 100, 30 ] )\n",
    "\n",
    "val_y_2 = np.zeros( shape = [ 100, 2 ] )\n",
    "\n",
    "\n",
    "\n",
    "\n",
    "\n",
    "random_integers = np.random.choice( range( 400 ), 300, replace = False )\n",
    "\n",
    "random_integers = np.sort( random_integers )\n",
    "\n",
    "\n",
    "\n",
    "\n",
    "j = 0\n",
    "\n",
    "k = 0\n",
    "\n",
    "\n",
    "\n",
    "for i in range( 400 ):\n",
    "    \n",
    "    if i == random_integers[ j ]:\n",
    "        \n",
    "        train_x_2[ j, : ] = train_x[ i, : ]\n",
    "        \n",
    "        train_y_2[ j, : ] = train_y[ i, : ]\n",
    "        \n",
    "        j = j + 1\n",
    "        \n",
    "        if j == 300:\n",
    "            \n",
    "            j = 0\n",
    "            \n",
    "    else:\n",
    "        \n",
    "        val_x_2[ k, : ] = train_x[ i, : ]\n",
    "        \n",
    "        val_y_2[ k, : ] = train_y[ i, : ]\n",
    "        \n",
    "        k = k + 1"
   ]
  },
  {
   "cell_type": "code",
   "execution_count": 16,
   "metadata": {},
   "outputs": [],
   "source": [
    "x_tf_2 = tf.placeholder( tf.float32, shape = [ None, 30 ] )\n",
    "\n",
    "y_tf_2 = tf.placeholder( tf.float32, shape = [ None, 2 ] )\n",
    "\n",
    "learning_rate_tf = tf.placeholder( tf.float32 )\n",
    "\n",
    "W_tf_2 = tf.Variable( tf.zeros( [ 30, 2 ] ) )\n",
    "\n",
    "b_tf_2 = tf.Variable( tf.zeros( [ 2 ] ) )\n",
    "\n",
    "classifier_2 = tf.matmul( x_tf_2, W_tf_2 ) + b_tf_2\n",
    "\n",
    "\n",
    "\n",
    "cross_entropy_2 = tf.reduce_mean( tf.nn.softmax_cross_entropy_with_logits_v2( logits = classifier_2, labels = y_tf_2 ) )\n",
    "\n",
    "\n",
    "\n",
    "gd_2 = tf.train.GradientDescentOptimizer( learning_rate_tf ).minimize( cross_entropy_2 )\n",
    "\n",
    "\n",
    "\n",
    "hit_2 = tf.equal( tf.argmax( classifier_2, 1 ), tf.argmax( y_tf_2, 1 ) )\n",
    "\n",
    "\n",
    "\n",
    "accuracy_2 = 100 * tf.reduce_mean( tf.cast( hit_2, tf.float32 ) )"
   ]
  },
  {
   "cell_type": "code",
   "execution_count": 17,
   "metadata": {},
   "outputs": [],
   "source": [
    "grid_sample_size = [ 10, 20, 30, 50, 75, 100, 125, 150 ]\n",
    "\n",
    "grid_learning_rate = [ 1e-8, 1e-7, 1e-6, 1e-5, 1e-4, 1e-3, 1e-2, 1e-1, 1 ]\n",
    "\n",
    "result_matrix = np.zeros( shape = [ 8, 9 ] )\n",
    "\n",
    "sess = tf.Session()\n",
    "\n",
    "for i in range( 8 ):\n",
    "    \n",
    "    sample_size = grid_sample_size[ i ]\n",
    "    \n",
    "    for j in range( 9 ):\n",
    "        \n",
    "        learning_rate = grid_learning_rate[ j ]\n",
    "\n",
    "        sess.run( tf.global_variables_initializer() )\n",
    "\n",
    "        for k in range( 100 ):\n",
    "    \n",
    "            random_integers = np.random.choice( range( 300 ), sample_size, replace = False )\n",
    "    \n",
    "            local_x = train_x_2[ random_integers, : ]\n",
    "    \n",
    "            local_y = train_y_2[ random_integers, : ]\n",
    "    \n",
    "            sess.run( gd_2, feed_dict = { x_tf_2 : local_x, y_tf_2 : local_y, learning_rate_tf : learning_rate } )\n",
    "    \n",
    "        result_matrix[ i, j ] = sess.run( accuracy_2, feed_dict = { x_tf_2 : val_x_2, y_tf_2 : val_y_2 } )\n",
    "        \n",
    "        \n",
    "sess.close()"
   ]
  },
  {
   "cell_type": "markdown",
   "metadata": {},
   "source": [
    "Now we plot the matrix.<br>\n",
    "We use the function [matshow](https://matplotlib.org/api/_as_gen/matplotlib.pyplot.matshow.html) for plotting the matrix.<br>\n",
    "We use the function [xticks](https://matplotlib.org/api/_as_gen/matplotlib.pyplot.xticks.html) to replace the __x-ticks__ of the plot with the __learning_rate__. For this, we need the function [arange](https://docs.scipy.org/doc/numpy/reference/generated/numpy.arange.html).<br>\n",
    "We do the same for the __y-ticks__.<br>\n",
    "Finally, we use the function [colorbar](https://matplotlib.org/api/_as_gen/matplotlib.pyplot.colorbar.html) to get a colorbar, so we can interprete the image.<br>\n",
    "Also, we use the function [gca](https://matplotlib.org/api/_as_gen/matplotlib.pyplot.gca.html) to get the current Axis object __ax__. We then use __ax__ with the function [set ticks position](https://matplotlib.org/api/_as_gen/matplotlib.axis.XAxis.set_ticks_position.html) to set the __x-ticks__ under the plot."
   ]
  },
  {
   "cell_type": "code",
   "execution_count": 18,
   "metadata": {},
   "outputs": [
    {
     "data": {
      "text/plain": [
       "<matplotlib.colorbar.Colorbar at 0x23f18fb1e48>"
      ]
     },
     "execution_count": 18,
     "metadata": {},
     "output_type": "execute_result"
    },
    {
     "data": {
      "image/png": "[encoded data removed]",
      "text/plain": [
       "<Figure size 324x288 with 2 Axes>"
      ]
     },
     "metadata": {},
     "output_type": "display_data"
    }
   ],
   "source": [
    "plt.matshow( result_matrix )\n",
    "\n",
    "ax = plt.gca()\n",
    "\n",
    "ax.xaxis.set_ticks_position( 'bottom' )\n",
    "\n",
    "plt.xticks( np.arange( len( grid_learning_rate ) ), grid_learning_rate, rotation = 90 )\n",
    "\n",
    "plt.xlabel( 'Learning Rate (-)' )\n",
    "\n",
    "plt.yticks( np.arange( len( grid_sample_size ) ), grid_sample_size )\n",
    "\n",
    "plt.ylabel( 'Size of Training Set (-)' )\n",
    "\n",
    "plt.colorbar( label = 'Accuracy (%)' )"
   ]
  },
  {
   "cell_type": "markdown",
   "metadata": {},
   "source": [
    "From this, we learn, that the sample size is not really important, but the learning rate makes all the difference.<br>\n",
    "Let's train a third model for $500$ iterations with a learning rate of $0.1$ and a sample size of $50$."
   ]
  },
  {
   "cell_type": "code",
   "execution_count": 19,
   "metadata": {},
   "outputs": [],
   "source": [
    "x_tf_3 = tf.placeholder( tf.float32, shape = [ None, 30 ] )\n",
    "\n",
    "y_tf_3 = tf.placeholder( tf.float32, shape = [ None, 2 ] )\n",
    "\n",
    "W_tf_3 = tf.Variable( tf.zeros( [ 30, 2 ] ) )\n",
    "\n",
    "b_tf_3 = tf.Variable( tf.zeros( [ 2 ] ) )\n",
    "\n",
    "classifier_3 = tf.matmul( x_tf_3, W_tf_3 ) + b_tf_3\n",
    "\n",
    "\n",
    "\n",
    "cross_entropy_3 = tf.reduce_mean( tf.nn.softmax_cross_entropy_with_logits_v2( logits = classifier_3, labels = y_tf_3 ) )\n",
    "\n",
    "\n",
    "\n",
    "gd_3 = tf.train.GradientDescentOptimizer( 0.1 ).minimize( cross_entropy_3 )\n",
    "\n",
    "\n",
    "\n",
    "hit_3 = tf.equal( tf.argmax( classifier_3, 1 ), tf.argmax( y_tf_3, 1 ) )\n",
    "\n",
    "\n",
    "\n",
    "accuracy_3 = 100 * tf.reduce_mean( tf.cast( hit_3, tf.float32 ) )"
   ]
  },
  {
   "cell_type": "code",
   "execution_count": 20,
   "metadata": {},
   "outputs": [],
   "source": [
    "progress_train_s_3 = []\n",
    "\n",
    "progress_train_3 = []\n",
    "\n",
    "progress_test_3 = []\n",
    "\n",
    "\n",
    "sess = tf.Session()\n",
    "\n",
    "sess.run( tf.global_variables_initializer() )\n",
    "\n",
    "for i in range( 500 ):\n",
    "    \n",
    "    random_integers = np.random.choice( range( 400 ), 50, replace = False )\n",
    "    \n",
    "    local_x = train_x[ random_integers, : ]\n",
    "    \n",
    "    local_y = train_y[ random_integers, : ]\n",
    "    \n",
    "    sess.run( gd_3, feed_dict = { x_tf_3 : local_x, y_tf_3 : local_y } )\n",
    "    \n",
    "    progress_train_s_3.append( sess.run( accuracy_3, feed_dict = { x_tf_3 : local_x, y_tf_3 : local_y } ) )\n",
    "    \n",
    "    progress_train_3.append( sess.run( accuracy_3, feed_dict = { x_tf_3 : train_x, y_tf_3 : train_y } ) )\n",
    "    \n",
    "    progress_test_3.append( sess.run( accuracy_3, feed_dict = { x_tf_3 : test_x, y_tf_3 : test_y } ) )\n",
    "    \n",
    "    \n",
    "sess.close()"
   ]
  },
  {
   "cell_type": "code",
   "execution_count": 21,
   "metadata": {},
   "outputs": [
    {
     "data": {
      "text/plain": [
       "Text(0,0.5,'Accuracy (%)')"
      ]
     },
     "execution_count": 21,
     "metadata": {},
     "output_type": "execute_result"
    },
    {
     "data": {
      "image/png": "[encoded data removed]",
      "text/plain": [
       "<Figure size 432x288 with 1 Axes>"
      ]
     },
     "metadata": {},
     "output_type": "display_data"
    }
   ],
   "source": [
    "plt.plot( progress_train_s_3, label = 'Accuracy on current Training Set' )\n",
    "\n",
    "plt.plot( progress_train_3, label = 'Accuracy on complete Training Set' )\n",
    "\n",
    "plt.plot( progress_test_3, label = 'Accuracy on Test Set' )\n",
    "\n",
    "plt.legend( loc = 'best' )\n",
    "\n",
    "plt.xlabel( 'Iterations (-)' )\n",
    "\n",
    "plt.ylabel( 'Accuracy (%)' )"
   ]
  },
  {
   "cell_type": "markdown",
   "metadata": {},
   "source": [
    "So, we reached an accuracy of $98\\%$ on the test set. This means, only $3$ samples were misclassified, therefore, we can not really improve any more.<br>\n",
    "Therefore<br>\n",
    "Class dismissed."
   ]
  }
 ],
 "metadata": {
  "kernelspec": {
   "display_name": "Python 3",
   "language": "python",
   "name": "python3"
  },
  "language_info": {
   "codemirror_mode": {
    "name": "ipython",
    "version": 3
   },
   "file_extension": ".py",
   "mimetype": "text/x-python",
   "name": "python",
   "nbconvert_exporter": "python",
   "pygments_lexer": "ipython3",
   "version": "3.6.5"
  }
 },
 "nbformat": 4,
 "nbformat_minor": 2
}
