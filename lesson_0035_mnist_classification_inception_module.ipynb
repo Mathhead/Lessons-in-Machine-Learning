{
 "cells": [
  {
   "cell_type": "markdown",
   "metadata": {},
   "source": [
    "# Lesson 0035 - MNIST Classification Inception Module\n",
    "In this lesson, we revisit the [MNIST](https://github.com/Mathhead/Lessons-in-Machine-Learning/blob/master/lesson_0010_mnist_classification_linear_classifier.ipynb) data set. This time, we will build an Inception module. This means, that we build several parallel pipelines of convolutional neural networks. The idea behind this is, that we employ filters of different sizes in the parallel pipelines, so that in each pipeline different features are selected.<br>\n",
    "We start by stealing code from [lesson 0018](https://github.com/Mathhead/Lessons-in-Machine-Learning/blob/master/lesson_0018_mnist_classification_convolutional_neural_network.ipynb)."
   ]
  },
  {
   "cell_type": "code",
   "execution_count": 1,
   "metadata": {},
   "outputs": [
    {
     "name": "stdout",
     "output_type": "stream",
     "text": [
      "1.13.1\n"
     ]
    }
   ],
   "source": [
    "import tensorflow as tf\n",
    "\n",
    "tf.set_random_seed( 1234567890 )\n",
    "\n",
    "print( tf.__version__ )"
   ]
  },
  {
   "cell_type": "code",
   "execution_count": 2,
   "metadata": {},
   "outputs": [],
   "source": [
    "( train_x, train_y ),( test_x, test_y ) = tf.keras.datasets.mnist.load_data()"
   ]
  },
  {
   "cell_type": "code",
   "execution_count": 3,
   "metadata": {},
   "outputs": [
    {
     "name": "stdout",
     "output_type": "stream",
     "text": [
      "1.16.2\n"
     ]
    }
   ],
   "source": [
    "import numpy as np\n",
    "\n",
    "np.random.seed( 1234567890 )\n",
    "\n",
    "print( np.__version__ )"
   ]
  },
  {
   "cell_type": "code",
   "execution_count": 4,
   "metadata": {},
   "outputs": [
    {
     "name": "stdout",
     "output_type": "stream",
     "text": [
      "3.0.3\n"
     ]
    }
   ],
   "source": [
    "import matplotlib\n",
    "import matplotlib.pyplot as plt\n",
    "\n",
    "print( matplotlib.__version__ )"
   ]
  },
  {
   "cell_type": "code",
   "execution_count": 5,
   "metadata": {},
   "outputs": [],
   "source": [
    "mu = np.mean( train_x )\n",
    "\n",
    "sigma = np.std( train_x )\n",
    "\n",
    "\n",
    "\n",
    "train_x = ( train_x - mu ) / sigma\n",
    "\n",
    "test_x = ( test_x - mu ) / sigma\n",
    "\n",
    "\n",
    "\n",
    "\n",
    "train_x = np.reshape( train_x, [ 60000, 28, 28, 1 ] )\n",
    "\n",
    "test_x = np.reshape( test_x, [ 10000, 28, 28, 1 ] )"
   ]
  },
  {
   "cell_type": "code",
   "execution_count": 6,
   "metadata": {},
   "outputs": [],
   "source": [
    "train_y_2 = np.zeros( shape = [ 60000, 10 ] )\n",
    "\n",
    "test_y_2 = np.zeros( shape = [ 10000, 10 ] )\n",
    "\n",
    "\n",
    "\n",
    "\n",
    "for i in range( 60000 ):\n",
    "    \n",
    "    train_y_2[ i, train_y[ i ] ] = 1.0\n",
    "    \n",
    "    \n",
    "for i in range( 10000 ):\n",
    "    \n",
    "    test_y_2[ i, test_y[ i ] ] = 1.0\n",
    "    \n",
    "\n",
    "\n",
    "\n",
    "\n",
    "train_y = train_y_2\n",
    "\n",
    "test_y = test_y_2"
   ]
  },
  {
   "cell_type": "code",
   "execution_count": 7,
   "metadata": {},
   "outputs": [
    {
     "name": "stdout",
     "output_type": "stream",
     "text": [
      "2.2.4\n"
     ]
    },
    {
     "name": "stderr",
     "output_type": "stream",
     "text": [
      "Using TensorFlow backend.\n"
     ]
    }
   ],
   "source": [
    "import keras\n",
    "from keras import models\n",
    "from keras import layers\n",
    "\n",
    "print( keras.__version__ )"
   ]
  },
  {
   "cell_type": "markdown",
   "metadata": {},
   "source": [
    "Now that we have prepared the data, we can start building the model.<br>\n",
    "We will create three pipelines, one where the convolutional filters are of size $1*1$, one where the convolutional filters are of size $3*3$, and one where the filters are of size $5*5$. In the pipeline for $1*1$, we will employ $128$ filters, for the pipeline with $3*3$ filters, we will employ $64$ filters, and for the last pipeline, we will employ $32$ filters.<br>\n",
    "We use [Input](https://keras.io/layers/core/) to build the input tensor. We use [Conv2D](https://keras.io/layers/convolutional/) to build the convolutional layers. We also employ [MaxPooling2D](https://keras.io/layers/pooling/).<br>\n",
    "Once we have built this architecture, we flatten each pipeline, and then, we [concatenate](https://keras.io/layers/merge/) the flattened pipelines.<br>\n",
    "We build the final model using [Model](https://keras.io/models/model/)."
   ]
  },
  {
   "cell_type": "code",
   "execution_count": 8,
   "metadata": {},
   "outputs": [
    {
     "name": "stdout",
     "output_type": "stream",
     "text": [
      "WARNING:tensorflow:From C:\\Users\\rhopi\\Anaconda3\\lib\\site-packages\\tensorflow\\python\\framework\\op_def_library.py:263: colocate_with (from tensorflow.python.framework.ops) is deprecated and will be removed in a future version.\n",
      "Instructions for updating:\n",
      "Colocations handled automatically by placer.\n"
     ]
    },
    {
     "name": "stderr",
     "output_type": "stream",
     "text": [
      "C:\\Users\\rhopi\\Anaconda3\\lib\\site-packages\\keras\\activations.py:211: UserWarning: Do not pass a layer instance (such as LeakyReLU) as the activation argument of another layer. Instead, advanced activation layers should be used just like any other layer in a model.\n",
      "  identifier=identifier.__class__.__name__))\n"
     ]
    }
   ],
   "source": [
    "x = keras.engine.input_layer.Input( shape = ( 28, 28, 1, ) )\n",
    "\n",
    "\n",
    "\n",
    "\n",
    "pipeline1 = layers.Conv2D( 128, 1, activation = layers.LeakyReLU( alpha = 0.3 ) )( x )\n",
    "\n",
    "pipeline1 = layers.Conv2D( 128, 1, activation = layers.LeakyReLU( alpha = 0.3 ) )( pipeline1 )\n",
    "\n",
    "pipeline1 = layers.MaxPooling2D()( pipeline1 )\n",
    "\n",
    "pipeline1 = layers.Conv2D( 128, 1, activation = layers.LeakyReLU( alpha = 0.3 ) )( pipeline1 )\n",
    "\n",
    "pipeline1 = layers.Conv2D( 128, 1, activation = layers.LeakyReLU( alpha = 0.3 ) )( pipeline1 )\n",
    "\n",
    "pipeline1 = layers.MaxPooling2D()( pipeline1 )\n",
    "\n",
    "\n",
    "\n",
    "\n",
    "pipeline3 = layers.Conv2D( 64, 3, activation = layers.LeakyReLU( alpha = 0.3 ) )( x )\n",
    "\n",
    "pipeline3 = layers.Conv2D( 64, 3, activation = layers.LeakyReLU( alpha = 0.3 ) )( pipeline3 )\n",
    "\n",
    "pipeline3 = layers.MaxPooling2D()( pipeline3 )\n",
    "\n",
    "pipeline3 = layers.Conv2D( 64, 3, activation = layers.LeakyReLU( alpha = 0.3 ) )( pipeline3 )\n",
    "\n",
    "pipeline3 = layers.Conv2D( 64, 3, activation = layers.LeakyReLU( alpha = 0.3 ) )( pipeline3 )\n",
    "\n",
    "pipeline3 = layers.MaxPooling2D()( pipeline3 )\n",
    "\n",
    "\n",
    "\n",
    "\n",
    "pipeline5 = layers.Conv2D( 32, 5, activation = layers.LeakyReLU( alpha = 0.3 ) )( x )\n",
    "\n",
    "pipeline5 = layers.Conv2D( 32, 5, activation = layers.LeakyReLU( alpha = 0.3 ) )( pipeline5 )\n",
    "\n",
    "pipeline5 = layers.MaxPooling2D()( pipeline5 )\n",
    "\n",
    "pipeline5 = layers.Conv2D( 32, 5, activation = layers.LeakyReLU( alpha = 0.3 ) )( pipeline5 )\n",
    "\n",
    "pipeline5 = layers.Conv2D( 32, 5, activation = layers.LeakyReLU( alpha = 0.3 ) )( pipeline5 )\n",
    "\n",
    "pipeline5 = layers.MaxPooling2D()( pipeline5 )\n",
    "\n",
    "\n",
    "\n",
    "\n",
    "flat1 = layers.Flatten()( pipeline1 )\n",
    "\n",
    "flat3 = layers.Flatten()( pipeline3 )\n",
    "\n",
    "flat5 = layers.Flatten()( pipeline5 )\n",
    "\n",
    "\n",
    "\n",
    "\n",
    "combined = layers.concatenate( [ flat1, flat3, flat5 ], axis = -1 )\n",
    "\n",
    "\n",
    "\n",
    "\n",
    "output = layers.Dense( 10, activation = \"softmax\" )( combined )\n",
    "\n",
    "\n",
    "\n",
    "\n",
    "model = keras.Model( x, output )\n",
    "\n",
    "\n",
    "\n",
    "\n",
    "model.compile( optimizer = keras.optimizers.SGD( lr = 0.1, momentum = 0.0, decay = 0.0, nesterov = False ),\n",
    "               loss = \"categorical_crossentropy\", metrics = [ \"accuracy\" ] )"
   ]
  },
  {
   "cell_type": "code",
   "execution_count": 9,
   "metadata": {},
   "outputs": [
    {
     "name": "stdout",
     "output_type": "stream",
     "text": [
      "WARNING:tensorflow:From C:\\Users\\rhopi\\Anaconda3\\lib\\site-packages\\tensorflow\\python\\ops\\math_ops.py:3066: to_int32 (from tensorflow.python.ops.math_ops) is deprecated and will be removed in a future version.\n",
      "Instructions for updating:\n",
      "Use tf.cast instead.\n",
      "Train on 60000 samples, validate on 10000 samples\n",
      "Epoch 1/40\n",
      "60000/60000 [==============================] - 19s 312us/step - loss: 0.2068 - acc: 0.9373 - val_loss: 0.0566 - val_acc: 0.9814\n",
      "Epoch 2/40\n",
      "60000/60000 [==============================] - 15s 246us/step - loss: 0.0601 - acc: 0.9823 - val_loss: 0.0438 - val_acc: 0.9858\n",
      "Epoch 3/40\n",
      "60000/60000 [==============================] - 15s 246us/step - loss: 0.0441 - acc: 0.9865 - val_loss: 0.0436 - val_acc: 0.9861\n",
      "Epoch 4/40\n",
      "60000/60000 [==============================] - 15s 246us/step - loss: 0.0354 - acc: 0.9892 - val_loss: 0.0319 - val_acc: 0.9891\n",
      "Epoch 5/40\n",
      "60000/60000 [==============================] - 15s 246us/step - loss: 0.0292 - acc: 0.9907 - val_loss: 0.0396 - val_acc: 0.9867\n",
      "Epoch 6/40\n",
      "60000/60000 [==============================] - 15s 247us/step - loss: 0.0247 - acc: 0.9924 - val_loss: 0.0295 - val_acc: 0.9897\n",
      "Epoch 7/40\n",
      "60000/60000 [==============================] - 15s 247us/step - loss: 0.0214 - acc: 0.9932 - val_loss: 0.0259 - val_acc: 0.9920\n",
      "Epoch 8/40\n",
      "60000/60000 [==============================] - 15s 247us/step - loss: 0.0179 - acc: 0.9942 - val_loss: 0.0277 - val_acc: 0.9899\n",
      "Epoch 9/40\n",
      "60000/60000 [==============================] - 15s 247us/step - loss: 0.0156 - acc: 0.9950 - val_loss: 0.0281 - val_acc: 0.9909\n",
      "Epoch 10/40\n",
      "60000/60000 [==============================] - 15s 247us/step - loss: 0.0130 - acc: 0.9959 - val_loss: 0.0313 - val_acc: 0.9912\n",
      "Epoch 11/40\n",
      "60000/60000 [==============================] - 15s 247us/step - loss: 0.0117 - acc: 0.9964 - val_loss: 0.0311 - val_acc: 0.9905\n",
      "Epoch 12/40\n",
      "60000/60000 [==============================] - 15s 247us/step - loss: 0.0096 - acc: 0.9970 - val_loss: 0.0317 - val_acc: 0.9900\n",
      "Epoch 13/40\n",
      "60000/60000 [==============================] - 15s 248us/step - loss: 0.0095 - acc: 0.9967 - val_loss: 0.0489 - val_acc: 0.9873\n",
      "Epoch 14/40\n",
      "60000/60000 [==============================] - 15s 247us/step - loss: 0.0066 - acc: 0.9980 - val_loss: 0.0312 - val_acc: 0.9928\n",
      "Epoch 15/40\n",
      "60000/60000 [==============================] - 15s 247us/step - loss: 0.0066 - acc: 0.9982 - val_loss: 0.0349 - val_acc: 0.9913\n",
      "Epoch 16/40\n",
      "60000/60000 [==============================] - 15s 248us/step - loss: 0.0060 - acc: 0.9980 - val_loss: 0.0307 - val_acc: 0.9926\n",
      "Epoch 17/40\n",
      "60000/60000 [==============================] - 15s 247us/step - loss: 0.0056 - acc: 0.9982 - val_loss: 0.0315 - val_acc: 0.9918\n",
      "Epoch 18/40\n",
      "60000/60000 [==============================] - 15s 248us/step - loss: 0.0048 - acc: 0.9987 - val_loss: 0.0368 - val_acc: 0.9911\n",
      "Epoch 19/40\n",
      "60000/60000 [==============================] - 15s 248us/step - loss: 0.0047 - acc: 0.9982 - val_loss: 0.0387 - val_acc: 0.9907\n",
      "Epoch 20/40\n",
      "60000/60000 [==============================] - 15s 247us/step - loss: 0.0047 - acc: 0.9985 - val_loss: 0.0390 - val_acc: 0.9908\n",
      "Epoch 21/40\n",
      "60000/60000 [==============================] - 15s 248us/step - loss: 0.0036 - acc: 0.9989 - val_loss: 0.0365 - val_acc: 0.9914\n",
      "Epoch 22/40\n",
      "60000/60000 [==============================] - 15s 248us/step - loss: 0.0029 - acc: 0.9991 - val_loss: 0.0394 - val_acc: 0.9915\n",
      "Epoch 23/40\n",
      "60000/60000 [==============================] - 15s 248us/step - loss: 0.0040 - acc: 0.9988 - val_loss: 0.0437 - val_acc: 0.9914\n",
      "Epoch 24/40\n",
      "60000/60000 [==============================] - 15s 248us/step - loss: 0.0022 - acc: 0.9994 - val_loss: 0.0400 - val_acc: 0.9913\n",
      "Epoch 25/40\n",
      "60000/60000 [==============================] - 15s 248us/step - loss: 0.0028 - acc: 0.9990 - val_loss: 0.0408 - val_acc: 0.9916\n",
      "Epoch 26/40\n",
      "60000/60000 [==============================] - 15s 248us/step - loss: 9.3460e-04 - acc: 0.9999 - val_loss: 0.0408 - val_acc: 0.9925\n",
      "Epoch 27/40\n",
      "60000/60000 [==============================] - 15s 248us/step - loss: 5.6817e-04 - acc: 0.9999 - val_loss: 0.0393 - val_acc: 0.9927\n",
      "Epoch 28/40\n",
      "60000/60000 [==============================] - 15s 248us/step - loss: 4.0624e-04 - acc: 1.0000 - val_loss: 0.0401 - val_acc: 0.9925\n",
      "Epoch 29/40\n",
      "60000/60000 [==============================] - 15s 248us/step - loss: 3.5316e-04 - acc: 1.0000 - val_loss: 0.0403 - val_acc: 0.9927\n",
      "Epoch 30/40\n",
      "60000/60000 [==============================] - 15s 248us/step - loss: 3.3472e-04 - acc: 1.0000 - val_loss: 0.0408 - val_acc: 0.9927\n",
      "Epoch 31/40\n",
      "60000/60000 [==============================] - 15s 248us/step - loss: 3.2615e-04 - acc: 1.0000 - val_loss: 0.0412 - val_acc: 0.9926\n",
      "Epoch 32/40\n",
      "60000/60000 [==============================] - 15s 249us/step - loss: 3.1900e-04 - acc: 1.0000 - val_loss: 0.0416 - val_acc: 0.9927\n",
      "Epoch 33/40\n",
      "60000/60000 [==============================] - 15s 248us/step - loss: 3.1409e-04 - acc: 1.0000 - val_loss: 0.0418 - val_acc: 0.9926\n",
      "Epoch 34/40\n",
      "60000/60000 [==============================] - 15s 249us/step - loss: 3.1101e-04 - acc: 1.0000 - val_loss: 0.0423 - val_acc: 0.9927\n",
      "Epoch 35/40\n",
      "60000/60000 [==============================] - 15s 249us/step - loss: 3.0699e-04 - acc: 1.0000 - val_loss: 0.0424 - val_acc: 0.9926\n",
      "Epoch 36/40\n",
      "60000/60000 [==============================] - 15s 249us/step - loss: 3.0362e-04 - acc: 1.0000 - val_loss: 0.0428 - val_acc: 0.9929\n",
      "Epoch 37/40\n",
      "60000/60000 [==============================] - 15s 249us/step - loss: 3.0165e-04 - acc: 1.0000 - val_loss: 0.0429 - val_acc: 0.9927\n",
      "Epoch 38/40\n",
      "60000/60000 [==============================] - 15s 249us/step - loss: 2.9969e-04 - acc: 1.0000 - val_loss: 0.0433 - val_acc: 0.9927\n",
      "Epoch 39/40\n",
      "60000/60000 [==============================] - 15s 249us/step - loss: 2.9780e-04 - acc: 1.0000 - val_loss: 0.0435 - val_acc: 0.9926\n",
      "Epoch 40/40\n",
      "60000/60000 [==============================] - 15s 249us/step - loss: 2.9613e-04 - acc: 1.0000 - val_loss: 0.0435 - val_acc: 0.9926\n"
     ]
    }
   ],
   "source": [
    "history = model.fit( train_x, train_y, epochs = 40, batch_size = 100, validation_data = ( test_x, test_y ) )"
   ]
  },
  {
   "cell_type": "code",
   "execution_count": 10,
   "metadata": {},
   "outputs": [
    {
     "data": {
      "text/plain": [
       "<matplotlib.legend.Legend at 0x24a3a2049e8>"
      ]
     },
     "execution_count": 10,
     "metadata": {},
     "output_type": "execute_result"
    },
    {
     "data": {
      "image/png": "[encoded data removed]",
      "text/plain": [
       "<Figure size 432x288 with 1 Axes>"
      ]
     },
     "metadata": {
      "needs_background": "light"
     },
     "output_type": "display_data"
    }
   ],
   "source": [
    "epochs = range( 1, len( history.history[ 'val_acc' ] ) + 1 )\n",
    "\n",
    "plt.plot( epochs, history.history[ 'val_acc' ], label = \"Test Set\" )\n",
    "\n",
    "plt.plot( epochs, history.history[ 'acc' ], label = \"Training Set\" )\n",
    "\n",
    "plt.xlabel( \"Epochs (-)\" )\n",
    "\n",
    "plt.ylabel( \"Accuracy (%)\" )\n",
    "\n",
    "plt.legend()"
   ]
  },
  {
   "cell_type": "markdown",
   "metadata": {},
   "source": [
    "This model outperforms our [best model](https://github.com/Mathhead/Lessons-in-Machine-Learning/blob/master/lesson_0023_mnist_classification_convolutional_neural_network_6.ipynb) for the MNIST data set.<br>\n",
    "This is due to the fact, that we employ several different filters which scan the images for artefacts of different sizes.<br>\n",
    "Class dismissed."
   ]
  }
 ],
 "metadata": {
  "kernelspec": {
   "display_name": "Python 3",
   "language": "python",
   "name": "python3"
  },
  "language_info": {
   "codemirror_mode": {
    "name": "ipython",
    "version": 3
   },
   "file_extension": ".py",
   "mimetype": "text/x-python",
   "name": "python",
   "nbconvert_exporter": "python",
   "pygments_lexer": "ipython3",
   "version": "3.7.3"
  }
 },
 "nbformat": 4,
 "nbformat_minor": 2
}
