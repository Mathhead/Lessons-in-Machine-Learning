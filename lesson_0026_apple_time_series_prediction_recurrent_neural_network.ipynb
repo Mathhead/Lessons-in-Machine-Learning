{
 "cells": [
  {
   "cell_type": "markdown",
   "metadata": {},
   "source": [
    "# Lesson 0026 - APPLE Time Series Prediction Recurrent Neural Network\n",
    "In the previous lessons, we worked on image classification using convolutional neural networks.<br>\n",
    "Now we turn to sequential data.<br>\n",
    "In this lesson, we build a simple model to predict the stock price of APPLE.<br>\n",
    "For this, we will first get the stock prices of APPLE, then we learn about the idea behind [Recurrent Neural Networks](https://en.wikipedia.org/wiki/Recurrent_neural_network), and finally, we code a predictor.<br>\n",
    "We start by stealing code from [lesson 0025](https://github.com/Mathhead/Lessons-in-Machine-Learning/blob/master/lesson_0025_mnist_classification_convolutional_neural_network_transfer_learning.ipynb):"
   ]
  },
  {
   "cell_type": "code",
   "execution_count": 1,
   "metadata": {},
   "outputs": [
    {
     "name": "stdout",
     "output_type": "stream",
     "text": [
      "1.13.1\n"
     ]
    }
   ],
   "source": [
    "import tensorflow as tf\n",
    "\n",
    "tf.set_random_seed( 1234567890 )\n",
    "\n",
    "print( tf.__version__ )"
   ]
  },
  {
   "cell_type": "code",
   "execution_count": 2,
   "metadata": {},
   "outputs": [
    {
     "name": "stdout",
     "output_type": "stream",
     "text": [
      "1.16.2\n"
     ]
    }
   ],
   "source": [
    "import numpy as np\n",
    "\n",
    "np.random.seed( 1234567890 )\n",
    "\n",
    "print( np.__version__ )"
   ]
  },
  {
   "cell_type": "code",
   "execution_count": 3,
   "metadata": {},
   "outputs": [
    {
     "name": "stdout",
     "output_type": "stream",
     "text": [
      "3.0.3\n"
     ]
    }
   ],
   "source": [
    "import matplotlib\n",
    "import matplotlib.pyplot as plt\n",
    "\n",
    "print( matplotlib.__version__ )"
   ]
  },
  {
   "cell_type": "markdown",
   "metadata": {},
   "source": [
    "Now, we use [yfinance](https://pypi.org/project/fix-yahoo-finance/) to get the stock prices."
   ]
  },
  {
   "cell_type": "code",
   "execution_count": 4,
   "metadata": {},
   "outputs": [
    {
     "name": "stdout",
     "output_type": "stream",
     "text": [
      "0.1.43\n"
     ]
    }
   ],
   "source": [
    "import yfinance as yf \n",
    "\n",
    "print( yf.__version__ )"
   ]
  },
  {
   "cell_type": "markdown",
   "metadata": {},
   "source": [
    "We need the [Datetime package](https://docs.python.org/3/library/datetime.html) for setting the time stamps for the import of the time series data."
   ]
  },
  {
   "cell_type": "code",
   "execution_count": 5,
   "metadata": {},
   "outputs": [],
   "source": [
    "import datetime as dt"
   ]
  },
  {
   "cell_type": "markdown",
   "metadata": {},
   "source": [
    "Now we can actually set the time stamps and import the data. For this experiment, we will use a $5$ year span.<br>\n",
    "This is due to the fact, that we can only pull $5$ years of data from [Yahoo Finance](https://de.finance.yahoo.com/).<br>\n",
    "For the computation of the current date, we employ the function [now](https://docs.python.org/3/library/datetime.html#datetime.datetime.now) and [strftime](https://docs.python.org/2/library/time.html#time.strftime). "
   ]
  },
  {
   "cell_type": "code",
   "execution_count": 6,
   "metadata": {},
   "outputs": [
    {
     "name": "stdout",
     "output_type": "stream",
     "text": [
      "[*********************100%***********************]  1 of 1 downloaded\n"
     ]
    }
   ],
   "source": [
    "end = dt.datetime.now().strftime('%Y-%m-%d')\n",
    "\n",
    "start = dt.datetime.now().strftime('%Y-%m-%d')\n",
    "\n",
    "\n",
    "\n",
    "\n",
    "start_year = start[ 0 : 4 ]\n",
    "\n",
    "start_year = int( start_year )\n",
    "\n",
    "start_year = start_year - 5\n",
    "\n",
    "start_year = str( start_year )\n",
    "\n",
    "start = start_year + start[ 4 : len( start ) ] \n",
    "\n",
    "\n",
    "\n",
    "data = yf.download( 'AAPL', start, end )"
   ]
  },
  {
   "cell_type": "markdown",
   "metadata": {},
   "source": [
    "Let's have a look a the data:"
   ]
  },
  {
   "cell_type": "code",
   "execution_count": 7,
   "metadata": {},
   "outputs": [
    {
     "data": {
      "text/html": [
       "<div>\n",
       "<style scoped>\n",
       "    .dataframe tbody tr th:only-of-type {\n",
       "        vertical-align: middle;\n",
       "    }\n",
       "\n",
       "    .dataframe tbody tr th {\n",
       "        vertical-align: top;\n",
       "    }\n",
       "\n",
       "    .dataframe thead th {\n",
       "        text-align: right;\n",
       "    }\n",
       "</style>\n",
       "<table border=\"1\" class=\"dataframe\">\n",
       "  <thead>\n",
       "    <tr style=\"text-align: right;\">\n",
       "      <th></th>\n",
       "      <th>Open</th>\n",
       "      <th>High</th>\n",
       "      <th>Low</th>\n",
       "      <th>Close</th>\n",
       "      <th>Adj Close</th>\n",
       "      <th>Volume</th>\n",
       "    </tr>\n",
       "    <tr>\n",
       "      <th>Date</th>\n",
       "      <th></th>\n",
       "      <th></th>\n",
       "      <th></th>\n",
       "      <th></th>\n",
       "      <th></th>\n",
       "      <th></th>\n",
       "    </tr>\n",
       "  </thead>\n",
       "  <tbody>\n",
       "    <tr>\n",
       "      <th>2014-06-23</th>\n",
       "      <td>91.32</td>\n",
       "      <td>91.62</td>\n",
       "      <td>90.60</td>\n",
       "      <td>90.83</td>\n",
       "      <td>83.25</td>\n",
       "      <td>43694000</td>\n",
       "    </tr>\n",
       "    <tr>\n",
       "      <th>2014-06-24</th>\n",
       "      <td>90.75</td>\n",
       "      <td>91.74</td>\n",
       "      <td>90.19</td>\n",
       "      <td>90.28</td>\n",
       "      <td>82.74</td>\n",
       "      <td>39036000</td>\n",
       "    </tr>\n",
       "    <tr>\n",
       "      <th>2014-06-25</th>\n",
       "      <td>90.21</td>\n",
       "      <td>90.70</td>\n",
       "      <td>89.65</td>\n",
       "      <td>90.36</td>\n",
       "      <td>82.82</td>\n",
       "      <td>36869000</td>\n",
       "    </tr>\n",
       "    <tr>\n",
       "      <th>2014-06-26</th>\n",
       "      <td>90.37</td>\n",
       "      <td>91.05</td>\n",
       "      <td>89.80</td>\n",
       "      <td>90.90</td>\n",
       "      <td>83.31</td>\n",
       "      <td>32629000</td>\n",
       "    </tr>\n",
       "    <tr>\n",
       "      <th>2014-06-27</th>\n",
       "      <td>90.82</td>\n",
       "      <td>92.00</td>\n",
       "      <td>90.77</td>\n",
       "      <td>91.98</td>\n",
       "      <td>84.30</td>\n",
       "      <td>64029000</td>\n",
       "    </tr>\n",
       "    <tr>\n",
       "      <th>2014-06-30</th>\n",
       "      <td>92.10</td>\n",
       "      <td>93.73</td>\n",
       "      <td>92.09</td>\n",
       "      <td>92.93</td>\n",
       "      <td>85.17</td>\n",
       "      <td>49482300</td>\n",
       "    </tr>\n",
       "    <tr>\n",
       "      <th>2014-07-01</th>\n",
       "      <td>93.52</td>\n",
       "      <td>94.07</td>\n",
       "      <td>93.13</td>\n",
       "      <td>93.52</td>\n",
       "      <td>85.71</td>\n",
       "      <td>38223000</td>\n",
       "    </tr>\n",
       "    <tr>\n",
       "      <th>2014-07-02</th>\n",
       "      <td>93.87</td>\n",
       "      <td>94.06</td>\n",
       "      <td>93.09</td>\n",
       "      <td>93.48</td>\n",
       "      <td>85.68</td>\n",
       "      <td>28465000</td>\n",
       "    </tr>\n",
       "    <tr>\n",
       "      <th>2014-07-03</th>\n",
       "      <td>93.67</td>\n",
       "      <td>94.10</td>\n",
       "      <td>93.20</td>\n",
       "      <td>94.03</td>\n",
       "      <td>86.18</td>\n",
       "      <td>22891800</td>\n",
       "    </tr>\n",
       "    <tr>\n",
       "      <th>2014-07-07</th>\n",
       "      <td>94.14</td>\n",
       "      <td>95.99</td>\n",
       "      <td>94.10</td>\n",
       "      <td>95.97</td>\n",
       "      <td>87.96</td>\n",
       "      <td>56468000</td>\n",
       "    </tr>\n",
       "    <tr>\n",
       "      <th>2014-07-08</th>\n",
       "      <td>96.27</td>\n",
       "      <td>96.80</td>\n",
       "      <td>93.92</td>\n",
       "      <td>95.35</td>\n",
       "      <td>87.39</td>\n",
       "      <td>65222000</td>\n",
       "    </tr>\n",
       "    <tr>\n",
       "      <th>2014-07-09</th>\n",
       "      <td>95.44</td>\n",
       "      <td>95.95</td>\n",
       "      <td>94.76</td>\n",
       "      <td>95.39</td>\n",
       "      <td>87.43</td>\n",
       "      <td>36436000</td>\n",
       "    </tr>\n",
       "    <tr>\n",
       "      <th>2014-07-10</th>\n",
       "      <td>93.76</td>\n",
       "      <td>95.55</td>\n",
       "      <td>93.52</td>\n",
       "      <td>95.04</td>\n",
       "      <td>87.11</td>\n",
       "      <td>39686000</td>\n",
       "    </tr>\n",
       "    <tr>\n",
       "      <th>2014-07-11</th>\n",
       "      <td>95.36</td>\n",
       "      <td>95.89</td>\n",
       "      <td>94.86</td>\n",
       "      <td>95.22</td>\n",
       "      <td>87.27</td>\n",
       "      <td>34018000</td>\n",
       "    </tr>\n",
       "    <tr>\n",
       "      <th>2014-07-14</th>\n",
       "      <td>95.86</td>\n",
       "      <td>96.89</td>\n",
       "      <td>95.65</td>\n",
       "      <td>96.45</td>\n",
       "      <td>88.40</td>\n",
       "      <td>42810000</td>\n",
       "    </tr>\n",
       "    <tr>\n",
       "      <th>2014-07-15</th>\n",
       "      <td>96.80</td>\n",
       "      <td>96.85</td>\n",
       "      <td>95.03</td>\n",
       "      <td>95.32</td>\n",
       "      <td>87.36</td>\n",
       "      <td>45477900</td>\n",
       "    </tr>\n",
       "    <tr>\n",
       "      <th>2014-07-16</th>\n",
       "      <td>96.97</td>\n",
       "      <td>97.10</td>\n",
       "      <td>94.74</td>\n",
       "      <td>94.78</td>\n",
       "      <td>86.87</td>\n",
       "      <td>53396300</td>\n",
       "    </tr>\n",
       "    <tr>\n",
       "      <th>2014-07-17</th>\n",
       "      <td>95.03</td>\n",
       "      <td>95.28</td>\n",
       "      <td>92.57</td>\n",
       "      <td>93.09</td>\n",
       "      <td>85.32</td>\n",
       "      <td>57298000</td>\n",
       "    </tr>\n",
       "    <tr>\n",
       "      <th>2014-07-18</th>\n",
       "      <td>93.62</td>\n",
       "      <td>94.74</td>\n",
       "      <td>93.02</td>\n",
       "      <td>94.43</td>\n",
       "      <td>86.55</td>\n",
       "      <td>49988000</td>\n",
       "    </tr>\n",
       "    <tr>\n",
       "      <th>2014-07-21</th>\n",
       "      <td>94.99</td>\n",
       "      <td>95.00</td>\n",
       "      <td>93.72</td>\n",
       "      <td>93.94</td>\n",
       "      <td>86.10</td>\n",
       "      <td>39079000</td>\n",
       "    </tr>\n",
       "    <tr>\n",
       "      <th>2014-07-22</th>\n",
       "      <td>94.68</td>\n",
       "      <td>94.89</td>\n",
       "      <td>94.12</td>\n",
       "      <td>94.72</td>\n",
       "      <td>86.81</td>\n",
       "      <td>55197000</td>\n",
       "    </tr>\n",
       "    <tr>\n",
       "      <th>2014-07-23</th>\n",
       "      <td>95.42</td>\n",
       "      <td>97.88</td>\n",
       "      <td>95.17</td>\n",
       "      <td>97.19</td>\n",
       "      <td>89.08</td>\n",
       "      <td>92918000</td>\n",
       "    </tr>\n",
       "    <tr>\n",
       "      <th>2014-07-24</th>\n",
       "      <td>97.04</td>\n",
       "      <td>97.32</td>\n",
       "      <td>96.42</td>\n",
       "      <td>97.03</td>\n",
       "      <td>88.93</td>\n",
       "      <td>45729000</td>\n",
       "    </tr>\n",
       "    <tr>\n",
       "      <th>2014-07-25</th>\n",
       "      <td>96.85</td>\n",
       "      <td>97.84</td>\n",
       "      <td>96.64</td>\n",
       "      <td>97.67</td>\n",
       "      <td>89.52</td>\n",
       "      <td>43469000</td>\n",
       "    </tr>\n",
       "    <tr>\n",
       "      <th>2014-07-28</th>\n",
       "      <td>97.82</td>\n",
       "      <td>99.24</td>\n",
       "      <td>97.55</td>\n",
       "      <td>99.02</td>\n",
       "      <td>90.75</td>\n",
       "      <td>55318000</td>\n",
       "    </tr>\n",
       "    <tr>\n",
       "      <th>2014-07-29</th>\n",
       "      <td>99.33</td>\n",
       "      <td>99.44</td>\n",
       "      <td>98.25</td>\n",
       "      <td>98.38</td>\n",
       "      <td>90.17</td>\n",
       "      <td>43143000</td>\n",
       "    </tr>\n",
       "    <tr>\n",
       "      <th>2014-07-30</th>\n",
       "      <td>98.44</td>\n",
       "      <td>98.70</td>\n",
       "      <td>97.67</td>\n",
       "      <td>98.15</td>\n",
       "      <td>89.96</td>\n",
       "      <td>33010000</td>\n",
       "    </tr>\n",
       "    <tr>\n",
       "      <th>2014-07-31</th>\n",
       "      <td>97.16</td>\n",
       "      <td>97.45</td>\n",
       "      <td>95.33</td>\n",
       "      <td>95.60</td>\n",
       "      <td>87.62</td>\n",
       "      <td>56843000</td>\n",
       "    </tr>\n",
       "    <tr>\n",
       "      <th>2014-08-01</th>\n",
       "      <td>94.90</td>\n",
       "      <td>96.62</td>\n",
       "      <td>94.81</td>\n",
       "      <td>96.13</td>\n",
       "      <td>88.11</td>\n",
       "      <td>48511000</td>\n",
       "    </tr>\n",
       "    <tr>\n",
       "      <th>2014-08-04</th>\n",
       "      <td>96.37</td>\n",
       "      <td>96.58</td>\n",
       "      <td>95.17</td>\n",
       "      <td>95.59</td>\n",
       "      <td>87.61</td>\n",
       "      <td>39958000</td>\n",
       "    </tr>\n",
       "    <tr>\n",
       "      <th>...</th>\n",
       "      <td>...</td>\n",
       "      <td>...</td>\n",
       "      <td>...</td>\n",
       "      <td>...</td>\n",
       "      <td>...</td>\n",
       "      <td>...</td>\n",
       "    </tr>\n",
       "    <tr>\n",
       "      <th>2019-05-10</th>\n",
       "      <td>197.42</td>\n",
       "      <td>198.85</td>\n",
       "      <td>192.77</td>\n",
       "      <td>197.18</td>\n",
       "      <td>197.18</td>\n",
       "      <td>41208700</td>\n",
       "    </tr>\n",
       "    <tr>\n",
       "      <th>2019-05-13</th>\n",
       "      <td>187.71</td>\n",
       "      <td>189.48</td>\n",
       "      <td>182.85</td>\n",
       "      <td>185.72</td>\n",
       "      <td>185.72</td>\n",
       "      <td>57430600</td>\n",
       "    </tr>\n",
       "    <tr>\n",
       "      <th>2019-05-14</th>\n",
       "      <td>186.41</td>\n",
       "      <td>189.70</td>\n",
       "      <td>185.41</td>\n",
       "      <td>188.66</td>\n",
       "      <td>188.66</td>\n",
       "      <td>36529700</td>\n",
       "    </tr>\n",
       "    <tr>\n",
       "      <th>2019-05-15</th>\n",
       "      <td>186.27</td>\n",
       "      <td>191.75</td>\n",
       "      <td>186.02</td>\n",
       "      <td>190.92</td>\n",
       "      <td>190.92</td>\n",
       "      <td>26544700</td>\n",
       "    </tr>\n",
       "    <tr>\n",
       "      <th>2019-05-16</th>\n",
       "      <td>189.91</td>\n",
       "      <td>192.47</td>\n",
       "      <td>188.84</td>\n",
       "      <td>190.08</td>\n",
       "      <td>190.08</td>\n",
       "      <td>33031400</td>\n",
       "    </tr>\n",
       "    <tr>\n",
       "      <th>2019-05-17</th>\n",
       "      <td>186.93</td>\n",
       "      <td>190.90</td>\n",
       "      <td>186.76</td>\n",
       "      <td>189.00</td>\n",
       "      <td>189.00</td>\n",
       "      <td>32879100</td>\n",
       "    </tr>\n",
       "    <tr>\n",
       "      <th>2019-05-20</th>\n",
       "      <td>183.52</td>\n",
       "      <td>184.35</td>\n",
       "      <td>180.28</td>\n",
       "      <td>183.09</td>\n",
       "      <td>183.09</td>\n",
       "      <td>38612300</td>\n",
       "    </tr>\n",
       "    <tr>\n",
       "      <th>2019-05-21</th>\n",
       "      <td>185.22</td>\n",
       "      <td>188.00</td>\n",
       "      <td>184.70</td>\n",
       "      <td>186.60</td>\n",
       "      <td>186.60</td>\n",
       "      <td>28364800</td>\n",
       "    </tr>\n",
       "    <tr>\n",
       "      <th>2019-05-22</th>\n",
       "      <td>184.66</td>\n",
       "      <td>185.71</td>\n",
       "      <td>182.55</td>\n",
       "      <td>182.78</td>\n",
       "      <td>182.78</td>\n",
       "      <td>29748600</td>\n",
       "    </tr>\n",
       "    <tr>\n",
       "      <th>2019-05-23</th>\n",
       "      <td>179.80</td>\n",
       "      <td>180.54</td>\n",
       "      <td>177.81</td>\n",
       "      <td>179.66</td>\n",
       "      <td>179.66</td>\n",
       "      <td>36529700</td>\n",
       "    </tr>\n",
       "    <tr>\n",
       "      <th>2019-05-24</th>\n",
       "      <td>180.20</td>\n",
       "      <td>182.14</td>\n",
       "      <td>178.62</td>\n",
       "      <td>178.97</td>\n",
       "      <td>178.97</td>\n",
       "      <td>23714700</td>\n",
       "    </tr>\n",
       "    <tr>\n",
       "      <th>2019-05-28</th>\n",
       "      <td>178.92</td>\n",
       "      <td>180.59</td>\n",
       "      <td>177.91</td>\n",
       "      <td>178.23</td>\n",
       "      <td>178.23</td>\n",
       "      <td>27948200</td>\n",
       "    </tr>\n",
       "    <tr>\n",
       "      <th>2019-05-29</th>\n",
       "      <td>176.42</td>\n",
       "      <td>179.35</td>\n",
       "      <td>176.00</td>\n",
       "      <td>177.38</td>\n",
       "      <td>177.38</td>\n",
       "      <td>28481200</td>\n",
       "    </tr>\n",
       "    <tr>\n",
       "      <th>2019-05-30</th>\n",
       "      <td>177.95</td>\n",
       "      <td>179.23</td>\n",
       "      <td>176.67</td>\n",
       "      <td>178.30</td>\n",
       "      <td>178.30</td>\n",
       "      <td>21218400</td>\n",
       "    </tr>\n",
       "    <tr>\n",
       "      <th>2019-05-31</th>\n",
       "      <td>176.23</td>\n",
       "      <td>177.99</td>\n",
       "      <td>174.99</td>\n",
       "      <td>175.07</td>\n",
       "      <td>175.07</td>\n",
       "      <td>27043600</td>\n",
       "    </tr>\n",
       "    <tr>\n",
       "      <th>2019-06-03</th>\n",
       "      <td>175.60</td>\n",
       "      <td>177.92</td>\n",
       "      <td>170.27</td>\n",
       "      <td>173.30</td>\n",
       "      <td>173.30</td>\n",
       "      <td>40396100</td>\n",
       "    </tr>\n",
       "    <tr>\n",
       "      <th>2019-06-04</th>\n",
       "      <td>175.44</td>\n",
       "      <td>179.83</td>\n",
       "      <td>174.52</td>\n",
       "      <td>179.64</td>\n",
       "      <td>179.64</td>\n",
       "      <td>30968000</td>\n",
       "    </tr>\n",
       "    <tr>\n",
       "      <th>2019-06-05</th>\n",
       "      <td>184.28</td>\n",
       "      <td>184.99</td>\n",
       "      <td>181.14</td>\n",
       "      <td>182.54</td>\n",
       "      <td>182.54</td>\n",
       "      <td>29773400</td>\n",
       "    </tr>\n",
       "    <tr>\n",
       "      <th>2019-06-06</th>\n",
       "      <td>183.08</td>\n",
       "      <td>185.47</td>\n",
       "      <td>182.15</td>\n",
       "      <td>185.22</td>\n",
       "      <td>185.22</td>\n",
       "      <td>22526300</td>\n",
       "    </tr>\n",
       "    <tr>\n",
       "      <th>2019-06-07</th>\n",
       "      <td>186.51</td>\n",
       "      <td>191.92</td>\n",
       "      <td>185.77</td>\n",
       "      <td>190.15</td>\n",
       "      <td>190.15</td>\n",
       "      <td>30684400</td>\n",
       "    </tr>\n",
       "    <tr>\n",
       "      <th>2019-06-10</th>\n",
       "      <td>191.81</td>\n",
       "      <td>195.37</td>\n",
       "      <td>191.62</td>\n",
       "      <td>192.58</td>\n",
       "      <td>192.58</td>\n",
       "      <td>26220900</td>\n",
       "    </tr>\n",
       "    <tr>\n",
       "      <th>2019-06-11</th>\n",
       "      <td>194.86</td>\n",
       "      <td>196.00</td>\n",
       "      <td>193.60</td>\n",
       "      <td>194.81</td>\n",
       "      <td>194.81</td>\n",
       "      <td>26932900</td>\n",
       "    </tr>\n",
       "    <tr>\n",
       "      <th>2019-06-12</th>\n",
       "      <td>193.95</td>\n",
       "      <td>195.97</td>\n",
       "      <td>193.39</td>\n",
       "      <td>194.19</td>\n",
       "      <td>194.19</td>\n",
       "      <td>18253200</td>\n",
       "    </tr>\n",
       "    <tr>\n",
       "      <th>2019-06-13</th>\n",
       "      <td>194.70</td>\n",
       "      <td>196.79</td>\n",
       "      <td>193.60</td>\n",
       "      <td>194.15</td>\n",
       "      <td>194.15</td>\n",
       "      <td>21674600</td>\n",
       "    </tr>\n",
       "    <tr>\n",
       "      <th>2019-06-14</th>\n",
       "      <td>191.55</td>\n",
       "      <td>193.59</td>\n",
       "      <td>190.30</td>\n",
       "      <td>192.74</td>\n",
       "      <td>192.74</td>\n",
       "      <td>18761500</td>\n",
       "    </tr>\n",
       "    <tr>\n",
       "      <th>2019-06-17</th>\n",
       "      <td>192.90</td>\n",
       "      <td>194.96</td>\n",
       "      <td>192.17</td>\n",
       "      <td>193.89</td>\n",
       "      <td>193.89</td>\n",
       "      <td>14669100</td>\n",
       "    </tr>\n",
       "    <tr>\n",
       "      <th>2019-06-18</th>\n",
       "      <td>196.05</td>\n",
       "      <td>200.29</td>\n",
       "      <td>195.21</td>\n",
       "      <td>198.45</td>\n",
       "      <td>198.45</td>\n",
       "      <td>26551000</td>\n",
       "    </tr>\n",
       "    <tr>\n",
       "      <th>2019-06-19</th>\n",
       "      <td>199.68</td>\n",
       "      <td>199.88</td>\n",
       "      <td>197.31</td>\n",
       "      <td>197.87</td>\n",
       "      <td>197.87</td>\n",
       "      <td>21124200</td>\n",
       "    </tr>\n",
       "    <tr>\n",
       "      <th>2019-06-20</th>\n",
       "      <td>200.37</td>\n",
       "      <td>200.61</td>\n",
       "      <td>198.03</td>\n",
       "      <td>199.46</td>\n",
       "      <td>199.46</td>\n",
       "      <td>21514000</td>\n",
       "    </tr>\n",
       "    <tr>\n",
       "      <th>2019-06-21</th>\n",
       "      <td>198.80</td>\n",
       "      <td>200.85</td>\n",
       "      <td>198.15</td>\n",
       "      <td>198.78</td>\n",
       "      <td>198.78</td>\n",
       "      <td>47735300</td>\n",
       "    </tr>\n",
       "  </tbody>\n",
       "</table>\n",
       "<p>1259 rows × 6 columns</p>\n",
       "</div>"
      ],
      "text/plain": [
       "              Open    High     Low   Close  Adj Close    Volume\n",
       "Date                                                           \n",
       "2014-06-23   91.32   91.62   90.60   90.83      83.25  43694000\n",
       "2014-06-24   90.75   91.74   90.19   90.28      82.74  39036000\n",
       "2014-06-25   90.21   90.70   89.65   90.36      82.82  36869000\n",
       "2014-06-26   90.37   91.05   89.80   90.90      83.31  32629000\n",
       "2014-06-27   90.82   92.00   90.77   91.98      84.30  64029000\n",
       "2014-06-30   92.10   93.73   92.09   92.93      85.17  49482300\n",
       "2014-07-01   93.52   94.07   93.13   93.52      85.71  38223000\n",
       "2014-07-02   93.87   94.06   93.09   93.48      85.68  28465000\n",
       "2014-07-03   93.67   94.10   93.20   94.03      86.18  22891800\n",
       "2014-07-07   94.14   95.99   94.10   95.97      87.96  56468000\n",
       "2014-07-08   96.27   96.80   93.92   95.35      87.39  65222000\n",
       "2014-07-09   95.44   95.95   94.76   95.39      87.43  36436000\n",
       "2014-07-10   93.76   95.55   93.52   95.04      87.11  39686000\n",
       "2014-07-11   95.36   95.89   94.86   95.22      87.27  34018000\n",
       "2014-07-14   95.86   96.89   95.65   96.45      88.40  42810000\n",
       "2014-07-15   96.80   96.85   95.03   95.32      87.36  45477900\n",
       "2014-07-16   96.97   97.10   94.74   94.78      86.87  53396300\n",
       "2014-07-17   95.03   95.28   92.57   93.09      85.32  57298000\n",
       "2014-07-18   93.62   94.74   93.02   94.43      86.55  49988000\n",
       "2014-07-21   94.99   95.00   93.72   93.94      86.10  39079000\n",
       "2014-07-22   94.68   94.89   94.12   94.72      86.81  55197000\n",
       "2014-07-23   95.42   97.88   95.17   97.19      89.08  92918000\n",
       "2014-07-24   97.04   97.32   96.42   97.03      88.93  45729000\n",
       "2014-07-25   96.85   97.84   96.64   97.67      89.52  43469000\n",
       "2014-07-28   97.82   99.24   97.55   99.02      90.75  55318000\n",
       "2014-07-29   99.33   99.44   98.25   98.38      90.17  43143000\n",
       "2014-07-30   98.44   98.70   97.67   98.15      89.96  33010000\n",
       "2014-07-31   97.16   97.45   95.33   95.60      87.62  56843000\n",
       "2014-08-01   94.90   96.62   94.81   96.13      88.11  48511000\n",
       "2014-08-04   96.37   96.58   95.17   95.59      87.61  39958000\n",
       "...            ...     ...     ...     ...        ...       ...\n",
       "2019-05-10  197.42  198.85  192.77  197.18     197.18  41208700\n",
       "2019-05-13  187.71  189.48  182.85  185.72     185.72  57430600\n",
       "2019-05-14  186.41  189.70  185.41  188.66     188.66  36529700\n",
       "2019-05-15  186.27  191.75  186.02  190.92     190.92  26544700\n",
       "2019-05-16  189.91  192.47  188.84  190.08     190.08  33031400\n",
       "2019-05-17  186.93  190.90  186.76  189.00     189.00  32879100\n",
       "2019-05-20  183.52  184.35  180.28  183.09     183.09  38612300\n",
       "2019-05-21  185.22  188.00  184.70  186.60     186.60  28364800\n",
       "2019-05-22  184.66  185.71  182.55  182.78     182.78  29748600\n",
       "2019-05-23  179.80  180.54  177.81  179.66     179.66  36529700\n",
       "2019-05-24  180.20  182.14  178.62  178.97     178.97  23714700\n",
       "2019-05-28  178.92  180.59  177.91  178.23     178.23  27948200\n",
       "2019-05-29  176.42  179.35  176.00  177.38     177.38  28481200\n",
       "2019-05-30  177.95  179.23  176.67  178.30     178.30  21218400\n",
       "2019-05-31  176.23  177.99  174.99  175.07     175.07  27043600\n",
       "2019-06-03  175.60  177.92  170.27  173.30     173.30  40396100\n",
       "2019-06-04  175.44  179.83  174.52  179.64     179.64  30968000\n",
       "2019-06-05  184.28  184.99  181.14  182.54     182.54  29773400\n",
       "2019-06-06  183.08  185.47  182.15  185.22     185.22  22526300\n",
       "2019-06-07  186.51  191.92  185.77  190.15     190.15  30684400\n",
       "2019-06-10  191.81  195.37  191.62  192.58     192.58  26220900\n",
       "2019-06-11  194.86  196.00  193.60  194.81     194.81  26932900\n",
       "2019-06-12  193.95  195.97  193.39  194.19     194.19  18253200\n",
       "2019-06-13  194.70  196.79  193.60  194.15     194.15  21674600\n",
       "2019-06-14  191.55  193.59  190.30  192.74     192.74  18761500\n",
       "2019-06-17  192.90  194.96  192.17  193.89     193.89  14669100\n",
       "2019-06-18  196.05  200.29  195.21  198.45     198.45  26551000\n",
       "2019-06-19  199.68  199.88  197.31  197.87     197.87  21124200\n",
       "2019-06-20  200.37  200.61  198.03  199.46     199.46  21514000\n",
       "2019-06-21  198.80  200.85  198.15  198.78     198.78  47735300\n",
       "\n",
       "[1259 rows x 6 columns]"
      ]
     },
     "execution_count": 7,
     "metadata": {},
     "output_type": "execute_result"
    }
   ],
   "source": [
    "data"
   ]
  },
  {
   "cell_type": "markdown",
   "metadata": {},
   "source": [
    "Now we plot the closing prices, since we will build a model for these:"
   ]
  },
  {
   "cell_type": "code",
   "execution_count": 8,
   "metadata": {},
   "outputs": [
    {
     "name": "stderr",
     "output_type": "stream",
     "text": [
      "C:\\Users\\rhopi\\Anaconda3\\lib\\site-packages\\pandas\\plotting\\_converter.py:129: FutureWarning: Using an implicitly registered datetime converter for a matplotlib plotting method. The converter was registered by pandas on import. Future versions of pandas will require you to explicitly register matplotlib converters.\n",
      "\n",
      "To register the converters:\n",
      "\t>>> from pandas.plotting import register_matplotlib_converters\n",
      "\t>>> register_matplotlib_converters()\n",
      "  warnings.warn(msg, FutureWarning)\n"
     ]
    },
    {
     "data": {
      "text/plain": [
       "Text(0, 0.5, 'Price ($)')"
      ]
     },
     "execution_count": 8,
     "metadata": {},
     "output_type": "execute_result"
    },
    {
     "data": {
      "image/png": "[encoded data removed]",
      "text/plain": [
       "<Figure size 432x288 with 1 Axes>"
      ]
     },
     "metadata": {
      "needs_background": "light"
     },
     "output_type": "display_data"
    }
   ],
   "source": [
    "plt.plot( data.Close )\n",
    "\n",
    "plt.xlabel( 'Time (y)' )\n",
    "\n",
    "plt.ylabel( 'Price ($)' )"
   ]
  },
  {
   "cell_type": "markdown",
   "metadata": {},
   "source": [
    "We see, that the stock price of APPLE is not a [stationary process](https://en.wikipedia.org/wiki/Stationary_process).<br>\n",
    "This means, that the stock price changes its mean over the considered time period as well as the standard deviation.<br>\n",
    "Next, we split the data set into a __training set__ of $1000$ data points, and a __test set__:"
   ]
  },
  {
   "cell_type": "code",
   "execution_count": 9,
   "metadata": {},
   "outputs": [],
   "source": [
    "prices = data.Close.values\n",
    "\n",
    "train = prices[ 0 : 1000 ]\n",
    "\n",
    "test = prices[ 1000 : len( prices ) ]"
   ]
  },
  {
   "cell_type": "markdown",
   "metadata": {},
   "source": [
    "Next, we standardize the data:"
   ]
  },
  {
   "cell_type": "code",
   "execution_count": 10,
   "metadata": {},
   "outputs": [],
   "source": [
    "mu = np.mean( train )\n",
    "\n",
    "sigma = np.std( train )\n",
    "\n",
    "\n",
    "train = ( train - mu ) / sigma\n",
    "\n",
    "test = ( test - mu ) / sigma"
   ]
  },
  {
   "cell_type": "markdown",
   "metadata": {},
   "source": [
    "Now that we have prepared the data, let's find out out, what recurrent neural networks actually are: the basic assumption is, that there exists a signal $x_{ t }$ and a hidden state $h_{ t }$. In a recurrent neural network, the signal $x_{ t }$ and the hidden state from the previous point in time $h_{ t - 1 }$ are used to compute the current hidden state $h_{ t }$, and this current state is used to compute the current value $y_{ t }$. Therefore <br>\n",
    "$\\left( \\begin{array}{c} h_{ t }\\\\ y_{ t }\\end{array}\\right) = \\left( \\begin{array}{c} \\sigma_{ h } \\left( W_{ h } h_{ t - 1 } + W_{ x } x_{ t } + b_{ h } \\right) \\\\ \\sigma_{ y } \\left( W_{ y } h_{ t } + b_{ y }\\right) \\end{array}\\right)$<br>\n",
    "Here, $\\sigma_{ h }$ and $\\sigma_{ y }$ are activation functions, $W_{ h }, W_{ x }$ and $W_{ y }$ are weight matrices and $b_{ h }$ and $b_{ y }$ are bias vectors.<br>\n",
    "The problem with this model is, that the gradients that are used to update the weights tend to explode. This is due to the fact, that each state depends on its predecessor, and therefore the last state depends on the first state.<br>\n",
    "One approach to circumvene this problem is to introduce a \"forget gate\" which renders the past before a certain time step irrevelant for the current state. This is expressed in the so called __long short term memory (LSTM)__ [model](https://en.wikipedia.org/wiki/Long_short-term_memory).<br>\n",
    "We will build a network of $32$ LSTM cells. We will use the past $32$ closing prices to predict the current closing price. For this, we employ [LSTMCell](https://www.tensorflow.org/api_docs/python/tf/nn/rnn_cell/LSTMCell) for the LSTM cell. To compute the output of a LSTM cell, we employ [dynamic_rnn](https://www.tensorflow.org/api_docs/python/tf/nn/dynamic_rnn)."
   ]
  },
  {
   "cell_type": "code",
   "execution_count": 11,
   "metadata": {},
   "outputs": [
    {
     "name": "stdout",
     "output_type": "stream",
     "text": [
      "WARNING:tensorflow:From <ipython-input-11-9f1c54761544>:7: LSTMCell.__init__ (from tensorflow.python.ops.rnn_cell_impl) is deprecated and will be removed in a future version.\n",
      "Instructions for updating:\n",
      "This class is equivalent as tf.keras.layers.LSTMCell, and will be replaced by that in Tensorflow 2.0.\n",
      "WARNING:tensorflow:From <ipython-input-11-9f1c54761544>:9: dynamic_rnn (from tensorflow.python.ops.rnn) is deprecated and will be removed in a future version.\n",
      "Instructions for updating:\n",
      "Please use `keras.layers.RNN(cell)`, which is equivalent to this API\n",
      "WARNING:tensorflow:From C:\\Users\\rhopi\\Anaconda3\\lib\\site-packages\\tensorflow\\python\\ops\\tensor_array_ops.py:162: colocate_with (from tensorflow.python.framework.ops) is deprecated and will be removed in a future version.\n",
      "Instructions for updating:\n",
      "Colocations handled automatically by placer.\n"
     ]
    }
   ],
   "source": [
    "x_tf = tf.placeholder( tf.float32, shape = [ None, 32, 1 ] )\n",
    "\n",
    "y_tf = tf.placeholder( tf.float32, shape = [ None, 1 ] )\n",
    "\n",
    "\n",
    "\n",
    "lstm1 = tf.nn.rnn_cell.LSTMCell( 32, state_is_tuple = True )\n",
    "\n",
    "lstm1_out, _ = tf.nn.dynamic_rnn( lstm1, x_tf, dtype = tf.float32 )\n",
    "\n",
    "lstm1_out2 = lstm1_out[ :, -1, : ]\n",
    "\n",
    "\n",
    "\n",
    "W_tf = tf.Variable( tf.truncated_normal( [ 32, 1 ] ) )\n",
    "\n",
    "b_tf = tf.Variable( tf.truncated_normal( [ 1 ] ) )\n",
    "\n",
    "output = tf.matmul( lstm1_out2, W_tf ) + b_tf "
   ]
  },
  {
   "cell_type": "markdown",
   "metadata": {},
   "source": [
    "In order to perform the training, we use gradient descent. Our loss function will be [R squared](https://en.wikipedia.org/wiki/Coefficient_of_determination). R squared relates the variance between the predicted values and the true values:<br>\n",
    "$R^{ 2 } = 1 - \\frac{ \\sum \\left( y - p \\right)^{ 2 } }{ \\sum \\left( y - \\mu \\right)^{ 2 } }$<br>\n",
    "where $y$ is the true data, $p$ is the predicted data and $\\mu$ is the mean of the measured data.<br>\n",
    "If the predicted data approximate the measured data perfectly, then $R^{ 2 }$ will be $1$. If the predicted data vary around the measured data to the same degree as the measured data vary around their mean, then $R^{ 2 }$ will be $0$. A model is decent if $R^{ 2 }$ is greater than $0.7$.<br>\n",
    "We employ [reduce_sum](https://www.tensorflow.org/api_docs/python/tf/math/reduce_sum) to make the sums.<br>\n",
    "Since we use gradient descent to minimize the loss function, but we want to maximize $R^{ 2 }$, we minimize $-R^{ 2 }$.<br>\n",
    "For gradient descent, we employ a learning rate of $0.0001$."
   ]
  },
  {
   "cell_type": "code",
   "execution_count": 12,
   "metadata": {},
   "outputs": [],
   "source": [
    "denominator = tf.math.reduce_sum( ( y_tf - tf.math.reduce_mean( y_tf ) ) ** 2 )\n",
    "\n",
    "r_squared = 1 - tf.math.reduce_sum( ( y_tf - output ) ** 2 ) / denominator\n",
    "\n",
    "gd = tf.train.GradientDescentOptimizer( 0.0001 ).minimize( - r_squared )"
   ]
  },
  {
   "cell_type": "markdown",
   "metadata": {},
   "source": [
    "Next, we reorganize the data."
   ]
  },
  {
   "cell_type": "code",
   "execution_count": 13,
   "metadata": {},
   "outputs": [],
   "source": [
    "train_x = np.zeros( shape = [ 967, 32, 1 ] )\n",
    "\n",
    "train_y = np.zeros( shape = [ 967, 1 ] )\n",
    "\n",
    "test_x = np.zeros( shape = [ 226, 32, 1 ] )\n",
    "\n",
    "test_y = np.zeros( shape = [ 226, 1 ] )\n",
    "\n",
    "\n",
    "\n",
    "\n",
    "for i in range( 967 ):\n",
    "    \n",
    "    train_x[ i, :, 0 ] = train[ i : ( i + 32 ) ]\n",
    "    \n",
    "    train_y[ i, : ] = train[ i + 32 ]\n",
    "    \n",
    "    \n",
    "    \n",
    "for i in range( 226 ):\n",
    "    \n",
    "    test_x[ i, :, 0 ] = test[ i : ( i + 32 ) ]\n",
    "    \n",
    "    test_y[ i, : ] = test[ i + 32 ]"
   ]
  },
  {
   "cell_type": "markdown",
   "metadata": {},
   "source": [
    "Now, we train the network on $100$ randomly drawn training data for $400000$ iterations."
   ]
  },
  {
   "cell_type": "code",
   "execution_count": 14,
   "metadata": {},
   "outputs": [],
   "source": [
    "sess = tf.Session()\n",
    "\n",
    "\n",
    "sess.run( tf.global_variables_initializer() )\n",
    "\n",
    "\n",
    "\n",
    "performance_train_current = []\n",
    "\n",
    "performance_train_complete = []\n",
    "\n",
    "performance_test = []\n",
    "\n",
    "iterations = []\n",
    "\n",
    "\n",
    "\n",
    "\n",
    "for i in range( 400000 ):\n",
    "    \n",
    "    random_integers = np.random.choice( range( 967 ), 100, replace = False )\n",
    "                \n",
    "    local_x = train_x[ random_integers, :, : ]\n",
    "    \n",
    "    local_y = train_y[ random_integers, : ]\n",
    "    \n",
    "    sess.run( gd, feed_dict = { x_tf : local_x, y_tf : local_y } )\n",
    "    \n",
    "    performance_train_current.append( sess.run( r_squared, feed_dict = { x_tf : local_x, y_tf : local_y } ) )\n",
    "\n",
    "    performance_train_complete.append( sess.run( r_squared, feed_dict = { x_tf : train_x, y_tf : train_y } ) )\n",
    "\n",
    "    performance_test.append( sess.run( r_squared, feed_dict = { x_tf : test_x, y_tf : test_y } ) )\n",
    "    \n",
    "    iterations.append( i )"
   ]
  },
  {
   "cell_type": "code",
   "execution_count": 15,
   "metadata": {},
   "outputs": [
    {
     "data": {
      "text/plain": [
       "Text(0, 0.5, 'R squared (-)')"
      ]
     },
     "execution_count": 15,
     "metadata": {},
     "output_type": "execute_result"
    },
    {
     "data": {
      "image/png": "[encoded data removed]",
      "text/plain": [
       "<Figure size 432x288 with 1 Axes>"
      ]
     },
     "metadata": {
      "needs_background": "light"
     },
     "output_type": "display_data"
    }
   ],
   "source": [
    "plt.plot( iterations, performance_train_current, label = 'Accuracy on current Training Set' )\n",
    "\n",
    "plt.plot( iterations, performance_train_complete, label = 'Accuracy on complete Training Set' )\n",
    "\n",
    "plt.plot( iterations, performance_test, label = 'Accuracy on Test Set' )\n",
    "\n",
    "plt.legend( loc = 'best' )\n",
    "\n",
    "plt.xlabel( 'Iterations (-)' )\n",
    "\n",
    "plt.ylabel( 'R squared (-)' )"
   ]
  },
  {
   "cell_type": "code",
   "execution_count": 16,
   "metadata": {},
   "outputs": [
    {
     "data": {
      "image/png": "[encoded data removed]",
      "text/plain": [
       "<Figure size 432x288 with 1 Axes>"
      ]
     },
     "metadata": {
      "needs_background": "light"
     },
     "output_type": "display_data"
    }
   ],
   "source": [
    "plt.plot( test_y, sess.run( output, feed_dict = { x_tf : test_x } ), 'bo', markersize = 1, label = 'LSTM' )\n",
    "\n",
    "plt.plot( test_y, test_x[ :, 31 ], 'ro', markersize = 1, label = 'Standardized Closing Price ($) from the day before' )\n",
    "\n",
    "plt.xlabel( 'True Standardized Closing Price ($)' )\n",
    "\n",
    "plt.ylabel( 'Predicted Standardized Closing Price ($)' )\n",
    "\n",
    "plt.legend( loc = 'best' )\n",
    "\n",
    "plt.grid()"
   ]
  },
  {
   "cell_type": "markdown",
   "metadata": {},
   "source": [
    "In the plot above, we compare two predictors: in blue the LSTM, in red the closing price from the day before. In general, the LSTM seems to be closer to the diagonal, which means, that the LSTM is a better predictor than the closing price from the day before. However: when the closing price that is to be predicted is greater than $2.5$, the LSTM performs worse than the closing price from the day before. This can be explained with the fact, that we used the first $4$ years to train the LSTM, and in the fifth year, prices were reached, that the LSTM hasn't seen before.<br>\n",
    "We introduced the grid for better visibility by using [grid](https://matplotlib.org/3.1.0/api/_as_gen/matplotlib.pyplot.grid.html)."
   ]
  },
  {
   "cell_type": "code",
   "execution_count": 17,
   "metadata": {},
   "outputs": [
    {
     "data": {
      "text/plain": [
       "Text(0, 0.5, 'R squared (-)')"
      ]
     },
     "execution_count": 17,
     "metadata": {},
     "output_type": "execute_result"
    },
    {
     "data": {
      "image/png": "[encoded data removed]",
      "text/plain": [
       "<Figure size 432x288 with 1 Axes>"
      ]
     },
     "metadata": {
      "needs_background": "light"
     },
     "output_type": "display_data"
    }
   ],
   "source": [
    "plt.plot( iterations[ 1000 : len( performance_train_current ) ], \n",
    "         performance_train_current[ 1000 : len( performance_train_current ) ], label = 'Accuracy on current Training Set' )\n",
    "\n",
    "plt.plot( iterations[ 1000 : len( performance_train_current ) ],\n",
    "         performance_train_complete[ 1000 : len( performance_train_current ) ], label = 'Accuracy on complete Training Set' )\n",
    "\n",
    "plt.plot( iterations[ 1000 : len( performance_train_current ) ],\n",
    "         performance_test[ 1000 : len( performance_train_current ) ], label = 'Accuracy on Test Set' )\n",
    "\n",
    "plt.legend( loc = 'best' )\n",
    "\n",
    "plt.xlabel( 'Iterations (-)' )\n",
    "\n",
    "plt.ylabel( 'R squared (-)' )"
   ]
  },
  {
   "cell_type": "code",
   "execution_count": 18,
   "metadata": {},
   "outputs": [
    {
     "data": {
      "text/plain": [
       "Text(0, 0.5, 'R squared (-)')"
      ]
     },
     "execution_count": 18,
     "metadata": {},
     "output_type": "execute_result"
    },
    {
     "data": {
      "image/png": "[encoded data removed]",
      "text/plain": [
       "<Figure size 432x288 with 1 Axes>"
      ]
     },
     "metadata": {
      "needs_background": "light"
     },
     "output_type": "display_data"
    }
   ],
   "source": [
    "plt.plot( iterations[ 40000 : len( performance_train_current ) ], \n",
    "         performance_train_current[ 40000 : len( performance_train_current ) ], label = 'Accuracy on current Training Set' )\n",
    "\n",
    "plt.plot( iterations[ 40000 : len( performance_train_current ) ],\n",
    "         performance_train_complete[ 40000 : len( performance_train_current ) ], label = 'Accuracy on complete Training Set' )\n",
    "\n",
    "plt.plot( iterations[ 40000 : len( performance_train_current ) ],\n",
    "         performance_test[ 40000 : len( performance_train_current ) ], label = 'Accuracy on Test Set' )\n",
    "\n",
    "plt.legend( loc = 'best' )\n",
    "\n",
    "plt.xlabel( 'Iterations (-)' )\n",
    "\n",
    "plt.ylabel( 'R squared (-)' )"
   ]
  },
  {
   "cell_type": "code",
   "execution_count": 19,
   "metadata": {},
   "outputs": [],
   "source": [
    "sess.close()"
   ]
  },
  {
   "cell_type": "markdown",
   "metadata": {},
   "source": [
    "In this lesson, we trained our first LSTM. We achieved a decent accuracy, which still can be improved. For now, we close this lesson. Class dismissed."
   ]
  }
 ],
 "metadata": {
  "kernelspec": {
   "display_name": "Python 3",
   "language": "python",
   "name": "python3"
  },
  "language_info": {
   "codemirror_mode": {
    "name": "ipython",
    "version": 3
   },
   "file_extension": ".py",
   "mimetype": "text/x-python",
   "name": "python",
   "nbconvert_exporter": "python",
   "pygments_lexer": "ipython3",
   "version": "3.7.3"
  }
 },
 "nbformat": 4,
 "nbformat_minor": 2
}
