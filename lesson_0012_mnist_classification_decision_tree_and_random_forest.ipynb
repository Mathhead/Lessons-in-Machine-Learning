{
 "cells": [
  {
   "cell_type": "markdown",
   "metadata": {},
   "source": [
    "# Lesson 0012 - MNIST Classification Decision Tree and Random Forest\n",
    "We assume, that the reader has worked through the previous examples.<br>\n",
    "In this lesson, we will revisit the MNIST data set from lessons [0010](https://github.com/Mathhead/Lessons-in-Machine-Learning/blob/master/lesson_0010_mnist_classification_linear_classifier.ipynb) and [0011](https://github.com/Mathhead/Lessons-in-Machine-Learning/blob/master/lesson_0011_mnist_classification_support_vector_machine_boosting.ipynb). This time, we will employ a decision tree and a random forest to the task of classifying the data.<br>\n",
    "For the data preparation, we will steal the code from [lesson 0011](https://github.com/Mathhead/Lessons-in-Machine-Learning/blob/master/lesson_0011_mnist_classification_support_vector_machine_boosting.ipynb), and for the learning, we will steal the code from [lesson 0008](https://github.com/Mathhead/Lessons-in-Machine-Learning/blob/master/lesson_0008_breast_cancer_classification_decision_tree_and_random_forest.ipynb)."
   ]
  },
  {
   "cell_type": "code",
   "execution_count": 1,
   "metadata": {},
   "outputs": [
    {
     "name": "stderr",
     "output_type": "stream",
     "text": [
      "C:\\Users\\Robert\\Anaconda3\\lib\\site-packages\\h5py\\__init__.py:36: FutureWarning: Conversion of the second argument of issubdtype from `float` to `np.floating` is deprecated. In future, it will be treated as `np.float64 == np.dtype(float).type`.\n",
      "  from ._conv import register_converters as _register_converters\n"
     ]
    },
    {
     "name": "stdout",
     "output_type": "stream",
     "text": [
      "1.12.0\n"
     ]
    }
   ],
   "source": [
    "import tensorflow as tf\n",
    "\n",
    "tf.set_random_seed( 1234567890 )\n",
    "\n",
    "print( tf.__version__ )"
   ]
  },
  {
   "cell_type": "code",
   "execution_count": 2,
   "metadata": {},
   "outputs": [],
   "source": [
    "( train_x, train_y ),( test_x, test_y ) = tf.keras.datasets.mnist.load_data()"
   ]
  },
  {
   "cell_type": "code",
   "execution_count": 3,
   "metadata": {},
   "outputs": [
    {
     "name": "stdout",
     "output_type": "stream",
     "text": [
      "1.14.3\n"
     ]
    }
   ],
   "source": [
    "import numpy as np\n",
    "\n",
    "np.random.seed( 1234567890 )\n",
    "\n",
    "print( np.__version__ )"
   ]
  },
  {
   "cell_type": "code",
   "execution_count": 4,
   "metadata": {},
   "outputs": [],
   "source": [
    "mu = np.mean( train_x )\n",
    "\n",
    "sigma = np.std( train_x )\n",
    "\n",
    "\n",
    "\n",
    "train_x = ( train_x - mu ) / sigma\n",
    "\n",
    "test_x = ( test_x - mu ) / sigma"
   ]
  },
  {
   "cell_type": "code",
   "execution_count": 5,
   "metadata": {},
   "outputs": [],
   "source": [
    "train_x_f = np.zeros( shape = [ 60000, 28 * 28 ] )\n",
    "\n",
    "test_x_f = np.zeros( shape = [ 10000, 28 * 28 ] )\n",
    "\n",
    "\n",
    "\n",
    "    \n",
    "\n",
    "for i in range( 60000 ):\n",
    "    \n",
    "    dummy = np.array( train_x[ i ] )\n",
    "    \n",
    "    train_x_f[ i, : ] = dummy.flatten()\n",
    "    \n",
    "    \n",
    "for i in range( 10000 ):\n",
    "    \n",
    "    dummy = np.array( test_x[ i ] )\n",
    "    \n",
    "    test_x_f[ i ] = dummy.flatten()\n",
    "    \n",
    "    \n",
    "    \n",
    "    \n",
    "train_x = train_x_f\n",
    "\n",
    "test_x = test_x_f"
   ]
  },
  {
   "cell_type": "markdown",
   "metadata": {},
   "source": [
    "Now we steal the code from [lesson 0008](https://github.com/Mathhead/Lessons-in-Machine-Learning/blob/master/lesson_0008_breast_cancer_classification_decision_tree_and_random_forest.ipynb):"
   ]
  },
  {
   "cell_type": "code",
   "execution_count": 6,
   "metadata": {},
   "outputs": [],
   "source": [
    "from sklearn.tree import DecisionTreeClassifier as DTC"
   ]
  },
  {
   "cell_type": "markdown",
   "metadata": {},
   "source": [
    "Seems like we forgot to print the version number of __sklearn__."
   ]
  },
  {
   "cell_type": "code",
   "execution_count": 7,
   "metadata": {},
   "outputs": [
    {
     "name": "stdout",
     "output_type": "stream",
     "text": [
      "0.19.1\n"
     ]
    }
   ],
   "source": [
    "import sklearn\n",
    "\n",
    "print( sklearn.__version__ )"
   ]
  },
  {
   "cell_type": "markdown",
   "metadata": {},
   "source": [
    "We will use the decision tree algorithm __DTC__ right out of the box. We fit a model __tree__, store the predictions made by this model in __hit__, and use hit to compute the __accuracy__."
   ]
  },
  {
   "cell_type": "code",
   "execution_count": 8,
   "metadata": {},
   "outputs": [
    {
     "name": "stdout",
     "output_type": "stream",
     "text": [
      "We reached an accuracy of 88.02%\n"
     ]
    }
   ],
   "source": [
    "tree = DTC()\n",
    "\n",
    "tree.fit( train_x, train_y )\n",
    "\n",
    "hit = ( tree.predict( test_x ) == test_y )\n",
    "\n",
    "accuracy = 0.0\n",
    "\n",
    "for i in range( 10000 ):\n",
    "    \n",
    "    if hit[ i ]:\n",
    "        \n",
    "        accuracy = accuracy + 1.0\n",
    "        \n",
    "accuracy = accuracy / 100\n",
    "\n",
    "print( 'We reached an accuracy of ' + str( accuracy ) + '%' )"
   ]
  },
  {
   "cell_type": "markdown",
   "metadata": {},
   "source": [
    "Next, we try the random forest classifier __RFC__ out of the box to fit a model __forest__. We will make predictions using __forest__ and store the results in __hit_2__ which we will use to compute the __accuracy_2__."
   ]
  },
  {
   "cell_type": "code",
   "execution_count": 9,
   "metadata": {},
   "outputs": [],
   "source": [
    "from sklearn.ensemble import RandomForestClassifier as RFC"
   ]
  },
  {
   "cell_type": "code",
   "execution_count": 10,
   "metadata": {},
   "outputs": [
    {
     "name": "stdout",
     "output_type": "stream",
     "text": [
      "We reached an accuracy of 95.11%\n"
     ]
    }
   ],
   "source": [
    "forest = RFC()\n",
    "\n",
    "forest.fit( train_x, train_y )\n",
    "\n",
    "hit_2 = ( forest.predict( test_x ) == test_y )\n",
    "\n",
    "accuracy_2 = 0.0\n",
    "\n",
    "for i in range( 10000 ):\n",
    "    \n",
    "    if hit_2[ i ]:\n",
    "        \n",
    "        accuracy_2 = accuracy_2 + 1.0\n",
    "        \n",
    "accuracy_2 = accuracy_2 / 100\n",
    "\n",
    "print( 'We reached an accuracy of ' + str( accuracy_2 ) + '%' )"
   ]
  },
  {
   "cell_type": "markdown",
   "metadata": {},
   "source": [
    "An accuracy of $95\\%$ is pretty good, but maybe, we can do better.<br>\n",
    "We will try a __grid__ search for the optimal number of trees in the forest.<br>\n",
    "We will vary the number of trees from $3$ to $1000$.<br>\n",
    "For this grid search, we will split the __training__ data into a training set of $50000$ and a validation set of $10000$."
   ]
  },
  {
   "cell_type": "code",
   "execution_count": 11,
   "metadata": {},
   "outputs": [],
   "source": [
    "train_2_x = np.zeros( shape = [ 50000, 28 * 28 ] )\n",
    "\n",
    "train_2_y = np.zeros( shape = [ 50000 ] )\n",
    "\n",
    "val_2_x = np.zeros( shape = [ 10000, 28 * 28 ] )\n",
    "\n",
    "val_2_y = np.zeros( shape = [ 10000 ] )\n",
    "\n",
    "\n",
    "\n",
    "\n",
    "random_integers = np.random.choice( range( 60000 ), 50000, replace = False )\n",
    "\n",
    "random_integers = np.sort( random_integers )\n",
    "\n",
    "\n",
    "\n",
    "j = 0\n",
    "\n",
    "k = 0\n",
    "\n",
    "\n",
    "\n",
    "for i in range( 60000 ):\n",
    "    \n",
    "    if i == random_integers[ j ]:\n",
    "        \n",
    "        train_2_x[ j, : ] = train_x[ i, : ]\n",
    "        \n",
    "        train_2_y[ j ] = train_y[ i ]\n",
    "        \n",
    "        j = j + 1\n",
    "        \n",
    "        if j == 50000:\n",
    "            \n",
    "            j = 0\n",
    "            \n",
    "    else:\n",
    "        \n",
    "        val_2_x[ k, : ] = train_x[ i, : ]\n",
    "        \n",
    "        val_2_y[ k ] = train_y[ i ]\n",
    "        \n",
    "        k = k + 1"
   ]
  },
  {
   "cell_type": "code",
   "execution_count": 12,
   "metadata": {},
   "outputs": [],
   "source": [
    "grid = [ 3, 5, 10, 25, 50, 75, 100, 150, 200, 250, 350, 500, 750, 1000 ]\n",
    "\n",
    "grid_val = []\n",
    "\n",
    "for i in range( len( grid ) ):\n",
    "    \n",
    "    forest_2 = RFC( n_estimators = grid[ i ] )\n",
    "    \n",
    "    forest_2.fit( train_2_x, train_2_y )\n",
    "\n",
    "    hit_3 = ( forest_2.predict( val_2_x ) == val_2_y )\n",
    "\n",
    "    accuracy_3 = 0.0\n",
    "\n",
    "    for i in range( 10000 ):\n",
    "    \n",
    "        if hit_3[ i ]:\n",
    "        \n",
    "            accuracy_3 = accuracy_3 + 1.0\n",
    "        \n",
    "    accuracy_3 = accuracy_3 / 100\n",
    "    \n",
    "    grid_val.append( accuracy_3 )"
   ]
  },
  {
   "cell_type": "markdown",
   "metadata": {},
   "source": [
    "Now, we import the __matplotlib__, print the version number and plot __grid_val__."
   ]
  },
  {
   "cell_type": "code",
   "execution_count": 13,
   "metadata": {},
   "outputs": [
    {
     "name": "stdout",
     "output_type": "stream",
     "text": [
      "2.2.2\n"
     ]
    }
   ],
   "source": [
    "import matplotlib as matplotlib\n",
    "import matplotlib.pyplot as plt\n",
    "\n",
    "print( matplotlib.__version__ )"
   ]
  },
  {
   "cell_type": "code",
   "execution_count": 14,
   "metadata": {},
   "outputs": [
    {
     "data": {
      "text/plain": [
       "Text(0,0.5,'Accuarcy (%)')"
      ]
     },
     "execution_count": 14,
     "metadata": {},
     "output_type": "execute_result"
    },
    {
     "data": {
      "image/png": "[encoded data removed]",
      "text/plain": [
       "<Figure size 432x288 with 1 Axes>"
      ]
     },
     "metadata": {},
     "output_type": "display_data"
    }
   ],
   "source": [
    "plt.plot( grid_val, 'bo' )\n",
    "\n",
    "plt.xticks( range( len( grid ) ), grid )\n",
    "\n",
    "plt.xlabel( 'Number of estimators (-)' )\n",
    "\n",
    "plt.ylabel( 'Accuarcy (%)' ) "
   ]
  },
  {
   "cell_type": "markdown",
   "metadata": {},
   "source": [
    "Seems like $100$ estimators might be a good choice. Let's train __forest_3__ with $100$ estimators and evaluate its performance."
   ]
  },
  {
   "cell_type": "code",
   "execution_count": 15,
   "metadata": {},
   "outputs": [
    {
     "name": "stdout",
     "output_type": "stream",
     "text": [
      "We reached an accuracy of 96.92%\n"
     ]
    }
   ],
   "source": [
    "forest_3 = RFC( n_estimators = 100 )\n",
    "    \n",
    "forest_3.fit( train_x, train_y )\n",
    "\n",
    "hit_4 = ( forest_3.predict( test_x ) == test_y )\n",
    "\n",
    "accuracy_4 = 0.0\n",
    "\n",
    "for i in range( 10000 ):\n",
    "    \n",
    "    if hit_4[ i ]:\n",
    "        \n",
    "        accuracy_4 = accuracy_4 + 1.0\n",
    "        \n",
    "accuracy_4 = accuracy_4 / 100\n",
    "\n",
    "print( 'We reached an accuracy of ' + str( accuracy_4 ) + '%' )"
   ]
  },
  {
   "cell_type": "markdown",
   "metadata": {},
   "source": [
    "We reached an accuracy of almost $97\\%$. So, we are a little worse than the [support vector machine](https://github.com/Mathhead/Lessons-in-Machine-Learning/blob/master/lesson_0011_mnist_classification_support_vector_machine_boosting.ipynb), but still pretty good.<br>\n",
    "Class dismissed."
   ]
  }
 ],
 "metadata": {
  "kernelspec": {
   "display_name": "Python 3",
   "language": "python",
   "name": "python3"
  },
  "language_info": {
   "codemirror_mode": {
    "name": "ipython",
    "version": 3
   },
   "file_extension": ".py",
   "mimetype": "text/x-python",
   "name": "python",
   "nbconvert_exporter": "python",
   "pygments_lexer": "ipython3",
   "version": "3.6.5"
  }
 },
 "nbformat": 4,
 "nbformat_minor": 2
}
