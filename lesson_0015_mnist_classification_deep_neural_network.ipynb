{
 "cells": [
  {
   "cell_type": "markdown",
   "metadata": {},
   "source": [
    "# Lesson 0015 - MNIST Classification Deep Neural Network\n",
    "In this lesson, we extend the approach from [lesson 0014](https://github.com/Mathhead/Lessons-in-Machine-Learning/blob/master/lesson_0014_mnist_classification_neural_network.ipynb): we will train a deep neural network.<br>\n",
    "Obviously, we can and we will steal lots of code from [lesson 0014](https://github.com/Mathhead/Lessons-in-Machine-Learning/blob/master/lesson_0014_mnist_classification_neural_network.ipynb)."
   ]
  },
  {
   "cell_type": "code",
   "execution_count": 1,
   "metadata": {},
   "outputs": [
    {
     "name": "stderr",
     "output_type": "stream",
     "text": [
      "C:\\Users\\Robert\\Anaconda3\\lib\\site-packages\\h5py\\__init__.py:36: FutureWarning: Conversion of the second argument of issubdtype from `float` to `np.floating` is deprecated. In future, it will be treated as `np.float64 == np.dtype(float).type`.\n",
      "  from ._conv import register_converters as _register_converters\n"
     ]
    },
    {
     "name": "stdout",
     "output_type": "stream",
     "text": [
      "1.12.0\n"
     ]
    }
   ],
   "source": [
    "import tensorflow as tf\n",
    "\n",
    "tf.set_random_seed( 1234567890 )\n",
    "\n",
    "print( tf.__version__ )"
   ]
  },
  {
   "cell_type": "code",
   "execution_count": 2,
   "metadata": {},
   "outputs": [],
   "source": [
    "( train_x, train_y ),( test_x, test_y ) = tf.keras.datasets.mnist.load_data()"
   ]
  },
  {
   "cell_type": "code",
   "execution_count": 3,
   "metadata": {},
   "outputs": [
    {
     "name": "stdout",
     "output_type": "stream",
     "text": [
      "1.14.3\n"
     ]
    }
   ],
   "source": [
    "import numpy as np\n",
    "\n",
    "np.random.seed( 1234567890 )\n",
    "\n",
    "print( np.__version__ )"
   ]
  },
  {
   "cell_type": "code",
   "execution_count": 4,
   "metadata": {},
   "outputs": [
    {
     "name": "stdout",
     "output_type": "stream",
     "text": [
      "2.2.2\n"
     ]
    }
   ],
   "source": [
    "import matplotlib\n",
    "import matplotlib.pyplot as plt\n",
    "\n",
    "print( matplotlib.__version__ )"
   ]
  },
  {
   "cell_type": "code",
   "execution_count": 5,
   "metadata": {},
   "outputs": [],
   "source": [
    "mu = np.mean( train_x )\n",
    "\n",
    "sigma = np.std( train_x )\n",
    "\n",
    "\n",
    "\n",
    "train_x = ( train_x - mu ) / sigma\n",
    "\n",
    "test_x = ( test_x - mu ) / sigma"
   ]
  },
  {
   "cell_type": "code",
   "execution_count": 6,
   "metadata": {},
   "outputs": [],
   "source": [
    "train_x_f = np.zeros( shape = [ 60000, 28 * 28 ] )\n",
    "\n",
    "train_y_f = np.zeros( shape = [ 60000, 10 ] )\n",
    "\n",
    "test_x_f = np.zeros( shape = [ 10000, 28 * 28 ] )\n",
    "\n",
    "test_y_f = np.zeros( shape = [ 10000, 10 ] )\n",
    "\n",
    "\n",
    "\n",
    "\n",
    "for i in range( 60000 ):\n",
    "    \n",
    "    train_y_f[ i, train_y[ i ] ] = 1.0\n",
    "    \n",
    "    \n",
    "for i in range( 10000 ):\n",
    "    \n",
    "    test_y_f[ i, test_y[ i ] ] = 1.0\n",
    "    \n",
    "\n",
    "for i in range( 60000 ):\n",
    "    \n",
    "    dummy = np.array( train_x[ i ] )\n",
    "    \n",
    "    train_x_f[ i, : ] = dummy.flatten()\n",
    "    \n",
    "    \n",
    "for i in range( 10000 ):\n",
    "    \n",
    "    dummy = np.array( test_x[ i ] )\n",
    "    \n",
    "    test_x_f[ i ] = dummy.flatten()\n",
    "    \n",
    "    \n",
    "    \n",
    "    \n",
    "train_x = train_x_f\n",
    "\n",
    "train_y = train_y_f\n",
    "\n",
    "test_x = test_x_f\n",
    "\n",
    "test_y = test_y_f"
   ]
  },
  {
   "cell_type": "markdown",
   "metadata": {},
   "source": [
    "Now that we have prepared the data, we will design a deep neural network. We will use<br>\n",
    "-  an input layer of $28*28$ pixels\n",
    "-  a second layer of $28*28$ hidden neurons, just like in [lesson 0014](https://github.com/Mathhead/Lessons-in-Machine-Learning/blob/master/lesson_0014_mnist_classification_neural_network.ipynb)\n",
    "-  a third layer of $512$ hidden neurons, just like the second layer\n",
    "-  a fourth layer of $256$ hidden neurons, just like the second layer\n",
    "-  a fifth layer of $128$ hidden neurons, just like the second layer\n",
    "-  a sixth layer of $64$ hidden neurons, just like the second layer\n",
    "-  a seventh layer of $32$ hidden neurons, just like the second layer\n",
    "-  and finally an output layer of $10$ neurons<br>\n",
    "\n",
    "We use this archtitecture, because, we hope that the information is combined in the consecutive layers to higher abstraction levels.<br>\n",
    "We train this model for $10000$ iterations with $100$ randomly drawn training data, and after iteration $1000$, we check every $500$ iterations, whether we improved on the test set on average. If we did not improve, we break the training.<br>\n",
    "We apply a learning rate of $0.000001$."
   ]
  },
  {
   "cell_type": "code",
   "execution_count": 7,
   "metadata": {},
   "outputs": [],
   "source": [
    "x_tf = tf.placeholder( tf.float32, shape = [ None, 28 * 28 ] )\n",
    "\n",
    "y_tf = tf.placeholder( tf.float32, shape = [ None, 10 ] )\n",
    "\n",
    "\n",
    "\n",
    "\n",
    "W_tf_1 = tf.Variable( tf.truncated_normal( [ 28 * 28, 28 * 28 ] ) )\n",
    "\n",
    "b_tf_1 = tf.Variable( tf.truncated_normal( [ 28 * 28 ] ) )\n",
    "\n",
    "layer_2 = tf.nn.leaky_relu( tf.matmul( x_tf, W_tf_1 ) + b_tf_1 )\n",
    "\n",
    "\n",
    "\n",
    "\n",
    "W_tf_2 = tf.Variable( tf.truncated_normal( [ 28 * 28, 512 ] ) )\n",
    "\n",
    "b_tf_2 = tf.Variable( tf.truncated_normal( [ 512 ] ) )\n",
    "\n",
    "layer_3 = tf.nn.leaky_relu( tf.matmul( layer_2, W_tf_2 ) + b_tf_2 )\n",
    "\n",
    "\n",
    "\n",
    "\n",
    "\n",
    "W_tf_3 = tf.Variable( tf.truncated_normal( [ 512, 256 ] ) )\n",
    "\n",
    "b_tf_3 = tf.Variable( tf.truncated_normal( [ 256 ] ) )\n",
    "\n",
    "layer_4 = tf.nn.leaky_relu( tf.matmul( layer_3, W_tf_3 ) + b_tf_3 )\n",
    "\n",
    "\n",
    "\n",
    "\n",
    "\n",
    "W_tf_4 = tf.Variable( tf.truncated_normal( [ 256, 128 ] ) )\n",
    "\n",
    "b_tf_4 = tf.Variable( tf.truncated_normal( [ 128 ] ) )\n",
    "\n",
    "layer_5 = tf.nn.leaky_relu( tf.matmul( layer_4, W_tf_4 ) + b_tf_4 )\n",
    "\n",
    "\n",
    "\n",
    "\n",
    "\n",
    "W_tf_5 = tf.Variable( tf.truncated_normal( [ 128, 64 ] ) )\n",
    "\n",
    "b_tf_5 = tf.Variable( tf.truncated_normal( [ 64 ] ) )\n",
    "\n",
    "layer_6 = tf.nn.leaky_relu( tf.matmul( layer_5, W_tf_5 ) + b_tf_5 )\n",
    "\n",
    "\n",
    "\n",
    "\n",
    "\n",
    "W_tf_6 = tf.Variable( tf.truncated_normal( [ 64, 32 ] ) )\n",
    "\n",
    "b_tf_6 = tf.Variable( tf.truncated_normal( [ 32 ] ) )\n",
    "\n",
    "layer_7 = tf.nn.leaky_relu( tf.matmul( layer_6, W_tf_6 ) + b_tf_6 )\n",
    "\n",
    "\n",
    "\n",
    "W_tf_7 = tf.Variable( tf.truncated_normal( [ 32, 10 ] ) )\n",
    "\n",
    "b_tf_7 = tf.Variable( tf.truncated_normal( [ 10 ] ) )\n",
    "\n",
    "layer_8 = tf.nn.leaky_relu( tf.matmul( layer_7, W_tf_7 ) + b_tf_7 )\n",
    "\n",
    "\n",
    "\n",
    "\n",
    "cross_entropy = tf.reduce_mean( tf.nn.softmax_cross_entropy_with_logits_v2( logits = layer_8, labels = y_tf ) )\n",
    "\n",
    "\n",
    "\n",
    "\n",
    "gd = tf.train.GradientDescentOptimizer( 0.000001 ).minimize( cross_entropy )\n",
    "\n",
    "\n",
    "\n",
    "hit = tf.equal( tf.argmax( layer_8, 1 ), tf.argmax( y_tf, 1 ) )\n",
    "\n",
    "\n",
    "\n",
    "accuracy = 100 * tf.reduce_mean( tf.cast( hit, tf.float32 ) )"
   ]
  },
  {
   "cell_type": "code",
   "execution_count": 8,
   "metadata": {},
   "outputs": [],
   "source": [
    "sess = tf.Session()\n",
    "\n",
    "\n",
    "\n",
    "\n",
    "\n",
    "progress_train = []\n",
    "\n",
    "progress_train_current = []\n",
    "\n",
    "progress_test = []\n",
    " \n",
    "    \n",
    "    \n",
    "    \n",
    "    \n",
    "sess.run( tf.global_variables_initializer() )\n",
    "\n",
    "\n",
    "\n",
    "\n",
    "\n",
    "saver = tf.train.Saver()\n",
    "\n",
    "\n",
    "\n",
    "\n",
    "\n",
    "\n",
    "for i in range( 10000 ):\n",
    "                \n",
    "    random_integers = np.random.choice( range( 60000 ), 100, replace = False )\n",
    "                \n",
    "    local_x = train_x[ random_integers, : ]\n",
    "    \n",
    "    local_y = train_y[ random_integers, : ]\n",
    "        \n",
    "    sess.run( gd, feed_dict = { x_tf : local_x, y_tf : local_y } )\n",
    "        \n",
    "    progress_train.append( sess.run( accuracy, feed_dict = { x_tf : train_x, y_tf : train_y } ) )\n",
    "        \n",
    "    progress_train_current.append( sess.run( accuracy, feed_dict = { x_tf : local_x, y_tf : local_y } ) )\n",
    "        \n",
    "    progress_test.append( sess.run( accuracy, feed_dict = { x_tf : test_x, y_tf : test_y } ) )\n",
    "    \n",
    "    if i == 1000:\n",
    "        \n",
    "        saver.save( sess, \"C:\\\\Users\\\\Robert\\\\Desktop\\\\python\\\\python 3\\\\github\\\\lesson_0015\\\\neural_network_1000\" )\n",
    "        \n",
    "    if i > 1000:\n",
    "    \n",
    "        if ( i % 500 ) == 0:\n",
    "        \n",
    "            if ( np.mean( progress_test[ ( i - 500 ) : ( i - 1 ) ] ) > \n",
    "                np.mean( progress_test[ ( i - 1000 ) : ( i - 501 ) ] ) ):\n",
    "            \n",
    "                saver.save( sess, \"C:\\\\Users\\\\Robert\\\\Desktop\\\\python\\\\python 3\\\\github\\\\lesson_0015\\\\neural_network_\" + \n",
    "                       str( i ) )\n",
    "            \n",
    "            else:\n",
    "            \n",
    "                break"
   ]
  },
  {
   "cell_type": "code",
   "execution_count": 9,
   "metadata": {},
   "outputs": [
    {
     "data": {
      "text/plain": [
       "Text(0,0.5,'Accuracy (%)')"
      ]
     },
     "execution_count": 9,
     "metadata": {},
     "output_type": "execute_result"
    },
    {
     "data": {
      "image/png": "[encoded data removed]",
      "text/plain": [
       "<Figure size 432x288 with 1 Axes>"
      ]
     },
     "metadata": {},
     "output_type": "display_data"
    }
   ],
   "source": [
    "plt.plot( progress_train_current, label = 'Accuracy on current Training Set' )\n",
    "\n",
    "plt.plot( progress_train, label = 'Accuracy on complete Training Set' )\n",
    "\n",
    "plt.plot( progress_test, label = 'Accuracy on Test Set' )\n",
    "\n",
    "plt.legend( loc = 'best' )\n",
    "\n",
    "plt.xlabel( 'Iterations (-)' )\n",
    "\n",
    "plt.ylabel( 'Accuracy (%)' )"
   ]
  },
  {
   "cell_type": "markdown",
   "metadata": {},
   "source": [
    "If we compare this result to [lesson 0014](https://github.com/Mathhead/Lessons-in-Machine-Learning/blob/master/lesson_0014_mnist_classification_neural_network.ipynb), we notice that this neural network does not perform as well as the one in [lesson 0014](https://github.com/Mathhead/Lessons-in-Machine-Learning/blob/master/lesson_0014_mnist_classification_neural_network.ipynb). We could continue on training, but on my machine, this already took more than half a day.<br> \n",
    "When comparing the two models, we also notice, that the variance of the performance of this network is much higher than the performance of the network in [lesson 0014](https://github.com/Mathhead/Lessons-in-Machine-Learning/blob/master/lesson_0014_mnist_classification_neural_network.ipynb).<br>\n",
    "From this, we learn, that more layers is not necessarily good. For now, we close the session."
   ]
  },
  {
   "cell_type": "code",
   "execution_count": 10,
   "metadata": {},
   "outputs": [],
   "source": [
    "sess.close()"
   ]
  },
  {
   "cell_type": "markdown",
   "metadata": {},
   "source": [
    "Class dismissed."
   ]
  }
 ],
 "metadata": {
  "kernelspec": {
   "display_name": "Python 3",
   "language": "python",
   "name": "python3"
  },
  "language_info": {
   "codemirror_mode": {
    "name": "ipython",
    "version": 3
   },
   "file_extension": ".py",
   "mimetype": "text/x-python",
   "name": "python",
   "nbconvert_exporter": "python",
   "pygments_lexer": "ipython3",
   "version": "3.6.5"
  }
 },
 "nbformat": 4,
 "nbformat_minor": 2
}
