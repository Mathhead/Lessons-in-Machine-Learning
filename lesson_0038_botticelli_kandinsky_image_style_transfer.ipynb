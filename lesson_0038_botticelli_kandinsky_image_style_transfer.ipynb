{
 "cells": [
  {
   "cell_type": "markdown",
   "metadata": {},
   "source": [
    "# Lesson 0038 - Botticelli Kandinsky Image Style Transfer\n",
    "In this lesson, we want to find out how [Botticelli's Venus and Mars](https://de.wikipedia.org/wiki/Sandro_Botticelli#/media/Datei:Venus_and_Mars.jpg) would have looked like, if [Vassily Kandinsky](https://de.wikipedia.org/wiki/Wassily_Kandinsky#/media/Datei:Vassily_Kandinsky,_1923_-_Composition_8,_huile_sur_toile,_140_cm_x_201_cm,_Mus%C3%A9e_Guggenheim,_New_York.jpg) painted it.<br>\n",
    "We can do this following the following idea: in a convolutional neural network, the first few layers contain very low level information like colors, basic shapes and so on. In the last few layers, this knowledge is aggregated to higher level information like the actual content. Therefore, we can define a loss function that on the one hand minimizes the distance of the activation of the manipulated image and the original Venus and Mars for very late layers, and on the other hand minimizes the distance between the activation of the manipulated image and Kandinsky's image in very early layers.<br>\n",
    "We start by stealing code from [lesson 0037](https://github.com/Mathhead/Lessons-in-Machine-Learning/blob/master/lesson_0037_yours_truly_deep_dream.ipynb)."
   ]
  },
  {
   "cell_type": "code",
   "execution_count": 1,
   "metadata": {},
   "outputs": [
    {
     "name": "stderr",
     "output_type": "stream",
     "text": [
      "Using TensorFlow backend.\n"
     ]
    },
    {
     "name": "stdout",
     "output_type": "stream",
     "text": [
      "2.2.4\n"
     ]
    }
   ],
   "source": [
    "import keras\n",
    "\n",
    "print( keras.__version__ )"
   ]
  },
  {
   "cell_type": "code",
   "execution_count": 2,
   "metadata": {},
   "outputs": [
    {
     "name": "stdout",
     "output_type": "stream",
     "text": [
      "1.16.2\n"
     ]
    }
   ],
   "source": [
    "import numpy as np\n",
    "\n",
    "print( np.__version__ )"
   ]
  },
  {
   "cell_type": "code",
   "execution_count": 3,
   "metadata": {},
   "outputs": [
    {
     "name": "stdout",
     "output_type": "stream",
     "text": [
      "5.4.1\n"
     ]
    }
   ],
   "source": [
    "from PIL import Image\n",
    "\n",
    "print( Image.__version__ )"
   ]
  },
  {
   "cell_type": "code",
   "execution_count": 4,
   "metadata": {},
   "outputs": [
    {
     "name": "stdout",
     "output_type": "stream",
     "text": [
      "2.21.0\n"
     ]
    }
   ],
   "source": [
    "import requests\n",
    "\n",
    "print( requests.__version__ )"
   ]
  },
  {
   "cell_type": "code",
   "execution_count": 5,
   "metadata": {},
   "outputs": [],
   "source": [
    "from io import BytesIO"
   ]
  },
  {
   "cell_type": "markdown",
   "metadata": {},
   "source": [
    "From now on, we call Venus and Mars the __content__ and Kandinsky the __style__."
   ]
  },
  {
   "cell_type": "code",
   "execution_count": 6,
   "metadata": {},
   "outputs": [],
   "source": [
    "url = \"https://upload.wikimedia.org/wikipedia/commons/thumb/7/7d/Venus_and_Mars.jpg/1920px-Venus_and_Mars.jpg\"\n",
    "\n",
    "response = requests.get( url )\n",
    "\n",
    "content = Image.open( BytesIO( response.content ) )"
   ]
  },
  {
   "cell_type": "code",
   "execution_count": 7,
   "metadata": {},
   "outputs": [],
   "source": [
    "url = \"https://upload.wikimedia.org/wikipedia/commons/4/47/Vassily_Kandinsky%2C_1923_-_Composition_8%2C_huile_sur_toile%2C_140_cm_x_201_cm%2C_Mus%C3%A9e_Guggenheim%2C_New_York.jpg\"\n",
    "\n",
    "response = requests.get( url )\n",
    "\n",
    "style = Image.open( BytesIO( response.content ) )"
   ]
  },
  {
   "cell_type": "markdown",
   "metadata": {},
   "source": [
    "We import [img_to_array](https://www.tensorflow.org/api_docs/python/tf/keras/preprocessing/image/img_to_array) for mapping images to tensors."
   ]
  },
  {
   "cell_type": "code",
   "execution_count": 8,
   "metadata": {},
   "outputs": [],
   "source": [
    "from keras.preprocessing.image import img_to_array as ita"
   ]
  },
  {
   "cell_type": "markdown",
   "metadata": {},
   "source": [
    "We will employ the [VGG19](https://keras.io/applications/#vgg19) net, and therefore, we will crop the images to maximal $224$ pixels in each dimension."
   ]
  },
  {
   "cell_type": "code",
   "execution_count": 9,
   "metadata": {},
   "outputs": [],
   "source": [
    "from keras.applications import vgg19"
   ]
  },
  {
   "cell_type": "code",
   "execution_count": 10,
   "metadata": {},
   "outputs": [],
   "source": [
    "height, width = np.shape( content )[ 0 : 2 ]\n",
    "\n",
    "width_content = 224\n",
    "\n",
    "height_content = np.int32( height * 224 / width )"
   ]
  },
  {
   "cell_type": "code",
   "execution_count": 11,
   "metadata": {},
   "outputs": [],
   "source": [
    "height, width = np.shape( style )[ 0 : 2 ]\n",
    "\n",
    "width_style = 224\n",
    "\n",
    "height_style = np.int32( height * 224 / width )"
   ]
  },
  {
   "cell_type": "markdown",
   "metadata": {},
   "source": [
    "Next we create function for preprocessing the images.<br>\n",
    "First, we resize the images using [resize](https://pillow.readthedocs.io/en/3.1.x/reference/Image.html), then we map the images to an array, then, since __VGG19__ expects a batch of images, we expand the dimension of the images, and finally, we employ [preprocess_input](https://keras.io/applications/)."
   ]
  },
  {
   "cell_type": "code",
   "execution_count": 12,
   "metadata": {},
   "outputs": [],
   "source": [
    "def preprocess( img, width, height ):\n",
    "    \n",
    "    img = img.resize( ( width, height ), resample = Image.BILINEAR )\n",
    "    \n",
    "    img = ita( img )\n",
    "    \n",
    "    img = np.expand_dims( img, axis = 0 )\n",
    "    \n",
    "    img = vgg19.preprocess_input( img )\n",
    "    \n",
    "    return img"
   ]
  },
  {
   "cell_type": "markdown",
   "metadata": {},
   "source": [
    "Next, we define __deprocess__ with which we will reverse the manipulations performed by __VGG19__ in __preprocess_input__. For this, we substract the minimal value from the image. Then, we divide the resulting image, whose minimal value is $0$ now, by its maximal value. Therefore, all the values in the image are between $0$ and $1$. Then we multiply this image by $255$ and change its value type to unsigned int with $8$ bits."
   ]
  },
  {
   "cell_type": "code",
   "execution_count": 13,
   "metadata": {},
   "outputs": [],
   "source": [
    "def deprocess( img ):\n",
    "    \n",
    "    img = img - np.min( img )\n",
    "    \n",
    "    img = ( img / np.max( img ) ) * 255\n",
    "    \n",
    "    img = img.astype( 'uint8' )\n",
    "    \n",
    "    return img"
   ]
  },
  {
   "cell_type": "markdown",
   "metadata": {},
   "source": [
    "Now, we make a basic setup: we import the __backend__, and set the __style__ and the __content__ as [constant](https://www.tensorflow.org/api_docs/python/tf/keras/backend/constant). Then, we define a [placeholder](https://www.tensorflow.org/api_docs/python/tf/keras/backend/placeholder) for the style-transferred image. Then, we [concatenate](https://www.tensorflow.org/api_docs/python/tf/keras/backend/concatenate) these three images.<br>\n",
    "During preprocessing, we employ the height and width of the __content__ for the __style__. This will change the proportions of the __style__, but we need this so that the dimensions fit."
   ]
  },
  {
   "cell_type": "code",
   "execution_count": 14,
   "metadata": {},
   "outputs": [],
   "source": [
    "import keras.backend as b\n",
    "\n",
    "content_image = b.constant( preprocess( content, width_content, height_content ) )\n",
    "\n",
    "style_image = b.constant( preprocess( style, width_content, height_content ) )\n",
    "\n",
    "transferred = b.placeholder( ( 1, height_content, width_content, 3 ) )\n",
    "\n",
    "input_tensor = b.concatenate( [ content_image, style_image, transferred ], axis = 0 )"
   ]
  },
  {
   "cell_type": "markdown",
   "metadata": {},
   "source": [
    "Now, we load the model and set the __input_tensor__ as input."
   ]
  },
  {
   "cell_type": "code",
   "execution_count": 15,
   "metadata": {},
   "outputs": [
    {
     "name": "stdout",
     "output_type": "stream",
     "text": [
      "WARNING:tensorflow:From C:\\Users\\rhopi\\Anaconda3\\lib\\site-packages\\tensorflow\\python\\framework\\op_def_library.py:263: colocate_with (from tensorflow.python.framework.ops) is deprecated and will be removed in a future version.\n",
      "Instructions for updating:\n",
      "Colocations handled automatically by placer.\n"
     ]
    }
   ],
   "source": [
    "model = vgg19.VGG19( input_tensor = input_tensor, weights = 'imagenet', include_top = False )"
   ]
  },
  {
   "cell_type": "markdown",
   "metadata": {},
   "source": [
    "Let's have a look at the architecture of __VGG19__:"
   ]
  },
  {
   "cell_type": "code",
   "execution_count": 16,
   "metadata": {},
   "outputs": [
    {
     "name": "stdout",
     "output_type": "stream",
     "text": [
      "_________________________________________________________________\n",
      "Layer (type)                 Output Shape              Param #   \n",
      "=================================================================\n",
      "input_1 (InputLayer)         (None, None, None, 3)     0         \n",
      "_________________________________________________________________\n",
      "block1_conv1 (Conv2D)        (None, None, None, 64)    1792      \n",
      "_________________________________________________________________\n",
      "block1_conv2 (Conv2D)        (None, None, None, 64)    36928     \n",
      "_________________________________________________________________\n",
      "block1_pool (MaxPooling2D)   (None, None, None, 64)    0         \n",
      "_________________________________________________________________\n",
      "block2_conv1 (Conv2D)        (None, None, None, 128)   73856     \n",
      "_________________________________________________________________\n",
      "block2_conv2 (Conv2D)        (None, None, None, 128)   147584    \n",
      "_________________________________________________________________\n",
      "block2_pool (MaxPooling2D)   (None, None, None, 128)   0         \n",
      "_________________________________________________________________\n",
      "block3_conv1 (Conv2D)        (None, None, None, 256)   295168    \n",
      "_________________________________________________________________\n",
      "block3_conv2 (Conv2D)        (None, None, None, 256)   590080    \n",
      "_________________________________________________________________\n",
      "block3_conv3 (Conv2D)        (None, None, None, 256)   590080    \n",
      "_________________________________________________________________\n",
      "block3_conv4 (Conv2D)        (None, None, None, 256)   590080    \n",
      "_________________________________________________________________\n",
      "block3_pool (MaxPooling2D)   (None, None, None, 256)   0         \n",
      "_________________________________________________________________\n",
      "block4_conv1 (Conv2D)        (None, None, None, 512)   1180160   \n",
      "_________________________________________________________________\n",
      "block4_conv2 (Conv2D)        (None, None, None, 512)   2359808   \n",
      "_________________________________________________________________\n",
      "block4_conv3 (Conv2D)        (None, None, None, 512)   2359808   \n",
      "_________________________________________________________________\n",
      "block4_conv4 (Conv2D)        (None, None, None, 512)   2359808   \n",
      "_________________________________________________________________\n",
      "block4_pool (MaxPooling2D)   (None, None, None, 512)   0         \n",
      "_________________________________________________________________\n",
      "block5_conv1 (Conv2D)        (None, None, None, 512)   2359808   \n",
      "_________________________________________________________________\n",
      "block5_conv2 (Conv2D)        (None, None, None, 512)   2359808   \n",
      "_________________________________________________________________\n",
      "block5_conv3 (Conv2D)        (None, None, None, 512)   2359808   \n",
      "_________________________________________________________________\n",
      "block5_conv4 (Conv2D)        (None, None, None, 512)   2359808   \n",
      "_________________________________________________________________\n",
      "block5_pool (MaxPooling2D)   (None, None, None, 512)   0         \n",
      "=================================================================\n",
      "Total params: 20,024,384\n",
      "Trainable params: 20,024,384\n",
      "Non-trainable params: 0\n",
      "_________________________________________________________________\n"
     ]
    }
   ],
   "source": [
    "model.summary()"
   ]
  },
  {
   "cell_type": "markdown",
   "metadata": {},
   "source": [
    "Now, we start defining the __loss function__. Remember: we want to minimize the difference in the activation in deeper layers for the __content__ and the __transferred__ image."
   ]
  },
  {
   "cell_type": "code",
   "execution_count": 17,
   "metadata": {},
   "outputs": [],
   "source": [
    "def loss_content( activation_content, activation_transferred ):\n",
    "    \n",
    "    return b.sum( b.square( activation_content - activation_transferred ) )"
   ]
  },
  {
   "cell_type": "markdown",
   "metadata": {},
   "source": [
    "Next, we start defining functions for the __style loss__.<br>\n",
    "We begin with the [Gram matrix](https://en.wikipedia.org/wiki/Gramian_matrix). Given a set of vectors $v_{1}, v_{2}, \\dots, v_{n}$, we define a matrix $A = \\left( v_{1}, v_{2}, \\dots, v_{n}\\right)$. Using this, we define $G \\left( A \\right) = A^{ T } A$. Therefore $G \\left( A \\right) _{ i, j } = v_{ i }^{ T } v_{ j }$, and this measures how similar $v_{ i }$ and $v_{ j }$ are.<br>\n",
    "Since our images are $4$-dimensional, we employ [batch_flatten](https://www.tensorflow.org/api_docs/python/tf/keras/backend/batch_flatten) to map the image to $2$-d. Then we use [dot](https://www.tensorflow.org/api_docs/python/tf/keras/backend/dot) to compute the product of the vectors, and [transpose](https://www.tensorflow.org/api_docs/python/tf/keras/backend/transpose) to compute the transpose of a vector."
   ]
  },
  {
   "cell_type": "code",
   "execution_count": 18,
   "metadata": {},
   "outputs": [],
   "source": [
    "def gram( x ):\n",
    "    \n",
    "    x = b.batch_flatten( x )\n",
    "    \n",
    "    gram = b.dot( x, b.transpose( x ) )\n",
    "    \n",
    "    return gram"
   ]
  },
  {
   "cell_type": "markdown",
   "metadata": {},
   "source": [
    "For the __style loss__, we compute the __gram__ for the __style_image__ and the __transferred_image__, compute the square of the difference of these two matrices and sum over it. We then normalize this by the square of $3 * \\text{height_content} * \\text{width_content}$, because this is the number of entries in the __gram__."
   ]
  },
  {
   "cell_type": "code",
   "execution_count": 19,
   "metadata": {},
   "outputs": [],
   "source": [
    "def style_loss( style, transferred ):\n",
    "    \n",
    "    s = gram( style )\n",
    "    \n",
    "    t = gram( transferred )\n",
    "    \n",
    "    return b.sum( b.square( s - t ) ) / ( ( 3 * width_content * height_content ) ** 2 )"
   ]
  },
  {
   "cell_type": "markdown",
   "metadata": {},
   "source": [
    "Since we do not want too much noise in the __transferred_image__, we define the __noise_loss__.<br>\n",
    "For this, we compute two __derivatives__ as in [lesson 0030](https://github.com/Mathhead/Lessons-in-Machine-Learning/blob/master/lesson_0030_bosch_feature_engineering_image_preprocessing.ipynb), one horizontal and one vertical. We then square the entries of the resulting matrices. Then, we add the matrices, and sum over it."
   ]
  },
  {
   "cell_type": "code",
   "execution_count": 20,
   "metadata": {},
   "outputs": [],
   "source": [
    "def noise_loss( transferred ):\n",
    "    \n",
    "    h = transferred[ :, : height_content - 1, : width_content - 1, : ] -\\\n",
    "    transferred[ :, 1:, : width_content - 1, : ]\n",
    "    \n",
    "    v = transferred[ :, : height_content - 1, : width_content - 1, : ] -\\\n",
    "    transferred[ :, : height_content - 1, 1:, : ]\n",
    "    \n",
    "    h = b.square( h )\n",
    "    \n",
    "    v = b.square( v )\n",
    "    \n",
    "    return b.sum( h + v )"
   ]
  },
  {
   "cell_type": "markdown",
   "metadata": {},
   "source": [
    "Now, we create a dictionary of the output layers:"
   ]
  },
  {
   "cell_type": "code",
   "execution_count": 21,
   "metadata": {},
   "outputs": [],
   "source": [
    "output = dict( [ ( layer.name, layer.output ) for layer in model.layers ] )"
   ]
  },
  {
   "cell_type": "markdown",
   "metadata": {},
   "source": [
    "Next, we define the layers to be considered for the __content__:"
   ]
  },
  {
   "cell_type": "code",
   "execution_count": 22,
   "metadata": {},
   "outputs": [],
   "source": [
    "content_layer = [ 'block5_conv1',\n",
    "                'block5_conv2',\n",
    "                'block5_conv3',\n",
    "                'block5_conv4',\n",
    "                'block4_conv1',\n",
    "                'block4_conv2',\n",
    "                'block4_conv3',\n",
    "                'block4_conv4'\n",
    "                ]"
   ]
  },
  {
   "cell_type": "markdown",
   "metadata": {},
   "source": [
    "For the __style__, we will consider the first three layers:"
   ]
  },
  {
   "cell_type": "code",
   "execution_count": 23,
   "metadata": {},
   "outputs": [],
   "source": [
    "style_layer = [ 'block1_conv1',\n",
    "                'block1_conv2',\n",
    "                'block2_conv1',\n",
    "                'block2_conv2',\n",
    "                'block3_conv1',\n",
    "                'block3_conv2'\n",
    "                ]"
   ]
  },
  {
   "cell_type": "markdown",
   "metadata": {},
   "source": [
    "Now, we will give each of the __losses__ a weight, which is determined by what looks good."
   ]
  },
  {
   "cell_type": "code",
   "execution_count": 24,
   "metadata": {},
   "outputs": [],
   "source": [
    "weight_style = 100.0\n",
    "\n",
    "weight_content = 100.0\n",
    "\n",
    "weight_noise = 1.0"
   ]
  },
  {
   "cell_type": "markdown",
   "metadata": {},
   "source": [
    "Now, we create the aggregated __loss__.<br>\n",
    "We initialize the __loss__ to $0$.<br>\n",
    "Then, we add the __loss_content__, where we consider the output of the __content_layer__ for the __content_image__ and __transferred__.<br>\n",
    "Then, we do the same for the __style__, and finally, we add the __noise_loss__."
   ]
  },
  {
   "cell_type": "code",
   "execution_count": 25,
   "metadata": {},
   "outputs": [],
   "source": [
    "loss = b.variable( 0.0 )\n",
    "\n",
    "\n",
    "\n",
    "\n",
    "for item in content_layer:\n",
    "    \n",
    "    features = output[ item ]\n",
    "    \n",
    "    content_features = features[ 0, :, :, : ]\n",
    "    \n",
    "    transferred_features = features[ 2, :, :, : ]\n",
    "    \n",
    "    loss = loss + weight_content * loss_content( content_features, transferred_features )\n",
    "    \n",
    "    \n",
    "    \n",
    "    \n",
    "    \n",
    "for item in style_layer:\n",
    "    \n",
    "    features = output[ item ]\n",
    "    \n",
    "    style_features = features[ 1, :, :, : ]\n",
    "    \n",
    "    transferred_features = features[ 2, :, :, : ]\n",
    "    \n",
    "    loss = loss + weight_style * style_loss( style_features, transferred_features )\n",
    "    \n",
    "    \n",
    "    \n",
    "    \n",
    "loss = loss + weight_noise * noise_loss( transferred )"
   ]
  },
  {
   "cell_type": "markdown",
   "metadata": {},
   "source": [
    "Next, we define the __gradient__, and also a function to return the __loss__ and the __gradient__ for a given __transferred__ image."
   ]
  },
  {
   "cell_type": "code",
   "execution_count": 26,
   "metadata": {},
   "outputs": [],
   "source": [
    "gradient = b.gradients( loss, transferred )[ 0 ]\n",
    "\n",
    "fetch_loss_and_gradient = b.function( [ transferred ], [ loss, gradient ] )"
   ]
  },
  {
   "cell_type": "markdown",
   "metadata": {},
   "source": [
    "Now, we minimize the __loss__ for $30$ iterations."
   ]
  },
  {
   "cell_type": "code",
   "execution_count": 27,
   "metadata": {},
   "outputs": [],
   "source": [
    "x = preprocess( content, width_content, height_content )\n",
    "\n",
    "               \n",
    "               \n",
    "               \n",
    "for i in range( 30 ):\n",
    "    \n",
    "    loss, gradient = fetch_loss_and_gradient( [ x ] )\n",
    "    \n",
    "    gradient = gradient / np.sum( np.abs( gradient ) ) * np.prod( np.shape( gradient ) )\n",
    "    \n",
    "    \n",
    "    \n",
    "    x = x - gradient\n",
    "    \n",
    "    \n",
    "    \n",
    "final = np.copy( x )\n",
    "\n",
    "final = deprocess( final )\n",
    "\n",
    "final = final[ 0, :, :, : ]"
   ]
  },
  {
   "cell_type": "code",
   "execution_count": 28,
   "metadata": {},
   "outputs": [
    {
     "name": "stdout",
     "output_type": "stream",
     "text": [
      "3.0.3\n"
     ]
    }
   ],
   "source": [
    "import matplotlib\n",
    "import matplotlib.pyplot as plt\n",
    "\n",
    "print( matplotlib.__version__ )"
   ]
  },
  {
   "cell_type": "code",
   "execution_count": 29,
   "metadata": {},
   "outputs": [
    {
     "data": {
      "text/plain": [
       "([], <a list of 0 Text yticklabel objects>)"
      ]
     },
     "execution_count": 29,
     "metadata": {},
     "output_type": "execute_result"
    },
    {
     "data": {
      "image/png": "[encoded data removed]",
      "text/plain": [
       "<Figure size 1440x3600 with 1 Axes>"
      ]
     },
     "metadata": {},
     "output_type": "display_data"
    }
   ],
   "source": [
    "plt.figure( figsize = ( 20, 50 ) )\n",
    "\n",
    "plt.imshow( final )\n",
    "\n",
    "plt.xticks( [] )\n",
    "\n",
    "plt.yticks( [] )"
   ]
  },
  {
   "cell_type": "markdown",
   "metadata": {},
   "source": [
    "We notice, that we have lost pretty much content, but we also notice, that basic ideas of the content are preserved like basic geometric forms. We also notice the blue and orange bands, which might be a consequence of the style transfer.<br>\n",
    "Class dismissed."
   ]
  }
 ],
 "metadata": {
  "kernelspec": {
   "display_name": "Python 3",
   "language": "python",
   "name": "python3"
  },
  "language_info": {
   "codemirror_mode": {
    "name": "ipython",
    "version": 3
   },
   "file_extension": ".py",
   "mimetype": "text/x-python",
   "name": "python",
   "nbconvert_exporter": "python",
   "pygments_lexer": "ipython3",
   "version": "3.7.3"
  }
 },
 "nbformat": 4,
 "nbformat_minor": 2
}
