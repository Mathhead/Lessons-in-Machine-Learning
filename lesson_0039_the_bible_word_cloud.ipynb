{
 "cells": [
  {
   "cell_type": "markdown",
   "metadata": {},
   "source": [
    "# Lesson 0039 - The Bible Word Cloud\n",
    "In this lesson, we will create a cloud of words from the bible in order to show the neighbourhood of words  with each other.<br>\n",
    "We will start with stealing code from [lesson 0036](https://github.com/Mathhead/Lessons-in-Machine-Learning/blob/master/lesson_0036_the_bible_text_generation.ipynb)."
   ]
  },
  {
   "cell_type": "code",
   "execution_count": 1,
   "metadata": {},
   "outputs": [
    {
     "name": "stdout",
     "output_type": "stream",
     "text": [
      "1.13.1\n"
     ]
    }
   ],
   "source": [
    "import tensorflow as tf\n",
    "\n",
    "tf.set_random_seed( 1234567890 )\n",
    "\n",
    "print( tf.__version__ )"
   ]
  },
  {
   "cell_type": "code",
   "execution_count": 2,
   "metadata": {},
   "outputs": [
    {
     "name": "stdout",
     "output_type": "stream",
     "text": [
      "1.16.2\n"
     ]
    }
   ],
   "source": [
    "import numpy as np\n",
    "\n",
    "np.random.seed( 1234567890 )\n",
    "\n",
    "print( np.__version__ )"
   ]
  },
  {
   "cell_type": "code",
   "execution_count": 3,
   "metadata": {},
   "outputs": [
    {
     "name": "stdout",
     "output_type": "stream",
     "text": [
      "2.2.4\n"
     ]
    },
    {
     "name": "stderr",
     "output_type": "stream",
     "text": [
      "Using TensorFlow backend.\n"
     ]
    }
   ],
   "source": [
    "import keras\n",
    "from keras import models\n",
    "from keras import layers\n",
    "from keras import utils\n",
    "import keras.backend as b\n",
    "\n",
    "print( keras.__version__ )"
   ]
  },
  {
   "cell_type": "code",
   "execution_count": 4,
   "metadata": {},
   "outputs": [
    {
     "name": "stdout",
     "output_type": "stream",
     "text": [
      "1:1 in the beginning god created the heaven and the earth.\n",
      "\n",
      "1:2 and the earth was without form, and void; and darkness was upon\n",
      "the face of the deep. and the spirit of god moved upon the face of the\n",
      "waters.\n",
      "\n",
      "1:3 and god said, let there be light: and there was light.\n",
      "\n",
      "1:4 and god saw the light, that it was good: and god divided the light\n",
      "from the darkness.\n",
      "\n",
      "1:5 and god called the light day, and the darkness he called night.\n",
      "and the evening and the morning were the first day.\n",
      "\n",
      "1:6 and god said, let there be a firmament in the midst of the waters,\n",
      "and let it divide the waters from the waters.\n",
      "\n",
      "1:7 and god made the firmament, and divided the waters which were\n",
      "under the firmament from the waters which were above the firmament:\n",
      "and it was so.\n",
      "\n",
      "1:8 and god called the firmament heaven. and the evening and the\n",
      "morning were the second day.\n",
      "\n",
      "1:9 and god said, let the waters under the heaven be gathered together\n",
      "unto one place, and let the dry land appear: and it was so.\n",
      "\n",
      "1:10 and god called the d\n"
     ]
    }
   ],
   "source": [
    "path = utils.get_file( \"bible.txt\", \n",
    "                      origin = \"https://raw.githubusercontent.com/mxw/grmr/master/src/finaltests/bible.txt\" )\n",
    "\n",
    "text = open( path ).read().lower()\n",
    "\n",
    "print( text[ 0 : 1000 ] )"
   ]
  },
  {
   "cell_type": "markdown",
   "metadata": {},
   "source": [
    "Now, we will clean up the text. We want, that in the resulting text only letters appear.<br>\n",
    "First, we create a list of punctuation characters, and then we add stuff like \"\\n\". We also add numbers."
   ]
  },
  {
   "cell_type": "code",
   "execution_count": 5,
   "metadata": {},
   "outputs": [
    {
     "name": "stdout",
     "output_type": "stream",
     "text": [
      "!\"#$%&'()*+,-./:;<=>?@[\\]^_`{|}~\n",
      "0123456789\n"
     ]
    }
   ],
   "source": [
    "import string\n",
    "\n",
    "\n",
    "\n",
    "punctuation = string.punctuation\n",
    "\n",
    "\n",
    "new_punctuation = []\n",
    "\n",
    "\n",
    "for i in range( len( punctuation ) ):\n",
    "    \n",
    "    new_punctuation.append( punctuation[ i ] )\n",
    "    \n",
    "    \n",
    "    \n",
    "    \n",
    "new_punctuation.append( \"\\n\" )\n",
    "\n",
    "new_punctuation.append( \"0\" )\n",
    "\n",
    "new_punctuation.append( \"1\" )\n",
    "\n",
    "new_punctuation.append( \"2\" )\n",
    "\n",
    "new_punctuation.append( \"3\" )\n",
    "\n",
    "new_punctuation.append( \"4\" )\n",
    "\n",
    "new_punctuation.append( \"5\" )\n",
    "\n",
    "new_punctuation.append( \"6\" )\n",
    "\n",
    "new_punctuation.append( \"7\" )\n",
    "\n",
    "new_punctuation.append( \"8\" )\n",
    "\n",
    "new_punctuation.append( \"9\" )\n",
    "\n",
    "new_punctuation.append( \"\" )\n",
    "\n",
    "\n",
    "\n",
    "\n",
    "punctuation = new_punctuation\n",
    "\n",
    "\n",
    "\n",
    "\n",
    "\n",
    "concat = \"\"\n",
    "\n",
    "\n",
    "\n",
    "\n",
    "for item in punctuation:\n",
    "    \n",
    "    concat = concat + item\n",
    "    \n",
    "    \n",
    "    \n",
    "\n",
    "punctuation = concat\n",
    "\n",
    "\n",
    "\n",
    "\n",
    "print( punctuation )"
   ]
  },
  {
   "cell_type": "markdown",
   "metadata": {},
   "source": [
    "Now, we clean up the text. First, we split the text at \" \". Then, we cut the stuff from __punctuation__.<br>\n",
    "For this, we employ the functions [maketrans](https://docs.python.org/3/library/stdtypes.html#str.maketrans) and [translate](https://docs.python.org/3/library/stdtypes.html#str.translate)."
   ]
  },
  {
   "cell_type": "code",
   "execution_count": 6,
   "metadata": {},
   "outputs": [
    {
     "name": "stdout",
     "output_type": "stream",
     "text": [
      "['', 'in', 'the', 'beginning', 'god', 'created', 'the', 'heaven', 'and', 'the', 'earth', '', 'and', 'the', 'earth', 'was', 'without', 'form', 'and', 'void', 'and', 'darkness', 'was', 'upon', 'the', 'face', 'of', 'the', 'deep', 'and', 'the', 'spirit', 'of', 'god', 'moved', 'upon', 'the', 'face', 'of', 'the', 'waters', '', 'and', 'god', 'said', 'let', 'there', 'be', 'light', 'and', 'there', 'was', 'light', '', 'and', 'god', 'saw', 'the', 'light', 'that', 'it', 'was', 'good', 'and', 'god', 'divided', 'the', 'light', 'from', 'the', 'darkness', '', 'and', 'god', 'called', 'the', 'light', 'day', 'and', 'the', 'darkness', 'he', 'called', 'night', 'and', 'the', 'evening', 'and', 'the', 'morning', 'were', 'the', 'first', 'day', '', 'and', 'god', 'said', 'let', 'there', 'be', 'a', 'firmament', 'in', 'the', 'midst', 'of', 'the', 'waters', 'and', 'let', 'it', 'divide', 'the', 'waters', 'from', 'the', 'waters', '', 'and', 'god', 'made', 'the', 'firmament', 'and', 'divided', 'the', 'waters', 'which', 'were', 'under', 'the', 'firmament', 'from', 'the', 'waters', 'which', 'were', 'above', 'the', 'firmament', 'and', 'it', 'was', 'so', '', 'and', 'god', 'called', 'the', 'firmament', 'heaven', 'and', 'the', 'evening', 'and', 'the', 'morning', 'were', 'the', 'second', 'day', '', 'and', 'god', 'said', 'let', 'the', 'waters', 'under', 'the', 'heaven', 'be', 'gathered', 'together', 'unto', 'one', 'place', 'and', 'let', 'the', 'dry', 'land', 'appear', 'and', 'it', 'was', 'so', '', 'and', 'god', 'called', 'the', 'dry', 'land', 'earth', 'and', 'the', 'gathering', 'together']\n"
     ]
    }
   ],
   "source": [
    "new_text = []\n",
    "\n",
    "\n",
    "\n",
    "intermediary = text.split()\n",
    "\n",
    "\n",
    "\n",
    "replace = str.maketrans( \"\", \"\", punctuation )\n",
    "\n",
    "\n",
    "for item in intermediary:\n",
    "    \n",
    "    new_text.append( item.translate( replace ) )\n",
    "    \n",
    "    \n",
    "    \n",
    "\n",
    "print( new_text[ 0 : 200 ] )"
   ]
  },
  {
   "cell_type": "markdown",
   "metadata": {},
   "source": [
    "We notice, that there are empty words in the text, so let's clean them."
   ]
  },
  {
   "cell_type": "code",
   "execution_count": 7,
   "metadata": {},
   "outputs": [
    {
     "name": "stdout",
     "output_type": "stream",
     "text": [
      "['in', 'the', 'beginning', 'god', 'created', 'the', 'heaven', 'and', 'the', 'earth', 'and', 'the', 'earth', 'was', 'without', 'form', 'and', 'void', 'and', 'darkness', 'was', 'upon', 'the', 'face', 'of', 'the', 'deep', 'and', 'the', 'spirit', 'of', 'god', 'moved', 'upon', 'the', 'face', 'of', 'the', 'waters', 'and', 'god', 'said', 'let', 'there', 'be', 'light', 'and', 'there', 'was', 'light', 'and', 'god', 'saw', 'the', 'light', 'that', 'it', 'was', 'good', 'and', 'god', 'divided', 'the', 'light', 'from', 'the', 'darkness', 'and', 'god', 'called', 'the', 'light', 'day', 'and', 'the', 'darkness', 'he', 'called', 'night', 'and', 'the', 'evening', 'and', 'the', 'morning', 'were', 'the', 'first', 'day', 'and', 'god', 'said', 'let', 'there', 'be', 'a', 'firmament', 'in', 'the', 'midst', 'of', 'the', 'waters', 'and', 'let', 'it', 'divide', 'the', 'waters', 'from', 'the', 'waters', 'and', 'god', 'made', 'the', 'firmament', 'and', 'divided', 'the', 'waters', 'which', 'were', 'under', 'the', 'firmament', 'from', 'the', 'waters', 'which', 'were', 'above', 'the', 'firmament', 'and', 'it', 'was', 'so', 'and', 'god', 'called', 'the', 'firmament', 'heaven', 'and', 'the', 'evening', 'and', 'the', 'morning', 'were', 'the', 'second', 'day', 'and', 'god', 'said', 'let', 'the', 'waters', 'under', 'the', 'heaven', 'be', 'gathered', 'together', 'unto', 'one', 'place', 'and', 'let', 'the', 'dry', 'land', 'appear', 'and', 'it', 'was', 'so', 'and', 'god', 'called', 'the', 'dry', 'land', 'earth', 'and', 'the', 'gathering', 'together', 'of', 'the', 'waters', 'called', 'he', 'seas', 'and', 'god', 'saw', 'that']\n"
     ]
    }
   ],
   "source": [
    "new_text2 = []\n",
    "\n",
    "\n",
    "\n",
    "\n",
    "for item in new_text:\n",
    "    \n",
    "    if len( item ) > 0:\n",
    "        \n",
    "        new_text2.append( item )\n",
    "        \n",
    "        \n",
    "        \n",
    "        \n",
    "new_text = new_text2\n",
    "        \n",
    "        \n",
    "        \n",
    "print( new_text[ 0 : 200 ] )"
   ]
  },
  {
   "cell_type": "markdown",
   "metadata": {},
   "source": [
    "Next, we create three dictionaries. Two to store the individual words, and one to store these words and their number of appearences."
   ]
  },
  {
   "cell_type": "code",
   "execution_count": 8,
   "metadata": {},
   "outputs": [],
   "source": [
    "individual_words = dict()\n",
    "\n",
    "individual_words_reverse = dict()\n",
    "\n",
    "number_of_appearences = dict()\n",
    "\n",
    "index = 0\n",
    "\n",
    "\n",
    "\n",
    "\n",
    "for item in new_text:\n",
    "    \n",
    "    if item not in individual_words_reverse:\n",
    "        \n",
    "        individual_words[ index ] = item\n",
    "        \n",
    "        individual_words_reverse[ item ] = index\n",
    "        \n",
    "        number_of_appearences[ item ] = 1\n",
    "        \n",
    "        index = index + 1\n",
    "        \n",
    "    else:\n",
    "        \n",
    "        number_of_appearences[ item ] = number_of_appearences[ item ] + 1"
   ]
  },
  {
   "cell_type": "markdown",
   "metadata": {},
   "source": [
    "We use this now to further reduce the text. We want to eliminate all words that appear less than $7$ times.<br>\n",
    "Also, we cut the text to the first $10\\%$."
   ]
  },
  {
   "cell_type": "code",
   "execution_count": 9,
   "metadata": {},
   "outputs": [
    {
     "name": "stdout",
     "output_type": "stream",
     "text": [
      "['in', 'the', 'beginning', 'god', 'created', 'the', 'heaven', 'and', 'the', 'earth', 'and', 'the', 'earth', 'was', 'without', 'form', 'and', 'void', 'and', 'darkness', 'was', 'upon', 'the', 'face', 'of', 'the', 'deep', 'and', 'the', 'spirit', 'of', 'god', 'moved', 'upon', 'the', 'face', 'of', 'the', 'waters', 'and', 'god', 'said', 'let', 'there', 'be', 'light', 'and', 'there', 'was', 'light', 'and', 'god', 'saw', 'the', 'light', 'that', 'it', 'was', 'good', 'and', 'god', 'divided', 'the', 'light', 'from', 'the', 'darkness', 'and', 'god', 'called', 'the', 'light', 'day', 'and', 'the', 'darkness', 'he', 'called', 'night', 'and', 'the', 'evening', 'and', 'the', 'morning', 'were', 'the', 'first', 'day', 'and', 'god', 'said', 'let', 'there', 'be', 'a', 'firmament', 'in', 'the', 'midst', 'of', 'the', 'waters', 'and', 'let', 'it', 'divide', 'the', 'waters', 'from', 'the', 'waters', 'and', 'god', 'made', 'the', 'firmament', 'and', 'divided', 'the', 'waters', 'which', 'were', 'under', 'the', 'firmament', 'from', 'the', 'waters', 'which', 'were', 'above', 'the', 'firmament', 'and', 'it', 'was', 'so', 'and', 'god', 'called', 'the', 'firmament', 'heaven', 'and', 'the', 'evening', 'and', 'the', 'morning', 'were', 'the', 'second', 'day', 'and', 'god', 'said', 'let', 'the', 'waters', 'under', 'the', 'heaven', 'be', 'gathered', 'together', 'unto', 'one', 'place', 'and', 'let', 'the', 'dry', 'land', 'appear', 'and', 'it', 'was', 'so', 'and', 'god', 'called', 'the', 'dry', 'land', 'earth', 'and', 'the', 'gathering', 'together', 'of', 'the', 'waters', 'called', 'he', 'seas', 'and', 'god', 'saw', 'that']\n"
     ]
    }
   ],
   "source": [
    "new_text2 = []\n",
    "\n",
    "\n",
    "\n",
    "\n",
    "\n",
    "new_text = new_text[ 0 : np.int( np.round( np.float( len( new_text ) / 10 ) ) ) ]\n",
    "\n",
    "\n",
    "\n",
    "\n",
    "for item in new_text:\n",
    "    \n",
    "    if number_of_appearences[ item ] > 6:\n",
    "        \n",
    "        new_text2.append( item )\n",
    "        \n",
    "        \n",
    "        \n",
    "new_text = new_text2\n",
    "\n",
    "print( new_text[ 0 : 200 ] )"
   ]
  },
  {
   "cell_type": "markdown",
   "metadata": {},
   "source": [
    "Now, we empty the dicitonaries and fill them again."
   ]
  },
  {
   "cell_type": "code",
   "execution_count": 10,
   "metadata": {},
   "outputs": [
    {
     "name": "stdout",
     "output_type": "stream",
     "text": [
      "2543\n"
     ]
    }
   ],
   "source": [
    "individual_words.clear()\n",
    "\n",
    "individual_words_reverse.clear()\n",
    "\n",
    "number_of_appearences.clear()\n",
    "\n",
    "index = 0\n",
    "\n",
    "\n",
    "\n",
    "\n",
    "for item in new_text:\n",
    "    \n",
    "    if item not in individual_words_reverse:\n",
    "        \n",
    "        individual_words[ index ] = item\n",
    "        \n",
    "        individual_words_reverse[ item ] = index\n",
    "        \n",
    "        number_of_appearences[ item ] = 1\n",
    "        \n",
    "        index = index + 1\n",
    "        \n",
    "    else:\n",
    "        \n",
    "        number_of_appearences[ item ] = number_of_appearences[ item ] + 1\n",
    "        \n",
    "        \n",
    "        \n",
    "\n",
    "        \n",
    "print( index )"
   ]
  },
  {
   "cell_type": "markdown",
   "metadata": {},
   "source": [
    "Now, we create an embedding.<br>\n",
    "For each sequence of $10$ words in __new_text__, we will create $20$ arrays, wherein the first $10$ arrays contain $9$ of the $10$ words, and the other $10$ arrays each contain the tenth word. This way, the first $10$ arrays contain the \"neighbourhood\" of the words in the second $10$ arrays. "
   ]
  },
  {
   "cell_type": "code",
   "execution_count": 11,
   "metadata": {},
   "outputs": [],
   "source": [
    "neighborhood = np.zeros( shape = [ ( len( new_text ) - 10 ) * 10, index ], dtype = np.bool )\n",
    "\n",
    "neighbor = np.zeros( shape = [ ( len( new_text ) - 10 ) * 10, index ], dtype = np.bool )\n",
    "\n",
    "\n",
    "\n",
    "\n",
    "j = 0\n",
    "\n",
    "\n",
    "\n",
    "\n",
    "for i in range( len( new_text ) - 10 ):\n",
    "    \n",
    "    sequence = new_text[ i : ( i + 10 ) ]\n",
    "    \n",
    "    indices = []\n",
    "    \n",
    "    for item in sequence:\n",
    "        \n",
    "        indices.append( individual_words_reverse[ item ] )\n",
    "        \n",
    "    for k in indices:\n",
    "        \n",
    "        indices2 = []\n",
    "        \n",
    "        for l in indices:\n",
    "            \n",
    "            if l != k:\n",
    "                \n",
    "                indices2.append( l )\n",
    "                \n",
    "        for l in indices2:\n",
    "            \n",
    "            neighborhood[ j, l ] = 1\n",
    "            \n",
    "        neighbor[ j, k ] = 1\n",
    "        \n",
    "        j = j + 1"
   ]
  },
  {
   "cell_type": "markdown",
   "metadata": {},
   "source": [
    "Now, we create a simple neural network with a hidden layer of $256$ neurons."
   ]
  },
  {
   "cell_type": "code",
   "execution_count": 12,
   "metadata": {},
   "outputs": [
    {
     "name": "stdout",
     "output_type": "stream",
     "text": [
      "WARNING:tensorflow:From C:\\Users\\rhopi\\Anaconda3\\lib\\site-packages\\tensorflow\\python\\framework\\op_def_library.py:263: colocate_with (from tensorflow.python.framework.ops) is deprecated and will be removed in a future version.\n",
      "Instructions for updating:\n",
      "Colocations handled automatically by placer.\n",
      "WARNING:tensorflow:From C:\\Users\\rhopi\\Anaconda3\\lib\\site-packages\\tensorflow\\python\\ops\\math_ops.py:3066: to_int32 (from tensorflow.python.ops.math_ops) is deprecated and will be removed in a future version.\n",
      "Instructions for updating:\n",
      "Use tf.cast instead.\n"
     ]
    },
    {
     "name": "stderr",
     "output_type": "stream",
     "text": [
      "C:\\Users\\rhopi\\Anaconda3\\lib\\site-packages\\keras\\activations.py:211: UserWarning: Do not pass a layer instance (such as LeakyReLU) as the activation argument of another layer. Instead, advanced activation layers should be used just like any other layer in a model.\n",
      "  identifier=identifier.__class__.__name__))\n"
     ]
    },
    {
     "name": "stdout",
     "output_type": "stream",
     "text": [
      "Epoch 1/100\n",
      "778470/778470 [==============================] - 35s 45us/step - loss: 5.0921 - acc: 0.2079\n",
      "Epoch 2/100\n",
      "778470/778470 [==============================] - 33s 42us/step - loss: 4.4756 - acc: 0.2632\n",
      "Epoch 3/100\n",
      "778470/778470 [==============================] - 33s 42us/step - loss: 4.1470 - acc: 0.2934\n",
      "Epoch 4/100\n",
      "778470/778470 [==============================] - 33s 42us/step - loss: 3.8940 - acc: 0.3175\n",
      "Epoch 5/100\n",
      "778470/778470 [==============================] - 32s 42us/step - loss: 3.6806 - acc: 0.3393\n",
      "Epoch 6/100\n",
      "778470/778470 [==============================] - ETA: 0s - loss: 3.4928 - acc: 0.358 - 33s 42us/step - loss: 3.4928 - acc: 0.3585\n",
      "Epoch 7/100\n",
      "778470/778470 [==============================] - ETA: 0s - loss: 3.3237 - acc: 0.376 - 33s 42us/step - loss: 3.3237 - acc: 0.3765\n",
      "Epoch 8/100\n",
      "778470/778470 [==============================] - 33s 42us/step - loss: 3.1709 - acc: 0.3932\n",
      "Epoch 9/100\n",
      "778470/778470 [==============================] - 33s 42us/step - loss: 3.0312 - acc: 0.4087\n",
      "Epoch 10/100\n",
      "778470/778470 [==============================] - 32s 42us/step - loss: 2.9029 - acc: 0.4234\n",
      "Epoch 11/100\n",
      "778470/778470 [==============================] - 32s 42us/step - loss: 2.7834 - acc: 0.4367\n",
      "Epoch 12/100\n",
      "778470/778470 [==============================] - 33s 42us/step - loss: 2.6729 - acc: 0.4502\n",
      "Epoch 13/100\n",
      "778470/778470 [==============================] - 33s 42us/step - loss: 2.5696 - acc: 0.4633\n",
      "Epoch 14/100\n",
      "778470/778470 [==============================] - 33s 42us/step - loss: 2.4729 - acc: 0.4757\n",
      "Epoch 15/100\n",
      "778470/778470 [==============================] - 33s 42us/step - loss: 2.3822 - acc: 0.4870\n",
      "Epoch 16/100\n",
      "778470/778470 [==============================] - 33s 42us/step - loss: 2.2977 - acc: 0.4991\n",
      "Epoch 17/100\n",
      "778470/778470 [==============================] - 33s 42us/step - loss: 2.2183 - acc: 0.5101\n",
      "Epoch 18/100\n",
      "778470/778470 [==============================] - 33s 42us/step - loss: 2.1438 - acc: 0.5213\n",
      "Epoch 19/100\n",
      "778470/778470 [==============================] - 31s 40us/step - loss: 2.0740 - acc: 0.5317\n",
      "Epoch 20/100\n",
      "778470/778470 [==============================] - 32s 41us/step - loss: 2.0089 - acc: 0.5415\n",
      "Epoch 21/100\n",
      "778470/778470 [==============================] - 33s 42us/step - loss: 1.9468 - acc: 0.5512\n",
      "Epoch 22/100\n",
      "778470/778470 [==============================] - 33s 42us/step - loss: 1.8891 - acc: 0.5604\n",
      "Epoch 23/100\n",
      "778470/778470 [==============================] - 33s 42us/step - loss: 1.8348 - acc: 0.5702\n",
      "Epoch 24/100\n",
      "778470/778470 [==============================] - 33s 42us/step - loss: 1.7839 - acc: 0.5788\n",
      "Epoch 25/100\n",
      "778470/778470 [==============================] - 33s 42us/step - loss: 1.7356 - acc: 0.5875\n",
      "Epoch 26/100\n",
      "778470/778470 [==============================] - 33s 42us/step - loss: 1.6904 - acc: 0.5958\n",
      "Epoch 27/100\n",
      "778470/778470 [==============================] - 33s 42us/step - loss: 1.6477 - acc: 0.6037\n",
      "Epoch 28/100\n",
      "778470/778470 [==============================] - 33s 42us/step - loss: 1.6073 - acc: 0.6114\n",
      "Epoch 29/100\n",
      "778470/778470 [==============================] - 33s 42us/step - loss: 1.5692 - acc: 0.6189\n",
      "Epoch 30/100\n",
      "778470/778470 [==============================] - 33s 42us/step - loss: 1.5333 - acc: 0.6255\n",
      "Epoch 31/100\n",
      "778470/778470 [==============================] - 33s 42us/step - loss: 1.4998 - acc: 0.6322\n",
      "Epoch 32/100\n",
      "778470/778470 [==============================] - 33s 42us/step - loss: 1.4675 - acc: 0.6391\n",
      "Epoch 33/100\n",
      "778470/778470 [==============================] - 33s 43us/step - loss: 1.4373 - acc: 0.6453\n",
      "Epoch 34/100\n",
      "778470/778470 [==============================] - 33s 42us/step - loss: 1.4078 - acc: 0.6512\n",
      "Epoch 35/100\n",
      "778470/778470 [==============================] - 33s 42us/step - loss: 1.3807 - acc: 0.6567\n",
      "Epoch 36/100\n",
      "778470/778470 [==============================] - 33s 42us/step - loss: 1.3545 - acc: 0.6624\n",
      "Epoch 37/100\n",
      "778470/778470 [==============================] - 33s 42us/step - loss: 1.3298 - acc: 0.6675\n",
      "Epoch 38/100\n",
      "778470/778470 [==============================] - 33s 42us/step - loss: 1.3062 - acc: 0.6727\n",
      "Epoch 39/100\n",
      "778470/778470 [==============================] - 32s 41us/step - loss: 1.2835 - acc: 0.6774\n",
      "Epoch 40/100\n",
      "778470/778470 [==============================] - 32s 41us/step - loss: 1.2627 - acc: 0.6817\n",
      "Epoch 41/100\n",
      "778470/778470 [==============================] - 32s 41us/step - loss: 1.2421 - acc: 0.6860\n",
      "Epoch 42/100\n",
      "778470/778470 [==============================] - 32s 41us/step - loss: 1.2225 - acc: 0.6903\n",
      "Epoch 43/100\n",
      "778470/778470 [==============================] - 33s 42us/step - loss: 1.2043 - acc: 0.6944\n",
      "Epoch 44/100\n",
      "778470/778470 [==============================] - 33s 42us/step - loss: 1.1866 - acc: 0.6980\n",
      "Epoch 45/100\n",
      "778470/778470 [==============================] - 33s 42us/step - loss: 1.1695 - acc: 0.7017\n",
      "Epoch 46/100\n",
      "778470/778470 [==============================] - 33s 42us/step - loss: 1.1529 - acc: 0.7055\n",
      "Epoch 47/100\n",
      "778470/778470 [==============================] - 33s 42us/step - loss: 1.1373 - acc: 0.7087\n",
      "Epoch 48/100\n",
      "778470/778470 [==============================] - 33s 42us/step - loss: 1.1222 - acc: 0.7118\n",
      "Epoch 49/100\n",
      "778470/778470 [==============================] - 33s 42us/step - loss: 1.1083 - acc: 0.7148\n",
      "Epoch 50/100\n",
      "778470/778470 [==============================] - 33s 42us/step - loss: 1.0943 - acc: 0.7182\n",
      "Epoch 51/100\n",
      "778470/778470 [==============================] - 33s 42us/step - loss: 1.0805 - acc: 0.7208\n",
      "Epoch 52/100\n",
      "778470/778470 [==============================] - 32s 41us/step - loss: 1.0677 - acc: 0.7235\n",
      "Epoch 53/100\n",
      "778470/778470 [==============================] - 31s 40us/step - loss: 1.0552 - acc: 0.7261\n",
      "Epoch 54/100\n",
      "778470/778470 [==============================] - 32s 41us/step - loss: 1.0440 - acc: 0.7288\n",
      "Epoch 55/100\n",
      "778470/778470 [==============================] - 32s 40us/step - loss: 1.0322 - acc: 0.7314\n",
      "Epoch 56/100\n",
      "778470/778470 [==============================] - 32s 41us/step - loss: 1.0209 - acc: 0.7341\n",
      "Epoch 57/100\n",
      "778470/778470 [==============================] - 32s 41us/step - loss: 1.0102 - acc: 0.7360\n",
      "Epoch 58/100\n",
      "778470/778470 [==============================] - 31s 40us/step - loss: 0.9996 - acc: 0.7385\n",
      "Epoch 59/100\n",
      "778470/778470 [==============================] - 31s 40us/step - loss: 0.9891 - acc: 0.7412\n",
      "Epoch 60/100\n",
      "778470/778470 [==============================] - 32s 41us/step - loss: 0.9798 - acc: 0.7427\n",
      "Epoch 61/100\n",
      "778470/778470 [==============================] - 32s 41us/step - loss: 0.9700 - acc: 0.7444\n",
      "Epoch 62/100\n",
      "778470/778470 [==============================] - 32s 41us/step - loss: 0.9613 - acc: 0.7470\n",
      "Epoch 63/100\n",
      "778470/778470 [==============================] - 32s 41us/step - loss: 0.9523 - acc: 0.7489\n",
      "Epoch 64/100\n",
      "778470/778470 [==============================] - 31s 40us/step - loss: 0.9435 - acc: 0.7504\n",
      "Epoch 65/100\n",
      "778470/778470 [==============================] - 31s 40us/step - loss: 0.9350 - acc: 0.7524\n",
      "Epoch 66/100\n",
      "778470/778470 [==============================] - 31s 40us/step - loss: 0.9274 - acc: 0.7540\n",
      "Epoch 67/100\n",
      "778470/778470 [==============================] - 32s 41us/step - loss: 0.9190 - acc: 0.7561\n",
      "Epoch 68/100\n",
      "778470/778470 [==============================] - 31s 40us/step - loss: 0.9118 - acc: 0.7573\n",
      "Epoch 69/100\n",
      "778470/778470 [==============================] - 32s 41us/step - loss: 0.9034 - acc: 0.7593\n",
      "Epoch 70/100\n",
      "778470/778470 [==============================] - 32s 41us/step - loss: 0.8971 - acc: 0.7609\n",
      "Epoch 71/100\n",
      "778470/778470 [==============================] - 32s 41us/step - loss: 0.8892 - acc: 0.7626\n",
      "Epoch 72/100\n",
      "778470/778470 [==============================] - 32s 41us/step - loss: 0.8829 - acc: 0.7639\n",
      "Epoch 73/100\n",
      "778470/778470 [==============================] - 31s 40us/step - loss: 0.8765 - acc: 0.7655\n",
      "Epoch 74/100\n",
      "778470/778470 [==============================] - 32s 41us/step - loss: 0.8693 - acc: 0.7669\n",
      "Epoch 75/100\n",
      "778470/778470 [==============================] - 31s 40us/step - loss: 0.8630 - acc: 0.7682\n",
      "Epoch 76/100\n",
      "778470/778470 [==============================] - 32s 41us/step - loss: 0.8565 - acc: 0.7695\n",
      "Epoch 77/100\n",
      "778470/778470 [==============================] - 31s 40us/step - loss: 0.8510 - acc: 0.7710\n",
      "Epoch 78/100\n",
      "778470/778470 [==============================] - 31s 40us/step - loss: 0.8449 - acc: 0.7718\n",
      "Epoch 79/100\n",
      "778470/778470 [==============================] - 32s 40us/step - loss: 0.8387 - acc: 0.7735\n",
      "Epoch 80/100\n",
      "778470/778470 [==============================] - 31s 40us/step - loss: 0.8330 - acc: 0.7745\n",
      "Epoch 81/100\n",
      "778470/778470 [==============================] - 32s 41us/step - loss: 0.8273 - acc: 0.7760\n",
      "Epoch 82/100\n",
      "778470/778470 [==============================] - 31s 40us/step - loss: 0.8223 - acc: 0.7772\n",
      "Epoch 83/100\n",
      "778470/778470 [==============================] - 31s 40us/step - loss: 0.8165 - acc: 0.7783\n",
      "Epoch 84/100\n",
      "778470/778470 [==============================] - 32s 40us/step - loss: 0.8115 - acc: 0.7794\n",
      "Epoch 85/100\n",
      "778470/778470 [==============================] - 31s 40us/step - loss: 0.8066 - acc: 0.7801\n",
      "Epoch 86/100\n",
      "778470/778470 [==============================] - 31s 40us/step - loss: 0.8018 - acc: 0.7811\n",
      "Epoch 87/100\n",
      "778470/778470 [==============================] - 32s 41us/step - loss: 0.7966 - acc: 0.7826\n",
      "Epoch 88/100\n",
      "778470/778470 [==============================] - 32s 41us/step - loss: 0.7919 - acc: 0.7835\n",
      "Epoch 89/100\n",
      "778470/778470 [==============================] - 31s 40us/step - loss: 0.7872 - acc: 0.7848\n",
      "Epoch 90/100\n",
      "778470/778470 [==============================] - 31s 40us/step - loss: 0.7829 - acc: 0.7853\n",
      "Epoch 91/100\n",
      "778470/778470 [==============================] - 33s 42us/step - loss: 0.7782 - acc: 0.7863\n",
      "Epoch 92/100\n",
      "778470/778470 [==============================] - 33s 42us/step - loss: 0.7739 - acc: 0.7875\n",
      "Epoch 93/100\n",
      "778470/778470 [==============================] - 33s 42us/step - loss: 0.7697 - acc: 0.7883\n",
      "Epoch 94/100\n",
      "778470/778470 [==============================] - 33s 42us/step - loss: 0.7653 - acc: 0.7894\n",
      "Epoch 95/100\n",
      "778470/778470 [==============================] - 33s 42us/step - loss: 0.7609 - acc: 0.7905\n",
      "Epoch 96/100\n",
      "778470/778470 [==============================] - 33s 42us/step - loss: 0.7569 - acc: 0.7909\n",
      "Epoch 97/100\n",
      "778470/778470 [==============================] - 33s 42us/step - loss: 0.7525 - acc: 0.7919\n",
      "Epoch 98/100\n",
      "778470/778470 [==============================] - 33s 42us/step - loss: 0.7491 - acc: 0.7924\n",
      "Epoch 99/100\n",
      "778470/778470 [==============================] - 33s 42us/step - loss: 0.7452 - acc: 0.7941\n",
      "Epoch 100/100\n",
      "778470/778470 [==============================] - 33s 42us/step - loss: 0.7412 - acc: 0.7944\n"
     ]
    },
    {
     "data": {
      "text/plain": [
       "<keras.callbacks.History at 0x218ddf1c4a8>"
      ]
     },
     "execution_count": 12,
     "metadata": {},
     "output_type": "execute_result"
    }
   ],
   "source": [
    "input_ = keras.engine.input_layer.Input( shape = ( index, ) )\n",
    "\n",
    "x = layers.Dense( 256, activation = layers.LeakyReLU( alpha = 0.3 ) )( input_ )\n",
    "\n",
    "output = layers.Dense( index, activation = \"softmax\" )( x )\n",
    "\n",
    "model = keras.Model( input_, output )\n",
    "\n",
    "model.compile( optimizer = keras.optimizers.SGD( lr = 0.1, momentum = 0.0, decay = 0.0, nesterov = False ),\n",
    "               loss = \"categorical_crossentropy\", metrics = [ \"accuracy\" ] )\n",
    "\n",
    "model.fit( neighborhood, neighbor, epochs = 100, batch_size = 100 )"
   ]
  },
  {
   "cell_type": "code",
   "execution_count": 13,
   "metadata": {},
   "outputs": [
    {
     "name": "stdout",
     "output_type": "stream",
     "text": [
      "_________________________________________________________________\n",
      "Layer (type)                 Output Shape              Param #   \n",
      "=================================================================\n",
      "input_1 (InputLayer)         (None, 2543)              0         \n",
      "_________________________________________________________________\n",
      "dense_1 (Dense)              (None, 256)               651264    \n",
      "_________________________________________________________________\n",
      "dense_2 (Dense)              (None, 2543)              653551    \n",
      "=================================================================\n",
      "Total params: 1,304,815\n",
      "Trainable params: 1,304,815\n",
      "Non-trainable params: 0\n",
      "_________________________________________________________________\n"
     ]
    }
   ],
   "source": [
    "model.summary()"
   ]
  },
  {
   "cell_type": "markdown",
   "metadata": {},
   "source": [
    "By now, we have built the model that predicts for $9$ given words the tenth word in their neighbourhood.<br>\n",
    "Next, we define a function, that predicts the output of the dense layer \"dense_1\". We can interprete this output as a mapping from the input space with __index__ words to $256$ dimensions. Thereby, \"dense_1\" reduces the dimensionality of the data set."
   ]
  },
  {
   "cell_type": "code",
   "execution_count": 14,
   "metadata": {},
   "outputs": [],
   "source": [
    "output = dict( [ ( layer.name, layer.output ) for layer in model.layers ] )\n",
    "\n",
    "pred_fun = b.function( [ input_ ], [ output[ 'dense_1' ] ] )"
   ]
  },
  {
   "cell_type": "markdown",
   "metadata": {},
   "source": [
    "Next, we map the words from __individual_words__ into the embedding space using __pred_fun__."
   ]
  },
  {
   "cell_type": "code",
   "execution_count": 15,
   "metadata": {},
   "outputs": [],
   "source": [
    "sampled_words = []\n",
    "\n",
    "embedding = np.zeros( shape = [ index, 256 ] )\n",
    "\n",
    "base = np.zeros( shape = [ 1, index ], dtype = np.bool )\n",
    "\n",
    "\n",
    "\n",
    "\n",
    "\n",
    "for i in range( index ):\n",
    "    \n",
    "    sampled_words.append( individual_words[ i ] )\n",
    "    \n",
    "    base[ 0, i ] = 1\n",
    "    \n",
    "    embedding[ i, : ] = pred_fun( [ base ] )[ 0 ]\n",
    "    \n",
    "    base[ 0, i ] = 0"
   ]
  },
  {
   "cell_type": "markdown",
   "metadata": {},
   "source": [
    "Now, we import sklearn in order to employ [tsne](https://scikit-learn.org/stable/modules/generated/sklearn.manifold.TSNE.html). [TSNE](https://en.wikipedia.org/wiki/T-distributed_stochastic_neighbor_embedding) is a dimensionality reduction scheme, that focuses on keeping close items nearby. We employ [fit_transform](https://scikit-learn.org/stable/modules/generated/sklearn.manifold.TSNE.html#sklearn.manifold.TSNE.fit_transform) to map the data from the $256$-dimensional embedding space to $2$-dimensional space."
   ]
  },
  {
   "cell_type": "code",
   "execution_count": 16,
   "metadata": {},
   "outputs": [
    {
     "name": "stdout",
     "output_type": "stream",
     "text": [
      "0.20.3\n"
     ]
    }
   ],
   "source": [
    "import sklearn\n",
    "from sklearn.manifold import TSNE\n",
    "\n",
    "print( sklearn.__version__ )"
   ]
  },
  {
   "cell_type": "code",
   "execution_count": 17,
   "metadata": {},
   "outputs": [],
   "source": [
    "two_d = TSNE( n_components = 2 ).fit_transform( X = embedding )"
   ]
  },
  {
   "cell_type": "markdown",
   "metadata": {},
   "source": [
    "Now, we can plot this mapping. To keep everything visible, we only plot the first $70$ words."
   ]
  },
  {
   "cell_type": "code",
   "execution_count": 18,
   "metadata": {},
   "outputs": [
    {
     "name": "stdout",
     "output_type": "stream",
     "text": [
      "3.0.3\n"
     ]
    }
   ],
   "source": [
    "import matplotlib\n",
    "import matplotlib.pyplot as plt\n",
    "\n",
    "print( matplotlib.__version__ )"
   ]
  },
  {
   "cell_type": "code",
   "execution_count": 19,
   "metadata": {},
   "outputs": [
    {
     "data": {
      "text/plain": [
       "([], <a list of 0 Text yticklabel objects>)"
      ]
     },
     "execution_count": 19,
     "metadata": {},
     "output_type": "execute_result"
    },
    {
     "data": {
      "image/png": "[encoded data removed]",
      "text/plain": [
       "<Figure size 1440x720 with 1 Axes>"
      ]
     },
     "metadata": {},
     "output_type": "display_data"
    }
   ],
   "source": [
    "plt.figure( figsize = ( 20, 10 ) )\n",
    "\n",
    "\n",
    "for i in range( 70 ):\n",
    "    \n",
    "    plt.plot( two_d[ i, 0 ], two_d[ i, 1 ], 'bo' )\n",
    "    \n",
    "    plt.text( two_d[ i, 0 ] + 0.03, two_d[ i, 1 ] + 0.03, sampled_words[ i ] )\n",
    "    \n",
    "    \n",
    "plt.xticks( [] )\n",
    "\n",
    "plt.yticks( [] )"
   ]
  },
  {
   "cell_type": "markdown",
   "metadata": {},
   "source": [
    "We see, that \"above\" and \"under\" are very near, also \"from\" and \"of\", also \"there\" and \"the\". We recognize, that for several words, meaningful neighbourhoods have been established.<br>\n",
    "Class dismissed."
   ]
  }
 ],
 "metadata": {
  "kernelspec": {
   "display_name": "Python 3",
   "language": "python",
   "name": "python3"
  },
  "language_info": {
   "codemirror_mode": {
    "name": "ipython",
    "version": 3
   },
   "file_extension": ".py",
   "mimetype": "text/x-python",
   "name": "python",
   "nbconvert_exporter": "python",
   "pygments_lexer": "ipython3",
   "version": "3.7.3"
  }
 },
 "nbformat": 4,
 "nbformat_minor": 2
}
