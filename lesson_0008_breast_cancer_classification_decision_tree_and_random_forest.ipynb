{
 "cells": [
  {
   "cell_type": "markdown",
   "metadata": {},
   "source": [
    "# Lesson 0008 - Breast Cancer Classification Decision Tree and Random Forest\n",
    "In this lesson, we will reproduce the classification of the [breast cancer data set](https://github.com/Mathhead/Lessons-in-Machine-Learning/blob/master/lesson_0006_breast_cancer_classification_linear_classifier.ipynb) using decision trees like in [lesson 0003](https://github.com/Mathhead/Lessons-in-Machine-Learning/blob/master/lesson_0003_iris_classification_decision_trees.ipynb) and random forests like in [lesson 0004](https://github.com/Mathhead/Lessons-in-Machine-Learning/blob/master/lesson_0004_iris_classification_random_forest.ipynb).<br>\n",
    "Since the data preparation will be identical to [lesson 0007](https://github.com/Mathhead/Lessons-in-Machine-Learning/blob/master/lesson_0007_breast_cancer_classification_support_vector_machine.ipynb) we steal the code from there."
   ]
  },
  {
   "cell_type": "code",
   "execution_count": 1,
   "metadata": {},
   "outputs": [
    {
     "name": "stdout",
     "output_type": "stream",
     "text": [
      "0.19.1\n"
     ]
    }
   ],
   "source": [
    "import sklearn as sklearn\n",
    "from sklearn.datasets import load_breast_cancer as lbc\n",
    "\n",
    "print( sklearn.__version__ )"
   ]
  },
  {
   "cell_type": "code",
   "execution_count": 2,
   "metadata": {},
   "outputs": [
    {
     "name": "stdout",
     "output_type": "stream",
     "text": [
      "1.14.3\n"
     ]
    }
   ],
   "source": [
    "data = lbc()\n",
    "\n",
    "data_x = data.data\n",
    "\n",
    "data_y = data.target\n",
    "\n",
    "\n",
    "\n",
    "\n",
    "\n",
    "import numpy as np\n",
    "\n",
    "np.random.seed( 1234567890 )\n",
    "\n",
    "print( np.__version__ )"
   ]
  },
  {
   "cell_type": "code",
   "execution_count": 3,
   "metadata": {},
   "outputs": [],
   "source": [
    "train_x = np.zeros( shape = [ 400, 30 ] )\n",
    "\n",
    "train_y = np.zeros( shape = [ 400 ] )\n",
    "\n",
    "test_x = np.zeros( shape = [ 169, 30 ] )\n",
    "\n",
    "test_y = np.zeros( shape = [ 169 ] )\n",
    "\n",
    "\n",
    "\n",
    "random_integers = np.random.choice( range( 569 ), 400, replace = False )\n",
    "\n",
    "random_integers = np.sort( random_integers )\n",
    "\n",
    "\n",
    "\n",
    "j = 0\n",
    "\n",
    "k = 0\n",
    "\n",
    "\n",
    "\n",
    "for i in range( 569 ):\n",
    "    \n",
    "    if i == random_integers[ j ]:\n",
    "        \n",
    "        train_x[ j, : ] = data_x[ i, : ]\n",
    "        \n",
    "        train_y[ j ] = data_y[ i ]\n",
    "        \n",
    "        j = j + 1\n",
    "        \n",
    "        if j == 400:\n",
    "            \n",
    "            j = 0\n",
    "            \n",
    "    else:\n",
    "        \n",
    "        test_x[ k, : ] = data_x[ i, : ]\n",
    "        \n",
    "        test_y[ k ] = data_y[ i ]\n",
    "        \n",
    "        k = k + 1\n",
    "        \n",
    "        \n",
    "        \n",
    "        \n",
    "mu = np.zeros( shape = [ 30 ] )\n",
    "\n",
    "sigma = np.zeros( shape = [ 30 ] )\n",
    "\n",
    "\n",
    "\n",
    "\n",
    "for i in range( 30 ):\n",
    "    \n",
    "    mu[ i ] = np.mean( train_x[ :, i ] )\n",
    "    \n",
    "    sigma[ i ] = np.std( train_x[ :, i ] )\n",
    "    \n",
    "    \n",
    "    \n",
    "    \n",
    "for i in range( 30 ):\n",
    "    \n",
    "    train_x[ :, i ] = ( train_x[ :, i ] - mu[ i ] ) / sigma[ i ]\n",
    "    \n",
    "    test_x[ :, i ] = ( test_x[ :, i ] - mu[ i ] ) / sigma[ i ]\n",
    "\n"
   ]
  },
  {
   "cell_type": "markdown",
   "metadata": {},
   "source": [
    "Now we steal the code from [lesson 0003](https://github.com/Mathhead/Lessons-in-Machine-Learning/blob/master/lesson_0003_iris_classification_decision_trees.ipynb):"
   ]
  },
  {
   "cell_type": "code",
   "execution_count": 4,
   "metadata": {},
   "outputs": [],
   "source": [
    "from sklearn.tree import DecisionTreeClassifier as DTC"
   ]
  },
  {
   "cell_type": "markdown",
   "metadata": {},
   "source": [
    "We will use the decision tree algorithm right out of the box.\n",
    "We fit a model __tree__, store the predictions made by this model in __hit__, and use hit to compute the __accuracy__."
   ]
  },
  {
   "cell_type": "code",
   "execution_count": 5,
   "metadata": {},
   "outputs": [
    {
     "name": "stdout",
     "output_type": "stream",
     "text": [
      "We reached an accuracy of 88.0%\n"
     ]
    }
   ],
   "source": [
    "tree = DTC()\n",
    "\n",
    "tree.fit( train_x, train_y )\n",
    "\n",
    "hit = ( tree.predict( test_x ) == test_y )\n",
    "\n",
    "accuracy = 0.0\n",
    "\n",
    "for i in range( 50 ):\n",
    "    \n",
    "    if hit[ i ]:\n",
    "        \n",
    "        accuracy = accuracy + 1.0\n",
    "        \n",
    "accuracy = accuracy * 2.0\n",
    "\n",
    "print( 'We reached an accuracy of ' + str( accuracy ) + '%' )"
   ]
  },
  {
   "cell_type": "markdown",
   "metadata": {},
   "source": [
    "Now here is actually room for improvement.<br>\n",
    "We will steal the code for random forests from [lesson 0004](https://github.com/Mathhead/Lessons-in-Machine-Learning/blob/master/lesson_0004_iris_classification_random_forest.ipynb):"
   ]
  },
  {
   "cell_type": "code",
   "execution_count": 6,
   "metadata": {},
   "outputs": [],
   "source": [
    "from sklearn.ensemble import RandomForestClassifier as RFC"
   ]
  },
  {
   "cell_type": "markdown",
   "metadata": {},
   "source": [
    "We will use __RFC__ right out of the box to fit a model __forest__. We will make predictions using __forest__ and store the results in __hit_2__ which we will use to compute the __accuracy_2__."
   ]
  },
  {
   "cell_type": "code",
   "execution_count": 7,
   "metadata": {},
   "outputs": [
    {
     "name": "stdout",
     "output_type": "stream",
     "text": [
      "We reached an accuracy of 94.0%\n"
     ]
    }
   ],
   "source": [
    "forest = RFC()\n",
    "\n",
    "forest.fit( train_x, train_y )\n",
    "\n",
    "hit_2 = ( forest.predict( test_x ) == test_y )\n",
    "\n",
    "accuracy_2 = 0.0\n",
    "\n",
    "for i in range( 50 ):\n",
    "    \n",
    "    if hit_2[ i ]:\n",
    "        \n",
    "        accuracy_2 = accuracy_2 + 1.0\n",
    "        \n",
    "accuracy_2 = accuracy_2 * 2.0\n",
    "\n",
    "print( 'We reached an accuracy of ' + str( accuracy_2 ) + '%' )"
   ]
  },
  {
   "cell_type": "markdown",
   "metadata": {},
   "source": [
    "Since the size of the test is so little, there is little room for fine tuning. Therefore<br>\n",
    "Class dismissed."
   ]
  }
 ],
 "metadata": {
  "kernelspec": {
   "display_name": "Python 3",
   "language": "python",
   "name": "python3"
  },
  "language_info": {
   "codemirror_mode": {
    "name": "ipython",
    "version": 3
   },
   "file_extension": ".py",
   "mimetype": "text/x-python",
   "name": "python",
   "nbconvert_exporter": "python",
   "pygments_lexer": "ipython3",
   "version": "3.6.5"
  }
 },
 "nbformat": 4,
 "nbformat_minor": 2
}
