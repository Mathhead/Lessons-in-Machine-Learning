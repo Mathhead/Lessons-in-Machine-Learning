{
 "cells": [
  {
   "cell_type": "markdown",
   "metadata": {},
   "source": [
    "# Lesson 0017 - MNIST Classification Deep Neural Network (III)\n",
    "In this lesson, we will revisit the MNIST data set.<br>\n",
    "We will try to make the network from [lesson 0016](https://github.com/Mathhead/Lessons-in-Machine-Learning/blob/master/lesson_0016_mnist_classification_deep_neural_network_2.ipynb) deeper, therefore, we can steal lots of code from there.<br>\n",
    "Please note, that I upgraded to [Tensorflow GPU](https://www.tensorflow.org/install/gpu). The computations might take a while if you do not employ a GPU."
   ]
  },
  {
   "cell_type": "code",
   "execution_count": 1,
   "metadata": {},
   "outputs": [
    {
     "name": "stdout",
     "output_type": "stream",
     "text": [
      "1.13.1\n"
     ]
    }
   ],
   "source": [
    "import tensorflow as tf\n",
    "\n",
    "tf.set_random_seed( 1234567890 )\n",
    "\n",
    "print( tf.__version__ )"
   ]
  },
  {
   "cell_type": "code",
   "execution_count": 2,
   "metadata": {},
   "outputs": [],
   "source": [
    "( train_x, train_y ),( test_x, test_y ) = tf.keras.datasets.mnist.load_data()"
   ]
  },
  {
   "cell_type": "code",
   "execution_count": 3,
   "metadata": {},
   "outputs": [
    {
     "name": "stdout",
     "output_type": "stream",
     "text": [
      "1.16.2\n"
     ]
    }
   ],
   "source": [
    "import numpy as np\n",
    "\n",
    "np.random.seed( 1234567890 )\n",
    "\n",
    "print( np.__version__ )"
   ]
  },
  {
   "cell_type": "code",
   "execution_count": 4,
   "metadata": {},
   "outputs": [
    {
     "name": "stdout",
     "output_type": "stream",
     "text": [
      "3.0.3\n"
     ]
    }
   ],
   "source": [
    "import matplotlib\n",
    "import matplotlib.pyplot as plt\n",
    "\n",
    "print( matplotlib.__version__ )"
   ]
  },
  {
   "cell_type": "code",
   "execution_count": 5,
   "metadata": {},
   "outputs": [],
   "source": [
    "mu = np.mean( train_x )\n",
    "\n",
    "sigma = np.std( train_x )\n",
    "\n",
    "\n",
    "\n",
    "train_x = ( train_x - mu ) / sigma\n",
    "\n",
    "test_x = ( test_x - mu ) / sigma"
   ]
  },
  {
   "cell_type": "code",
   "execution_count": 6,
   "metadata": {},
   "outputs": [],
   "source": [
    "train_x_f = np.zeros( shape = [ 60000, 28 * 28 ] )\n",
    "\n",
    "train_y_f = np.zeros( shape = [ 60000, 10 ] )\n",
    "\n",
    "test_x_f = np.zeros( shape = [ 10000, 28 * 28 ] )\n",
    "\n",
    "test_y_f = np.zeros( shape = [ 10000, 10 ] )\n",
    "\n",
    "\n",
    "\n",
    "\n",
    "for i in range( 60000 ):\n",
    "    \n",
    "    train_y_f[ i, train_y[ i ] ] = 1.0\n",
    "    \n",
    "    \n",
    "for i in range( 10000 ):\n",
    "    \n",
    "    test_y_f[ i, test_y[ i ] ] = 1.0\n",
    "    \n",
    "\n",
    "for i in range( 60000 ):\n",
    "    \n",
    "    dummy = np.array( train_x[ i ] )\n",
    "    \n",
    "    train_x_f[ i, : ] = dummy.flatten()\n",
    "    \n",
    "    \n",
    "for i in range( 10000 ):\n",
    "    \n",
    "    dummy = np.array( test_x[ i ] )\n",
    "    \n",
    "    test_x_f[ i ] = dummy.flatten()\n",
    "    \n",
    "    \n",
    "    \n",
    "    \n",
    "train_x = train_x_f\n",
    "\n",
    "train_y = train_y_f\n",
    "\n",
    "test_x = test_x_f\n",
    "\n",
    "test_y = test_y_f"
   ]
  },
  {
   "cell_type": "markdown",
   "metadata": {},
   "source": [
    "Now, we steal the code from [lesson 0016](https://github.com/Mathhead/Lessons-in-Machine-Learning/blob/master/lesson_0016_mnist_classification_deep_neural_network_2.ipynb) to create the neural network.<br>\n",
    "We will extend the approach from there by adding an additional layer of $256$ nodes before the output layer.<br>\n",
    "We will train this model for $50000$ iterations on $100$ randomly drawn training data with a learning rate of $0.0001$."
   ]
  },
  {
   "cell_type": "code",
   "execution_count": 7,
   "metadata": {},
   "outputs": [
    {
     "name": "stdout",
     "output_type": "stream",
     "text": [
      "WARNING:tensorflow:From C:\\Users\\rhopi\\Anaconda3\\lib\\site-packages\\tensorflow\\python\\framework\\op_def_library.py:263: colocate_with (from tensorflow.python.framework.ops) is deprecated and will be removed in a future version.\n",
      "Instructions for updating:\n",
      "Colocations handled automatically by placer.\n"
     ]
    }
   ],
   "source": [
    "x_tf = tf.placeholder( tf.float32, shape = [ None, 28 * 28 ] )\n",
    "\n",
    "y_tf = tf.placeholder( tf.float32, shape = [ None, 10 ] )\n",
    "\n",
    "\n",
    "\n",
    "\n",
    "W_tf_1 = tf.Variable( tf.truncated_normal( [ 28 * 28, 28 * 28 ] ) )\n",
    "\n",
    "b_tf_1 = tf.Variable( tf.truncated_normal( [ 28 * 28 ] ) )\n",
    "\n",
    "layer_2 = tf.nn.leaky_relu( tf.matmul( x_tf, W_tf_1 ) + b_tf_1 )\n",
    "\n",
    "\n",
    "\n",
    "\n",
    "W_tf_2 = tf.Variable( tf.truncated_normal( [ 28 * 28, 512 ] ) )\n",
    "\n",
    "b_tf_2 = tf.Variable( tf.truncated_normal( [ 512 ] ) )\n",
    "\n",
    "layer_3 = tf.nn.leaky_relu( tf.matmul( layer_2, W_tf_2 ) + b_tf_2 )\n",
    "\n",
    "\n",
    "\n",
    "\n",
    "W_tf_3 = tf.Variable( tf.truncated_normal( [ 512, 256 ] ) )\n",
    "\n",
    "b_tf_3 = tf.Variable( tf.truncated_normal( [ 256 ] ) )\n",
    "\n",
    "layer_4 = tf.nn.leaky_relu( tf.matmul( layer_3, W_tf_3 ) + b_tf_3 )\n",
    "\n",
    "\n",
    "\n",
    "\n",
    "W_tf_4 = tf.Variable( tf.truncated_normal( [ 256, 10 ] ) )\n",
    "\n",
    "b_tf_4 = tf.Variable( tf.truncated_normal( [ 10 ] ) )\n",
    "\n",
    "output = tf.nn.leaky_relu( tf.matmul( layer_4, W_tf_4 ) + b_tf_4 )\n",
    "\n",
    "\n",
    "\n",
    "\n",
    "cross_entropy = tf.reduce_mean( tf.nn.softmax_cross_entropy_with_logits_v2( logits = output, labels = y_tf ) )\n",
    "\n",
    "\n",
    "\n",
    "\n",
    "gd = tf.train.GradientDescentOptimizer( 0.0001 ).minimize( cross_entropy )\n",
    "\n",
    "\n",
    "\n",
    "hit = tf.equal( tf.argmax( output, 1 ), tf.argmax( y_tf, 1 ) )\n",
    "\n",
    "\n",
    "\n",
    "accuracy = 100 * tf.reduce_mean( tf.cast( hit, tf.float32 ) )"
   ]
  },
  {
   "cell_type": "code",
   "execution_count": 8,
   "metadata": {},
   "outputs": [],
   "source": [
    "sess = tf.Session()\n",
    "\n",
    "\n",
    "\n",
    "\n",
    "\n",
    "progress_train = []\n",
    "\n",
    "progress_train_current = []\n",
    "\n",
    "progress_test = []\n",
    " \n",
    "    \n",
    "    \n",
    "    \n",
    "    \n",
    "sess.run( tf.global_variables_initializer() )\n",
    "\n",
    "\n",
    "\n",
    "\n",
    "\n",
    "\n",
    "for i in range( 50000 ):\n",
    "                \n",
    "    random_integers = np.random.choice( range( 60000 ), 100, replace = False )\n",
    "                \n",
    "    local_x = train_x[ random_integers, : ]\n",
    "    \n",
    "    local_y = train_y[ random_integers, : ]\n",
    "        \n",
    "    sess.run( gd, feed_dict = { x_tf : local_x, y_tf : local_y } )\n",
    "        \n",
    "    progress_train.append( sess.run( accuracy, feed_dict = { x_tf : train_x, y_tf : train_y } ) )\n",
    "        \n",
    "    progress_train_current.append( sess.run( accuracy, feed_dict = { x_tf : local_x, y_tf : local_y } ) )\n",
    "        \n",
    "    progress_test.append( sess.run( accuracy, feed_dict = { x_tf : test_x, y_tf : test_y } ) )"
   ]
  },
  {
   "cell_type": "code",
   "execution_count": 9,
   "metadata": {},
   "outputs": [],
   "source": [
    "sess.close()"
   ]
  },
  {
   "cell_type": "code",
   "execution_count": 10,
   "metadata": {},
   "outputs": [
    {
     "data": {
      "text/plain": [
       "Text(0, 0.5, 'Accuracy (%)')"
      ]
     },
     "execution_count": 10,
     "metadata": {},
     "output_type": "execute_result"
    },
    {
     "data": {
      "image/png": "[encoded data removed]",
      "text/plain": [
       "<Figure size 432x288 with 1 Axes>"
      ]
     },
     "metadata": {
      "needs_background": "light"
     },
     "output_type": "display_data"
    }
   ],
   "source": [
    "plt.plot( progress_train_current, label = 'Accuracy on current Training Set' )\n",
    "\n",
    "plt.plot( progress_train, label = 'Accuracy on complete Training Set' )\n",
    "\n",
    "plt.plot( progress_test, label = 'Accuracy on Test Set' )\n",
    "\n",
    "plt.legend( loc = 'best' )\n",
    "\n",
    "plt.xlabel( 'Iterations (-)' )\n",
    "\n",
    "plt.ylabel( 'Accuracy (%)' )"
   ]
  },
  {
   "cell_type": "code",
   "execution_count": 11,
   "metadata": {},
   "outputs": [
    {
     "data": {
      "text/plain": [
       "Text(0, 0.5, 'Accuracy on Test Set (%)')"
      ]
     },
     "execution_count": 11,
     "metadata": {},
     "output_type": "execute_result"
    },
    {
     "data": {
      "image/png": "[encoded data removed]",
      "text/plain": [
       "<Figure size 432x288 with 1 Axes>"
      ]
     },
     "metadata": {
      "needs_background": "light"
     },
     "output_type": "display_data"
    }
   ],
   "source": [
    "plt.plot( range( 10000, 50000 ), progress_test[ 10000 : 50000 ] )\n",
    "\n",
    "plt.xlabel( \"Iteration (-)\" )\n",
    "\n",
    "plt.ylabel( \"Accuracy on Test Set (%)\" )"
   ]
  },
  {
   "cell_type": "markdown",
   "metadata": {},
   "source": [
    "When we compare the performance of this model with the performance of the model from [lesson 0016](https://github.com/Mathhead/Lessons-in-Machine-Learning/blob/master/lesson_0016_mnist_classification_deep_neural_network_2.ipynb), we notice, that this model performs slightly worse than the model from [lesson 0016](https://github.com/Mathhead/Lessons-in-Machine-Learning/blob/master/lesson_0016_mnist_classification_deep_neural_network_2.ipynb).<br>\n",
    "Since the performance of this model on the training set is already nearly perfect, this model cannot improve anymore.<br>\n",
    "Therefore, we realize, that adding this additional layer of $256$ nodes did not improve the performance of the model.<br>\n",
    "For now, we must conclude, that the model from [lesson 0016](https://github.com/Mathhead/Lessons-in-Machine-Learning/blob/master/lesson_0016_mnist_classification_deep_neural_network_2.ipynb) is the best model we can train using a normal deep neural network architecture. Therefore<br>\n",
    "Class dismissed."
   ]
  }
 ],
 "metadata": {
  "kernelspec": {
   "display_name": "Python 3",
   "language": "python",
   "name": "python3"
  },
  "language_info": {
   "codemirror_mode": {
    "name": "ipython",
    "version": 3
   },
   "file_extension": ".py",
   "mimetype": "text/x-python",
   "name": "python",
   "nbconvert_exporter": "python",
   "pygments_lexer": "ipython3",
   "version": "3.7.3"
  }
 },
 "nbformat": 4,
 "nbformat_minor": 2
}
