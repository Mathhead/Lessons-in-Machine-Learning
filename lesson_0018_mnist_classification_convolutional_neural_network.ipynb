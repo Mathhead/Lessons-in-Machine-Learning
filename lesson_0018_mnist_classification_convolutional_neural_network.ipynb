{
 "cells": [
  {
   "cell_type": "markdown",
   "metadata": {},
   "source": [
    "# Lesson 0018 - MNIST Classification Convolutional Neural Network\n",
    "In lessons [0014](https://github.com/Mathhead/Lessons-in-Machine-Learning/blob/master/lesson_0014_mnist_classification_neural_network.ipynb), [0015](https://github.com/Mathhead/Lessons-in-Machine-Learning/blob/master/lesson_0015_mnist_classification_deep_neural_network.ipynb), [0016](https://github.com/Mathhead/Lessons-in-Machine-Learning/blob/master/lesson_0016_mnist_classification_deep_neural_network_2.ipynb) and [0017](https://github.com/Mathhead/Lessons-in-Machine-Learning/blob/master/lesson_0017_mnist_classification_deep_neural_network_3.ipynb) we approached the task of classifying the MNIST data set with neural networks of varying depth.<br>\n",
    "Since we realized in the last lesson, that we cannot perform better than in [lesson 0016](https://github.com/Mathhead/Lessons-in-Machine-Learning/blob/master/lesson_0016_mnist_classification_deep_neural_network_2.ipynb) using the standard deep neural network approach, we now turn to [convolutional neural networks](https://en.wikipedia.org/wiki/Convolutional_neural_network).<br>\n",
    "We start by stealing the code from [lesson 0014](https://github.com/Mathhead/Lessons-in-Machine-Learning/blob/master/lesson_0014_mnist_classification_neural_network.ipynb) to prepare the data. Please consider, the in [lesson 0014](https://github.com/Mathhead/Lessons-in-Machine-Learning/blob/master/lesson_0014_mnist_classification_neural_network.ipynb) the image data were flattened, whereas for the convolutional neural networks, we actually keep the image format."
   ]
  },
  {
   "cell_type": "code",
   "execution_count": 1,
   "metadata": {},
   "outputs": [
    {
     "name": "stdout",
     "output_type": "stream",
     "text": [
      "1.13.1\n"
     ]
    }
   ],
   "source": [
    "import tensorflow as tf\n",
    "\n",
    "tf.set_random_seed( 1234567890 )\n",
    "\n",
    "print( tf.__version__ )"
   ]
  },
  {
   "cell_type": "code",
   "execution_count": 2,
   "metadata": {},
   "outputs": [],
   "source": [
    "( train_x, train_y ),( test_x, test_y ) = tf.keras.datasets.mnist.load_data()"
   ]
  },
  {
   "cell_type": "code",
   "execution_count": 3,
   "metadata": {},
   "outputs": [
    {
     "name": "stdout",
     "output_type": "stream",
     "text": [
      "1.16.2\n"
     ]
    }
   ],
   "source": [
    "import numpy as np\n",
    "\n",
    "np.random.seed( 1234567890 )\n",
    "\n",
    "print( np.__version__ )"
   ]
  },
  {
   "cell_type": "code",
   "execution_count": 4,
   "metadata": {},
   "outputs": [
    {
     "name": "stdout",
     "output_type": "stream",
     "text": [
      "3.0.3\n"
     ]
    }
   ],
   "source": [
    "import matplotlib\n",
    "import matplotlib.pyplot as plt\n",
    "\n",
    "print( matplotlib.__version__ )"
   ]
  },
  {
   "cell_type": "code",
   "execution_count": 5,
   "metadata": {},
   "outputs": [],
   "source": [
    "mu = np.mean( train_x )\n",
    "\n",
    "sigma = np.std( train_x )\n",
    "\n",
    "\n",
    "\n",
    "train_x = ( train_x - mu ) / sigma\n",
    "\n",
    "test_x = ( test_x - mu ) / sigma"
   ]
  },
  {
   "cell_type": "code",
   "execution_count": 6,
   "metadata": {},
   "outputs": [],
   "source": [
    "train_y_2 = np.zeros( shape = [ 60000, 10 ] )\n",
    "\n",
    "test_y_2 = np.zeros( shape = [ 10000, 10 ] )\n",
    "\n",
    "\n",
    "\n",
    "\n",
    "for i in range( 60000 ):\n",
    "    \n",
    "    train_y_2[ i, train_y[ i ] ] = 1.0\n",
    "    \n",
    "    \n",
    "for i in range( 10000 ):\n",
    "    \n",
    "    test_y_2[ i, test_y[ i ] ] = 1.0\n",
    "    \n",
    "\n",
    "\n",
    "\n",
    "\n",
    "train_y = train_y_2\n",
    "\n",
    "test_y = test_y_2"
   ]
  },
  {
   "cell_type": "markdown",
   "metadata": {},
   "source": [
    "Now that we have prepared the data, we start with considering, what convolutional neural networks actually are.<br>\n",
    "The basic idea of a convolutional neural network is to apply one filter to the data.<br>\n",
    "In our case, the input data are images, therefore it is safe to assume, that nearby data points are more dependent on each each other than data points, that are far apart.<br>\n",
    "Therefore, we can create a filter that considers this: let $I_{i,j}$ be the pixel information a location $\\left(i,j\\right)$, then an image might look like $\\left(\\begin{array}{ccccc}I_{1,1}&I_{1,2}&I_{1,3}&I_{1,4}&\\dots\\\\I_{2,1}&I_{2,2}&I_{2,3}&I_{2,4}&\\dots\\\\I_{3,1}&I_{3,2}&I_{3,3}&I_{3,4}&\\dots\\\\I_{4,1}&I_{4,2}&I_{4,3}&I_{4,4}&\\dots\\\\\\vdots&\\vdots&\\vdots&\\vdots&\\vdots\\end{array}\\right)$, then a filter might look like $\\left(\\begin{array}{ccc}F_{1,1}&F_{1,2}&F_{1,3}\\\\F_{2,1}&F_{2,2}&F_{2,3}\\\\F_{3,1}&F_{3,2}&F_{3,3}\\end{array}\\right)$ where $F_{i,j}$ is the filter information at $\\left(i,j\\right)$. We apply this filter by multiplying the information in the image at a certain position with the filter at a certain position and then sum over the invdividual products. This means $result_{x,y}=\\sum_{i=1}^{F_{i}}\\sum_{j=1}^{F_{j}}I_{x+i-1,y+j-1}F_{i,j}$. Here $x$ and $y$ denote the the starting coordinates in the image where we begin to apply the filter. $F_{i}$ is the filter size in the vertical dimension, and $F_{j}$ is the filter size in the horizontal dimension.<br>\n",
    "For the choice of $x$ and $y$ exist various strategies.<br> \n",
    "__Full Padding__ means, we choose $x$ and $y$ in a fashion, so that every pixel of the filter is applied to every pixel in the image. Therefore __Full Padding__ results in a bigger image. Consider the case, where we apply a $3*3$ filter to an image. If we want to apply $F_{3,3}$ to $I_{1,1}$, we have to choose $x=y=-1$. This means, for __Full Padding__, we map a $n*n$ image to a $\\left(n+2\\right)*\\left(n+2\\right)$ image, if we apply a $3*3$ filter.<br>\n",
    "__Same Padding__ means, that we choose $x$ and $y$ in a fashion, so that the resulting image is again $n*n$.<br>\n",
    "In __Valid Padding__ we only consider computations with existing pixels, therefore applying a $3*3$ filter to a $n*n$ image results in a $\\left(n-2\\right)*\\left(n-2\\right)$ image.<br>\n",
    "This raises the question how to deal with undefined pixel which appear in __Full Padding__ or __Same Padding__. There are two strategies: one is to assume, that the pixel values outside the image are all $0$. The other strategy is to copy the information of the pixels that are the border of the image.<br>\n",
    "Now that we have introduced the filter, let us think about how to apply it. We might start at $\\left(x,y\\right)=\\left(1,1\\right)$, then continue at $\\left(x,y\\right)=\\left(1,2\\right)$ and so on until we reached $\\left(x,y\\right)=\\left(1,n\\right)$. Then we might continue with $\\left(x,y\\right)=\\left(2,1\\right)$. This gliding uses __strides__ of size $\\left(1,1\\right)$. We might define other strides like $\\left(1,5\\right)$.<br>\n",
    "__Max Pooling__ is the idea of considering an array of pixel, and then choosing only the greatest of these pixels. If the area considered is greater than $1$ pixel, this leads to a reduction of the image size while maintining the greatest values.<br>\n",
    "Now we start with implementing the convolutional neural network. We can use [conv2d](https://www.tensorflow.org/api_docs/python/tf/layers/conv2d) to define the convolutional layer and [max_pooling2d](https://www.tensorflow.org/api_docs/python/tf/layers/max_pooling2d) for __Max Pooling__.<br>\n",
    "We create our convolutional net the following way: first, there is a convolutional layer with $32$ filters of size $5*5$ using __valid padding__. This means, that the $28*28$ input image is mapped to $32$ $24*24$ images. Then, we apply __Max Pooling__ of size $2$ and __strides__ $\\left(2,2\\right)$, thereby, we map the $32$ $24*24$ images to $32$ $12*12$ images. Then, we do exactly the same again. Thereby, we reduce the image to $32$ $4*4$ images. We transform these data into a flat layer using [flatten](https://www.tensorflow.org/api_docs/python/tf/layers/flatten).<br>\n",
    "Using code from [lesson 0014](https://github.com/Mathhead/Lessons-in-Machine-Learning/blob/master/lesson_0014_mnist_classification_neural_network.ipynb), we feed this flattened data into the output layer.<br>\n",
    "We train this model for $100000$ iterations with a learning rate of $0.001$ on $100$ randomly drawn training data."
   ]
  },
  {
   "cell_type": "code",
   "execution_count": 7,
   "metadata": {},
   "outputs": [
    {
     "name": "stdout",
     "output_type": "stream",
     "text": [
      "WARNING:tensorflow:From <ipython-input-7-824784afc611>:8: conv2d (from tensorflow.python.layers.convolutional) is deprecated and will be removed in a future version.\n",
      "Instructions for updating:\n",
      "Use keras.layers.conv2d instead.\n",
      "WARNING:tensorflow:From C:\\Users\\rhopi\\Anaconda3\\lib\\site-packages\\tensorflow\\python\\framework\\op_def_library.py:263: colocate_with (from tensorflow.python.framework.ops) is deprecated and will be removed in a future version.\n",
      "Instructions for updating:\n",
      "Colocations handled automatically by placer.\n",
      "WARNING:tensorflow:From <ipython-input-7-824784afc611>:10: max_pooling2d (from tensorflow.python.layers.pooling) is deprecated and will be removed in a future version.\n",
      "Instructions for updating:\n",
      "Use keras.layers.max_pooling2d instead.\n",
      "WARNING:tensorflow:From <ipython-input-7-824784afc611>:16: flatten (from tensorflow.python.layers.core) is deprecated and will be removed in a future version.\n",
      "Instructions for updating:\n",
      "Use keras.layers.flatten instead.\n"
     ]
    }
   ],
   "source": [
    "x_tf = tf.placeholder( tf.float32, shape = [ None, 28, 28, 1 ] )\n",
    "\n",
    "y_tf = tf.placeholder( tf.float32, shape = [ None, 10 ] )\n",
    "\n",
    "\n",
    "\n",
    "\n",
    "conv1 = tf.layers.conv2d( x_tf, filters = 32, kernel_size = [ 5, 5 ] )\n",
    "\n",
    "max1 = tf.layers.max_pooling2d( conv1, pool_size = [ 2, 2 ], strides = [ 2, 2 ] )\n",
    "\n",
    "conv2 = tf.layers.conv2d( max1, filters = 32, kernel_size = [ 5, 5 ] )\n",
    "\n",
    "max2 = tf.layers.max_pooling2d( conv2, pool_size = [ 2, 2 ], strides = [ 2, 2 ])\n",
    "\n",
    "flat = tf.layers.flatten( max2 )\n",
    "\n",
    "\n",
    "\n",
    "\n",
    "\n",
    "W_tf = tf.Variable( tf.truncated_normal( [ 512, 10 ] ) )\n",
    "\n",
    "b_tf = tf.Variable( tf.truncated_normal( [ 10 ] ) )\n",
    "\n",
    "output = tf.nn.leaky_relu( tf.matmul( flat, W_tf ) + b_tf )\n",
    "\n",
    "\n",
    "\n",
    "\n",
    "cross_entropy = tf.reduce_mean( tf.nn.softmax_cross_entropy_with_logits_v2( logits = output, labels = y_tf ) )\n",
    "\n",
    "\n",
    "\n",
    "\n",
    "gd = tf.train.GradientDescentOptimizer( 0.001 ).minimize( cross_entropy )\n",
    "\n",
    "\n",
    "\n",
    "hit = tf.equal( tf.argmax( output, 1 ), tf.argmax( y_tf, 1 ) )\n",
    "\n",
    "\n",
    "\n",
    "accuracy = 100 * tf.reduce_mean( tf.cast( hit, tf.float32 ) )"
   ]
  },
  {
   "cell_type": "markdown",
   "metadata": {},
   "source": [
    "In order to deliver data that are suitable with respect to their formating, we reshape our data using [reshape](https://docs.scipy.org/doc/numpy/reference/generated/numpy.reshape.html)."
   ]
  },
  {
   "cell_type": "code",
   "execution_count": 8,
   "metadata": {},
   "outputs": [],
   "source": [
    "sess = tf.Session()\n",
    "\n",
    "progress_train = []\n",
    "\n",
    "progress_train_current = []\n",
    "\n",
    "progress_test = []\n",
    "\n",
    "\n",
    "\n",
    "\n",
    "train_x_r = np.reshape( train_x, newshape = [ 60000, 28, 28, 1 ] )\n",
    "\n",
    "test_x_r = np.reshape( test_x, newshape = [ 10000, 28, 28, 1 ] )\n",
    " \n",
    "    \n",
    "    \n",
    "sess.run( tf.global_variables_initializer() )\n",
    "        \n",
    "for i in range( 100000 ):\n",
    "                \n",
    "    random_integers = np.random.choice( range( 60000 ), 100, replace = False )\n",
    "                \n",
    "    local_x = train_x[ random_integers, :, : ]\n",
    "    \n",
    "    local_y = train_y[ random_integers, : ]\n",
    "    \n",
    "    local_x = np.reshape( local_x, newshape = [ 100,28, 28, 1 ] )\n",
    "        \n",
    "    sess.run( gd, feed_dict = { x_tf : local_x, y_tf : local_y } )\n",
    "        \n",
    "    progress_train.append( sess.run( accuracy, feed_dict = { x_tf : train_x_r, y_tf : train_y } ) )\n",
    "        \n",
    "    progress_train_current.append( sess.run( accuracy, feed_dict = { x_tf : local_x, y_tf : local_y } ) )\n",
    "        \n",
    "    progress_test.append( sess.run( accuracy, feed_dict = { x_tf : test_x_r, y_tf : test_y } ) )"
   ]
  },
  {
   "cell_type": "code",
   "execution_count": 9,
   "metadata": {},
   "outputs": [
    {
     "data": {
      "text/plain": [
       "Text(0, 0.5, 'Accuracy (%)')"
      ]
     },
     "execution_count": 9,
     "metadata": {},
     "output_type": "execute_result"
    },
    {
     "data": {
      "image/png": "[encoded data removed]",
      "text/plain": [
       "<Figure size 432x288 with 1 Axes>"
      ]
     },
     "metadata": {
      "needs_background": "light"
     },
     "output_type": "display_data"
    }
   ],
   "source": [
    "plt.plot( progress_train_current, label = 'Accuracy on current Training Set' )\n",
    "\n",
    "plt.plot( progress_train, label = 'Accuracy on complete Training Set' )\n",
    "\n",
    "plt.plot( progress_test, label = 'Accuracy on Test Set' )\n",
    "\n",
    "plt.legend( loc = 'best' )\n",
    "\n",
    "plt.xlabel( 'Iterations (-)' )\n",
    "\n",
    "plt.ylabel( 'Accuracy (%)' )"
   ]
  },
  {
   "cell_type": "code",
   "execution_count": 10,
   "metadata": {},
   "outputs": [
    {
     "data": {
      "text/plain": [
       "Text(0, 0.5, 'Accuracy (%)')"
      ]
     },
     "execution_count": 10,
     "metadata": {},
     "output_type": "execute_result"
    },
    {
     "data": {
      "image/png": "[encoded data removed]",
      "text/plain": [
       "<Figure size 432x288 with 1 Axes>"
      ]
     },
     "metadata": {
      "needs_background": "light"
     },
     "output_type": "display_data"
    }
   ],
   "source": [
    "plt.plot( range( 10000, 100000), progress_train_current[ 10000 : 100000 ], label = 'Accuracy on current Training Set' )\n",
    "\n",
    "plt.plot( range( 10000, 100000), progress_train[ 10000 : 100000 ], label = 'Accuracy on complete Training Set' )\n",
    "\n",
    "plt.plot( range( 10000, 100000), progress_test[ 10000 : 100000 ], label = 'Accuracy on Test Set' )\n",
    "\n",
    "plt.legend( loc = 'best' )\n",
    "\n",
    "plt.xlabel( 'Iterations (-)' )\n",
    "\n",
    "plt.ylabel( 'Accuracy (%)' )"
   ]
  },
  {
   "cell_type": "code",
   "execution_count": 11,
   "metadata": {},
   "outputs": [
    {
     "data": {
      "text/plain": [
       "Text(0, 0.5, 'Accuracy (%)')"
      ]
     },
     "execution_count": 11,
     "metadata": {},
     "output_type": "execute_result"
    },
    {
     "data": {
      "image/png": "[encoded data removed]",
      "text/plain": [
       "<Figure size 432x288 with 1 Axes>"
      ]
     },
     "metadata": {
      "needs_background": "light"
     },
     "output_type": "display_data"
    }
   ],
   "source": [
    "plt.plot( range( 10000,100000), progress_test[ 10000 : 100000 ], label = 'Accuracy on Test Set' )\n",
    "\n",
    "plt.legend( loc = 'best' )\n",
    "\n",
    "plt.xlabel( 'Iterations (-)' )\n",
    "\n",
    "plt.ylabel( 'Accuracy (%)' )"
   ]
  },
  {
   "cell_type": "markdown",
   "metadata": {},
   "source": [
    "We steal code from [lesson 0015](https://github.com/Mathhead/Lessons-in-Machine-Learning/blob/master/lesson_0015_mnist_classification_deep_neural_network.ipynb) to save the model:"
   ]
  },
  {
   "cell_type": "code",
   "execution_count": 12,
   "metadata": {},
   "outputs": [
    {
     "data": {
      "text/plain": [
       "'C:\\\\Users\\\\rhopi\\\\OneDrive\\\\Desktop\\\\python dev\\\\github\\\\lesson_0018\\\\convolutional_neural_network_32_32'"
      ]
     },
     "execution_count": 12,
     "metadata": {},
     "output_type": "execute_result"
    }
   ],
   "source": [
    "saver = tf.train.Saver()\n",
    "\n",
    "saver.save( sess, \n",
    "           \"C:\\\\Users\\\\rhopi\\\\OneDrive\\\\Desktop\\\\python dev\\\\github\\\\lesson_0018\\\\convolutional_neural_network_32_32\" )"
   ]
  },
  {
   "cell_type": "code",
   "execution_count": 13,
   "metadata": {},
   "outputs": [],
   "source": [
    "sess.close()"
   ]
  },
  {
   "cell_type": "markdown",
   "metadata": {},
   "source": [
    "We notice, that after iteration $70000$, the performance on the test set hardly improves.<br>\n",
    "Also, the performance on the complete training set approaches $100\\%$, so we assume, that this model can hardly perform any better.<br>\n",
    "We also notice, that this model takes less space on the harddisk than the model from [lesson 0015](https://github.com/Mathhead/Lessons-in-Machine-Learning/blob/master/lesson_0015_mnist_classification_deep_neural_network.ipynb). This is due to the fact, that there, we only considered fully connected layers where each node is connected to every node of the following layer which results in many weights. In the case of the convolutional neural network, we have only one fully connected layer at the end, and before that, we only have $64$ filters with $25$ weights each.<br>\n",
    "Class dismissed."
   ]
  },
  {
   "cell_type": "code",
   "execution_count": null,
   "metadata": {},
   "outputs": [],
   "source": []
  }
 ],
 "metadata": {
  "kernelspec": {
   "display_name": "Python 3",
   "language": "python",
   "name": "python3"
  },
  "language_info": {
   "codemirror_mode": {
    "name": "ipython",
    "version": 3
   },
   "file_extension": ".py",
   "mimetype": "text/x-python",
   "name": "python",
   "nbconvert_exporter": "python",
   "pygments_lexer": "ipython3",
   "version": "3.7.3"
  }
 },
 "nbformat": 4,
 "nbformat_minor": 2
}
