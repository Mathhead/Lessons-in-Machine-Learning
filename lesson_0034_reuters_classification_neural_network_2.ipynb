{
 "cells": [
  {
   "cell_type": "markdown",
   "metadata": {},
   "source": [
    "# Lesson 0034 - Reuters Classification Neural Network (II)\n",
    "In this lesson, we extend the approach from [lesson 0033](https://github.com/Mathhead/Lessons-in-Machine-Learning/blob/master/lesson_0033_reuters_classification_neural_network.ipynb): instead of learning a high dimensional model, we employ an embedding in order to project the high dimensional space of words down to a low dimensional space.<br>\n",
    "We start by stealing code from [lesson 0033](https://github.com/Mathhead/Lessons-in-Machine-Learning/blob/master/lesson_0033_reuters_classification_neural_network.ipynb):"
   ]
  },
  {
   "cell_type": "code",
   "execution_count": 1,
   "metadata": {},
   "outputs": [
    {
     "name": "stdout",
     "output_type": "stream",
     "text": [
      "1.13.1\n"
     ]
    }
   ],
   "source": [
    "import tensorflow as tf\n",
    "\n",
    "tf.set_random_seed( 1234567890 )\n",
    "\n",
    "print( tf.__version__ )"
   ]
  },
  {
   "cell_type": "code",
   "execution_count": 2,
   "metadata": {},
   "outputs": [],
   "source": [
    "( train_x, train_y ),( test_x, test_y ) = tf.keras.datasets.reuters.load_data( num_words = 10000 )"
   ]
  },
  {
   "cell_type": "code",
   "execution_count": 3,
   "metadata": {},
   "outputs": [
    {
     "name": "stdout",
     "output_type": "stream",
     "text": [
      "1.16.2\n"
     ]
    }
   ],
   "source": [
    "import numpy as np\n",
    "\n",
    "np.random.seed( 1234567890 )\n",
    "\n",
    "print( np.__version__ )"
   ]
  },
  {
   "cell_type": "markdown",
   "metadata": {},
   "source": [
    "Next, we transform the training and the test data.<br>\n",
    "First, we find out, how long the sequences are, and then, we cut the sequences to a length, so that $30\\%$ of the sequences are shorter than this maximum length. Our reasoning for this is, that we assume, that the beginning of a given text contains a lot of information about the subject. Also, we restrict the dimensionality of our problem this way. This way, we limit the size of the sequences, but we do not lose too much information. Then, we fill those sequences, that are shorter, with $0$s.<br>\n",
    "We employ [round](https://docs.scipy.org/doc/numpy-1.13.0/reference/generated/numpy.round_.html) for rounding and [minimum](https://docs.scipy.org/doc/numpy/reference/generated/numpy.minimum.html) to find the maximum length we can write.<br>\n",
    "We reduce the maximum length of the sequences because we cut the first $3$ values because these acutally are not part of the text as we learnt in [lesson 0033](https://github.com/Mathhead/Lessons-in-Machine-Learning/blob/master/lesson_0033_reuters_classification_neural_network.ipynb)."
   ]
  },
  {
   "cell_type": "code",
   "execution_count": 4,
   "metadata": {},
   "outputs": [],
   "source": [
    "length = np.zeros( shape = [ len( train_x ) ] )\n",
    "\n",
    "                            \n",
    "    \n",
    "                            \n",
    "for i in range( len( train_x ) ):\n",
    "    \n",
    "    length[ i ] = len( train_x[ i ] )\n",
    "        \n",
    "\n",
    "\n",
    "        \n",
    "length = np.sort( length )\n",
    "                            \n",
    "                        \n",
    "        \n",
    "        \n",
    "max_length = np.int32( length[ np.int32( np.round( 0.3 * len( length ) ) ) ] - 3 )\n",
    "\n",
    "\n",
    "\n",
    "train_x_encoded = np.zeros( shape = [ len( train_x ), max_length ] )\n",
    "\n",
    "test_x_encoded = np.zeros( shape = [ len( test_x ), max_length ] )\n",
    "\n",
    "train_y_encoded = np.zeros( shape = [ len( train_x ), 46 ] )\n",
    "\n",
    "test_y_encoded = np.zeros( shape = [ len( test_x ), 46 ] )\n",
    "\n",
    "\n",
    "\n",
    "\n",
    "for i in range( len( train_x ) ):\n",
    "    \n",
    "    current_max = np.int32( np.minimum( max_length + 3, len( train_x[ i ] ) ) )\n",
    "    \n",
    "    for j in range( 3, current_max ):\n",
    "        \n",
    "        train_x_encoded[ i, j - 3 ] = train_x[ i ][ j ]\n",
    "        \n",
    "for i in range( len( test_x ) ):\n",
    "    \n",
    "    current_max = np.int32( np.minimum( max_length + 3, len( test_x[ i ] ) ) )\n",
    "    \n",
    "    for j in range( 3, current_max ):\n",
    "        \n",
    "        test_x_encoded[ i, j - 3 ] = test_x[ i ][ j ]\n",
    "        \n",
    "for i in range( len( train_x ) ):\n",
    "    \n",
    "    train_y_encoded[ i, train_y[ i ] ] = 1\n",
    "               \n",
    "for i in range( len( test_x ) ):\n",
    "    \n",
    "    test_y_encoded[ i, test_y[ i ] ] = 1\n",
    "    \n",
    "    \n",
    "    \n",
    "    \n",
    "train_x = train_x_encoded\n",
    "\n",
    "train_y = train_y_encoded\n",
    "\n",
    "test_x = test_x_encoded\n",
    "\n",
    "test_y = test_y_encoded"
   ]
  },
  {
   "cell_type": "code",
   "execution_count": 5,
   "metadata": {},
   "outputs": [
    {
     "name": "stdout",
     "output_type": "stream",
     "text": [
      "2.2.4\n"
     ]
    },
    {
     "name": "stderr",
     "output_type": "stream",
     "text": [
      "Using TensorFlow backend.\n"
     ]
    }
   ],
   "source": [
    "import keras\n",
    "from keras import models\n",
    "from keras import layers\n",
    "\n",
    "print( keras.__version__ )"
   ]
  },
  {
   "cell_type": "markdown",
   "metadata": {},
   "source": [
    "Now, we build the model.<br>\n",
    "We employ [Embedding](https://keras.io/layers/embeddings/) to map the $10000$ dimensional word space vector to a $2$ dimensional vector. We then employ [Flatten](https://keras.io/layers/core/) to transform the embedding tensor into a column tensor."
   ]
  },
  {
   "cell_type": "code",
   "execution_count": 6,
   "metadata": {},
   "outputs": [
    {
     "name": "stdout",
     "output_type": "stream",
     "text": [
      "WARNING:tensorflow:From C:\\Users\\rhopi\\Anaconda3\\lib\\site-packages\\tensorflow\\python\\framework\\op_def_library.py:263: colocate_with (from tensorflow.python.framework.ops) is deprecated and will be removed in a future version.\n",
      "Instructions for updating:\n",
      "Colocations handled automatically by placer.\n"
     ]
    },
    {
     "name": "stderr",
     "output_type": "stream",
     "text": [
      "C:\\Users\\rhopi\\Anaconda3\\lib\\site-packages\\keras\\activations.py:211: UserWarning: Do not pass a layer instance (such as LeakyReLU) as the activation argument of another layer. Instead, advanced activation layers should be used just like any other layer in a model.\n",
      "  identifier=identifier.__class__.__name__))\n"
     ]
    }
   ],
   "source": [
    "network = models.Sequential()\n",
    "\n",
    "network.add( layers.Embedding( 10000, 2, input_length = max_length ) )\n",
    "\n",
    "network.add( layers.Flatten() )\n",
    "\n",
    "network.add( layers.Dense( 512, activation = layers.LeakyReLU( alpha = 0.3 ) ) )\n",
    "\n",
    "network.add( layers.Dense( 46, activation = \"softmax\" ) )\n",
    "\n",
    "network.compile( optimizer = keras.optimizers.SGD( lr = 0.1, momentum = 0.0, decay = 0.0, nesterov = False ),\n",
    "               loss = \"categorical_crossentropy\", metrics = [ \"accuracy\" ] )"
   ]
  },
  {
   "cell_type": "code",
   "execution_count": 7,
   "metadata": {},
   "outputs": [
    {
     "name": "stdout",
     "output_type": "stream",
     "text": [
      "WARNING:tensorflow:From C:\\Users\\rhopi\\Anaconda3\\lib\\site-packages\\tensorflow\\python\\ops\\math_ops.py:3066: to_int32 (from tensorflow.python.ops.math_ops) is deprecated and will be removed in a future version.\n",
      "Instructions for updating:\n",
      "Use tf.cast instead.\n",
      "Train on 8982 samples, validate on 2246 samples\n",
      "Epoch 1/100\n",
      "8982/8982 [==============================] - 2s 268us/step - loss: 2.7225 - acc: 0.3592 - val_loss: 2.2677 - val_acc: 0.4452\n",
      "Epoch 2/100\n",
      "8982/8982 [==============================] - 0s 31us/step - loss: 2.1462 - acc: 0.4664 - val_loss: 2.0900 - val_acc: 0.4866\n",
      "Epoch 3/100\n",
      "8982/8982 [==============================] - 0s 30us/step - loss: 2.0484 - acc: 0.4886 - val_loss: 2.0497 - val_acc: 0.5058\n",
      "Epoch 4/100\n",
      "8982/8982 [==============================] - 0s 30us/step - loss: 2.0053 - acc: 0.5052 - val_loss: 2.0154 - val_acc: 0.5129\n",
      "Epoch 5/100\n",
      "8982/8982 [==============================] - 0s 31us/step - loss: 1.9576 - acc: 0.5174 - val_loss: 1.9675 - val_acc: 0.5232\n",
      "Epoch 6/100\n",
      "8982/8982 [==============================] - 0s 32us/step - loss: 1.8930 - acc: 0.5247 - val_loss: 1.8959 - val_acc: 0.5312\n",
      "Epoch 7/100\n",
      "8982/8982 [==============================] - 0s 31us/step - loss: 1.8136 - acc: 0.5333 - val_loss: 1.8248 - val_acc: 0.5436\n",
      "Epoch 8/100\n",
      "8982/8982 [==============================] - 0s 32us/step - loss: 1.7442 - acc: 0.5647 - val_loss: 1.7768 - val_acc: 0.5677\n",
      "Epoch 9/100\n",
      "8982/8982 [==============================] - 0s 32us/step - loss: 1.6941 - acc: 0.5829 - val_loss: 1.7497 - val_acc: 0.5761\n",
      "Epoch 10/100\n",
      "8982/8982 [==============================] - 0s 32us/step - loss: 1.6559 - acc: 0.5937 - val_loss: 1.7105 - val_acc: 0.5828\n",
      "Epoch 11/100\n",
      "8982/8982 [==============================] - 0s 32us/step - loss: 1.6256 - acc: 0.5978 - val_loss: 1.6938 - val_acc: 0.5833\n",
      "Epoch 12/100\n",
      "8982/8982 [==============================] - 0s 32us/step - loss: 1.6016 - acc: 0.6048 - val_loss: 1.6725 - val_acc: 0.5899\n",
      "Epoch 13/100\n",
      "8982/8982 [==============================] - 0s 32us/step - loss: 1.5791 - acc: 0.6109 - val_loss: 1.6619 - val_acc: 0.5957\n",
      "Epoch 14/100\n",
      "8982/8982 [==============================] - 0s 32us/step - loss: 1.5592 - acc: 0.6168 - val_loss: 1.6466 - val_acc: 0.5988\n",
      "Epoch 15/100\n",
      "8982/8982 [==============================] - 0s 32us/step - loss: 1.5397 - acc: 0.6201 - val_loss: 1.6368 - val_acc: 0.5984\n",
      "Epoch 16/100\n",
      "8982/8982 [==============================] - 0s 31us/step - loss: 1.5214 - acc: 0.6264 - val_loss: 1.6263 - val_acc: 0.6064\n",
      "Epoch 17/100\n",
      "8982/8982 [==============================] - 0s 31us/step - loss: 1.5038 - acc: 0.6323 - val_loss: 1.6139 - val_acc: 0.6037\n",
      "Epoch 18/100\n",
      "8982/8982 [==============================] - 0s 32us/step - loss: 1.4853 - acc: 0.6325 - val_loss: 1.6182 - val_acc: 0.6135\n",
      "Epoch 19/100\n",
      "8982/8982 [==============================] - 0s 32us/step - loss: 1.4696 - acc: 0.6381 - val_loss: 1.6053 - val_acc: 0.6060\n",
      "Epoch 20/100\n",
      "8982/8982 [==============================] - 0s 32us/step - loss: 1.4519 - acc: 0.6415 - val_loss: 1.5985 - val_acc: 0.6171\n",
      "Epoch 21/100\n",
      "8982/8982 [==============================] - 0s 32us/step - loss: 1.4362 - acc: 0.6476 - val_loss: 1.5822 - val_acc: 0.6118\n",
      "Epoch 22/100\n",
      "8982/8982 [==============================] - 0s 31us/step - loss: 1.4202 - acc: 0.6504 - val_loss: 1.5767 - val_acc: 0.6175\n",
      "Epoch 23/100\n",
      "8982/8982 [==============================] - 0s 31us/step - loss: 1.4030 - acc: 0.6516 - val_loss: 1.5682 - val_acc: 0.6180\n",
      "Epoch 24/100\n",
      "8982/8982 [==============================] - 0s 35us/step - loss: 1.3870 - acc: 0.6550 - val_loss: 1.5628 - val_acc: 0.6211\n",
      "Epoch 25/100\n",
      "8982/8982 [==============================] - 0s 32us/step - loss: 1.3714 - acc: 0.6621 - val_loss: 1.5583 - val_acc: 0.6220\n",
      "Epoch 26/100\n",
      "8982/8982 [==============================] - 0s 32us/step - loss: 1.3526 - acc: 0.6663 - val_loss: 1.5468 - val_acc: 0.6229\n",
      "Epoch 27/100\n",
      "8982/8982 [==============================] - 0s 32us/step - loss: 1.3354 - acc: 0.6703 - val_loss: 1.5476 - val_acc: 0.6264\n",
      "Epoch 28/100\n",
      "8982/8982 [==============================] - 0s 31us/step - loss: 1.3175 - acc: 0.6745 - val_loss: 1.5345 - val_acc: 0.6260\n",
      "Epoch 29/100\n",
      "8982/8982 [==============================] - 0s 31us/step - loss: 1.2981 - acc: 0.6787 - val_loss: 1.5339 - val_acc: 0.6313\n",
      "Epoch 30/100\n",
      "8982/8982 [==============================] - 0s 31us/step - loss: 1.2805 - acc: 0.6843 - val_loss: 1.5117 - val_acc: 0.6358\n",
      "Epoch 31/100\n",
      "8982/8982 [==============================] - 0s 34us/step - loss: 1.2607 - acc: 0.6878 - val_loss: 1.5090 - val_acc: 0.6411\n",
      "Epoch 32/100\n",
      "8982/8982 [==============================] - 0s 32us/step - loss: 1.2407 - acc: 0.6933 - val_loss: 1.5004 - val_acc: 0.6389\n",
      "Epoch 33/100\n",
      "8982/8982 [==============================] - 0s 31us/step - loss: 1.2272 - acc: 0.6951 - val_loss: 1.4937 - val_acc: 0.6438\n",
      "Epoch 34/100\n",
      "8982/8982 [==============================] - 0s 33us/step - loss: 1.2088 - acc: 0.7033 - val_loss: 1.4868 - val_acc: 0.6411\n",
      "Epoch 35/100\n",
      "8982/8982 [==============================] - 0s 32us/step - loss: 1.1931 - acc: 0.7063 - val_loss: 1.4853 - val_acc: 0.6443\n",
      "Epoch 36/100\n",
      "8982/8982 [==============================] - 0s 32us/step - loss: 1.1769 - acc: 0.7082 - val_loss: 1.4784 - val_acc: 0.6443\n",
      "Epoch 37/100\n",
      "8982/8982 [==============================] - 0s 32us/step - loss: 1.1618 - acc: 0.7116 - val_loss: 1.4968 - val_acc: 0.6460\n",
      "Epoch 38/100\n",
      "8982/8982 [==============================] - 0s 32us/step - loss: 1.1485 - acc: 0.7158 - val_loss: 1.4668 - val_acc: 0.6518\n",
      "Epoch 39/100\n",
      "8982/8982 [==============================] - 0s 32us/step - loss: 1.1319 - acc: 0.7165 - val_loss: 1.4765 - val_acc: 0.6509\n",
      "Epoch 40/100\n",
      "8982/8982 [==============================] - 0s 32us/step - loss: 1.1207 - acc: 0.7198 - val_loss: 1.4707 - val_acc: 0.6523\n",
      "Epoch 41/100\n",
      "8982/8982 [==============================] - 0s 32us/step - loss: 1.1070 - acc: 0.7231 - val_loss: 1.4639 - val_acc: 0.6545\n",
      "Epoch 42/100\n",
      "8982/8982 [==============================] - 0s 31us/step - loss: 1.0983 - acc: 0.7231 - val_loss: 1.4786 - val_acc: 0.6527\n",
      "Epoch 43/100\n",
      "8982/8982 [==============================] - 0s 32us/step - loss: 1.0888 - acc: 0.7276 - val_loss: 1.4631 - val_acc: 0.6541\n",
      "Epoch 44/100\n",
      "8982/8982 [==============================] - 0s 31us/step - loss: 1.0710 - acc: 0.7307 - val_loss: 1.4669 - val_acc: 0.6563\n",
      "Epoch 45/100\n",
      "8982/8982 [==============================] - 0s 32us/step - loss: 1.0590 - acc: 0.7330 - val_loss: 1.4612 - val_acc: 0.6545\n",
      "Epoch 46/100\n",
      "8982/8982 [==============================] - 0s 32us/step - loss: 1.0457 - acc: 0.7366 - val_loss: 1.4667 - val_acc: 0.6536\n",
      "Epoch 47/100\n",
      "8982/8982 [==============================] - 0s 32us/step - loss: 1.0405 - acc: 0.7380 - val_loss: 1.4755 - val_acc: 0.6549\n",
      "Epoch 48/100\n",
      "8982/8982 [==============================] - 0s 32us/step - loss: 1.0244 - acc: 0.7419 - val_loss: 1.4645 - val_acc: 0.6572\n",
      "Epoch 49/100\n",
      "8982/8982 [==============================] - 0s 32us/step - loss: 1.0128 - acc: 0.7443 - val_loss: 1.4698 - val_acc: 0.6549\n",
      "Epoch 50/100\n",
      "8982/8982 [==============================] - 0s 32us/step - loss: 1.0018 - acc: 0.7457 - val_loss: 1.4635 - val_acc: 0.6549\n",
      "Epoch 51/100\n",
      "8982/8982 [==============================] - 0s 31us/step - loss: 0.9916 - acc: 0.7508 - val_loss: 1.4747 - val_acc: 0.6492\n",
      "Epoch 52/100\n",
      "8982/8982 [==============================] - 0s 32us/step - loss: 0.9855 - acc: 0.7504 - val_loss: 1.5205 - val_acc: 0.6541\n",
      "Epoch 53/100\n",
      "8982/8982 [==============================] - 0s 32us/step - loss: 0.9768 - acc: 0.7543 - val_loss: 1.5155 - val_acc: 0.6532\n",
      "Epoch 54/100\n",
      "8982/8982 [==============================] - 0s 32us/step - loss: 0.9675 - acc: 0.7566 - val_loss: 1.4740 - val_acc: 0.6518\n",
      "Epoch 55/100\n",
      "8982/8982 [==============================] - 0s 32us/step - loss: 0.9530 - acc: 0.7587 - val_loss: 1.4930 - val_acc: 0.6487\n",
      "Epoch 56/100\n",
      "8982/8982 [==============================] - 0s 32us/step - loss: 0.9448 - acc: 0.7604 - val_loss: 1.4825 - val_acc: 0.6523\n",
      "Epoch 57/100\n",
      "8982/8982 [==============================] - 0s 31us/step - loss: 0.9315 - acc: 0.7630 - val_loss: 1.4893 - val_acc: 0.6460\n",
      "Epoch 58/100\n"
     ]
    },
    {
     "name": "stdout",
     "output_type": "stream",
     "text": [
      "8982/8982 [==============================] - 0s 31us/step - loss: 0.9204 - acc: 0.7646 - val_loss: 1.4906 - val_acc: 0.6483\n",
      "Epoch 59/100\n",
      "8982/8982 [==============================] - 0s 31us/step - loss: 0.9174 - acc: 0.7683 - val_loss: 1.4902 - val_acc: 0.6545\n",
      "Epoch 60/100\n",
      "8982/8982 [==============================] - 0s 31us/step - loss: 0.9096 - acc: 0.7707 - val_loss: 1.5108 - val_acc: 0.6492\n",
      "Epoch 61/100\n",
      "8982/8982 [==============================] - 0s 31us/step - loss: 0.8950 - acc: 0.7723 - val_loss: 1.5019 - val_acc: 0.6478\n",
      "Epoch 62/100\n",
      "8982/8982 [==============================] - 0s 31us/step - loss: 0.8856 - acc: 0.7751 - val_loss: 1.5424 - val_acc: 0.6434\n",
      "Epoch 63/100\n",
      "8982/8982 [==============================] - 0s 31us/step - loss: 0.8813 - acc: 0.7754 - val_loss: 1.5148 - val_acc: 0.6523\n",
      "Epoch 64/100\n",
      "8982/8982 [==============================] - 0s 31us/step - loss: 0.8669 - acc: 0.7780 - val_loss: 1.5232 - val_acc: 0.6518\n",
      "Epoch 65/100\n",
      "8982/8982 [==============================] - 0s 31us/step - loss: 0.8631 - acc: 0.7788 - val_loss: 1.5333 - val_acc: 0.6505\n",
      "Epoch 66/100\n",
      "8982/8982 [==============================] - 0s 31us/step - loss: 0.8526 - acc: 0.7833 - val_loss: 1.5335 - val_acc: 0.6545\n",
      "Epoch 67/100\n",
      "8982/8982 [==============================] - 0s 31us/step - loss: 0.8432 - acc: 0.7862 - val_loss: 1.6542 - val_acc: 0.5993\n",
      "Epoch 68/100\n",
      "8982/8982 [==============================] - 0s 31us/step - loss: 0.8400 - acc: 0.7850 - val_loss: 1.5387 - val_acc: 0.6518\n",
      "Epoch 69/100\n",
      "8982/8982 [==============================] - 0s 31us/step - loss: 0.8252 - acc: 0.7882 - val_loss: 1.5502 - val_acc: 0.6474\n",
      "Epoch 70/100\n",
      "8982/8982 [==============================] - 0s 31us/step - loss: 0.8256 - acc: 0.7860 - val_loss: 1.5551 - val_acc: 0.6456\n",
      "Epoch 71/100\n",
      "8982/8982 [==============================] - 0s 31us/step - loss: 0.8111 - acc: 0.7907 - val_loss: 1.5585 - val_acc: 0.6434\n",
      "Epoch 72/100\n",
      "8982/8982 [==============================] - 0s 31us/step - loss: 0.8008 - acc: 0.7898 - val_loss: 1.5689 - val_acc: 0.6447\n",
      "Epoch 73/100\n",
      "8982/8982 [==============================] - 0s 31us/step - loss: 0.7929 - acc: 0.7923 - val_loss: 1.5690 - val_acc: 0.6492\n",
      "Epoch 74/100\n",
      "8982/8982 [==============================] - 0s 31us/step - loss: 0.7889 - acc: 0.7949 - val_loss: 1.5821 - val_acc: 0.6469\n",
      "Epoch 75/100\n",
      "8982/8982 [==============================] - 0s 31us/step - loss: 0.7836 - acc: 0.7936 - val_loss: 1.5855 - val_acc: 0.6451\n",
      "Epoch 76/100\n",
      "8982/8982 [==============================] - 0s 31us/step - loss: 0.7793 - acc: 0.7979 - val_loss: 1.5911 - val_acc: 0.6420\n",
      "Epoch 77/100\n",
      "8982/8982 [==============================] - 0s 31us/step - loss: 0.7791 - acc: 0.7961 - val_loss: 1.6019 - val_acc: 0.6425\n",
      "Epoch 78/100\n",
      "8982/8982 [==============================] - 0s 31us/step - loss: 0.7536 - acc: 0.8017 - val_loss: 1.6020 - val_acc: 0.6407\n",
      "Epoch 79/100\n",
      "8982/8982 [==============================] - 0s 31us/step - loss: 0.7450 - acc: 0.8047 - val_loss: 1.6194 - val_acc: 0.6394\n",
      "Epoch 80/100\n",
      "8982/8982 [==============================] - 0s 31us/step - loss: 0.7337 - acc: 0.8062 - val_loss: 1.6366 - val_acc: 0.6367\n",
      "Epoch 81/100\n",
      "8982/8982 [==============================] - 0s 31us/step - loss: 0.7335 - acc: 0.8066 - val_loss: 1.6493 - val_acc: 0.6336\n",
      "Epoch 82/100\n",
      "8982/8982 [==============================] - 0s 32us/step - loss: 0.7216 - acc: 0.8079 - val_loss: 1.6500 - val_acc: 0.6402\n",
      "Epoch 83/100\n",
      "8982/8982 [==============================] - 0s 32us/step - loss: 0.7159 - acc: 0.8113 - val_loss: 1.6374 - val_acc: 0.6385\n",
      "Epoch 84/100\n",
      "8982/8982 [==============================] - 0s 31us/step - loss: 0.7040 - acc: 0.8153 - val_loss: 1.6643 - val_acc: 0.6371\n",
      "Epoch 85/100\n",
      "8982/8982 [==============================] - 0s 31us/step - loss: 0.7005 - acc: 0.8143 - val_loss: 1.6632 - val_acc: 0.6322\n",
      "Epoch 86/100\n",
      "8982/8982 [==============================] - 0s 31us/step - loss: 0.6904 - acc: 0.8189 - val_loss: 1.6778 - val_acc: 0.6305\n",
      "Epoch 87/100\n",
      "8982/8982 [==============================] - 0s 32us/step - loss: 0.6988 - acc: 0.8165 - val_loss: 1.6854 - val_acc: 0.6367\n",
      "Epoch 88/100\n",
      "8982/8982 [==============================] - 0s 31us/step - loss: 0.6768 - acc: 0.8229 - val_loss: 1.6854 - val_acc: 0.6389\n",
      "Epoch 89/100\n",
      "8982/8982 [==============================] - 0s 32us/step - loss: 0.6715 - acc: 0.8228 - val_loss: 1.7258 - val_acc: 0.6247\n",
      "Epoch 90/100\n",
      "8982/8982 [==============================] - 0s 32us/step - loss: 0.6690 - acc: 0.8221 - val_loss: 1.7108 - val_acc: 0.6394\n",
      "Epoch 91/100\n",
      "8982/8982 [==============================] - 0s 31us/step - loss: 0.6891 - acc: 0.8220 - val_loss: 1.7162 - val_acc: 0.6318\n",
      "Epoch 92/100\n",
      "8982/8982 [==============================] - 0s 31us/step - loss: 0.6470 - acc: 0.8277 - val_loss: 1.7203 - val_acc: 0.6362\n",
      "Epoch 93/100\n",
      "8982/8982 [==============================] - 0s 31us/step - loss: 0.6528 - acc: 0.8280 - val_loss: 1.7204 - val_acc: 0.6367\n",
      "Epoch 94/100\n",
      "8982/8982 [==============================] - 0s 31us/step - loss: 0.6582 - acc: 0.8302 - val_loss: 1.7355 - val_acc: 0.6340\n",
      "Epoch 95/100\n",
      "8982/8982 [==============================] - 0s 31us/step - loss: 0.6265 - acc: 0.8331 - val_loss: 1.7509 - val_acc: 0.6309\n",
      "Epoch 96/100\n",
      "8982/8982 [==============================] - 0s 32us/step - loss: 0.6188 - acc: 0.8342 - val_loss: 1.7663 - val_acc: 0.6264\n",
      "Epoch 97/100\n",
      "8982/8982 [==============================] - 0s 31us/step - loss: 0.6127 - acc: 0.8382 - val_loss: 1.7623 - val_acc: 0.6287\n",
      "Epoch 98/100\n",
      "8982/8982 [==============================] - 0s 31us/step - loss: 0.6050 - acc: 0.8403 - val_loss: 1.7746 - val_acc: 0.6313\n",
      "Epoch 99/100\n",
      "8982/8982 [==============================] - 0s 31us/step - loss: 0.5985 - acc: 0.8407 - val_loss: 1.7965 - val_acc: 0.6349\n",
      "Epoch 100/100\n",
      "8982/8982 [==============================] - 0s 31us/step - loss: 0.6051 - acc: 0.8379 - val_loss: 1.8042 - val_acc: 0.6345\n"
     ]
    }
   ],
   "source": [
    "history = network.fit( train_x, train_y, epochs = 100, batch_size = 100, validation_data = ( test_x, test_y ) )"
   ]
  },
  {
   "cell_type": "code",
   "execution_count": 8,
   "metadata": {},
   "outputs": [
    {
     "name": "stdout",
     "output_type": "stream",
     "text": [
      "3.0.3\n"
     ]
    }
   ],
   "source": [
    "import matplotlib\n",
    "import matplotlib.pyplot as plt\n",
    "\n",
    "print( matplotlib.__version__ )"
   ]
  },
  {
   "cell_type": "code",
   "execution_count": 9,
   "metadata": {},
   "outputs": [
    {
     "data": {
      "text/plain": [
       "<matplotlib.legend.Legend at 0x1f97923f2b0>"
      ]
     },
     "execution_count": 9,
     "metadata": {},
     "output_type": "execute_result"
    },
    {
     "data": {
      "image/png": "[encoded data removed]",
      "text/plain": [
       "<Figure size 432x288 with 1 Axes>"
      ]
     },
     "metadata": {
      "needs_background": "light"
     },
     "output_type": "display_data"
    }
   ],
   "source": [
    "epochs = range( 1, len( history.history[ 'val_acc' ] ) + 1 )\n",
    "\n",
    "plt.plot( epochs, history.history[ 'val_acc' ], label = \"Test Set\" )\n",
    "\n",
    "plt.plot( epochs, history.history[ 'acc' ], label = \"Training Set\" )\n",
    "\n",
    "plt.xlabel( \"Epochs (-)\" )\n",
    "\n",
    "plt.ylabel( \"Accuracy (%)\" )\n",
    "\n",
    "plt.legend()"
   ]
  },
  {
   "cell_type": "markdown",
   "metadata": {},
   "source": [
    "We see a maximum in accuracy on the test set after around $40$ epochs, yet this performance is worse than the performance we achieved in [lesson 0033](https://github.com/Mathhead/Lessons-in-Machine-Learning/blob/master/lesson_0033_reuters_classification_neural_network.ipynb).<br>\n",
    "Class dismissed."
   ]
  }
 ],
 "metadata": {
  "kernelspec": {
   "display_name": "Python 3",
   "language": "python",
   "name": "python3"
  },
  "language_info": {
   "codemirror_mode": {
    "name": "ipython",
    "version": 3
   },
   "file_extension": ".py",
   "mimetype": "text/x-python",
   "name": "python",
   "nbconvert_exporter": "python",
   "pygments_lexer": "ipython3",
   "version": "3.7.3"
  }
 },
 "nbformat": 4,
 "nbformat_minor": 2
}
