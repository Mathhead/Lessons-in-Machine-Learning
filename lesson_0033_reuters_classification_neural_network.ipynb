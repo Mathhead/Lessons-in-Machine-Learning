{
 "cells": [
  {
   "cell_type": "markdown",
   "metadata": {},
   "source": [
    "# Lesson 0033 - Reuters Classification Neural Network\n",
    "After having introduced keras in the [last lesson](https://github.com/Mathhead/Lessons-in-Machine-Learning/blob/master/lesson_0032_mnist_classification_neural_network_keras.ipynb) and introduced the basics of language processing in the [lesson before](https://github.com/Mathhead/Lessons-in-Machine-Learning/blob/master/lesson_0031_introduction_to_natural_language_processing.ipynb), we now attempt to classify the [Reuters data set](https://keras.io/datasets/).<br>\n",
    "We start by stealing code from [lesson 0032](https://github.com/Mathhead/Lessons-in-Machine-Learning/blob/master/lesson_0032_mnist_classification_neural_network_keras.ipynb) and loading and exploring the Reuters data set."
   ]
  },
  {
   "cell_type": "code",
   "execution_count": 1,
   "metadata": {},
   "outputs": [
    {
     "name": "stdout",
     "output_type": "stream",
     "text": [
      "1.13.1\n"
     ]
    }
   ],
   "source": [
    "import tensorflow as tf\n",
    "\n",
    "tf.set_random_seed( 1234567890 )\n",
    "\n",
    "print( tf.__version__ )"
   ]
  },
  {
   "cell_type": "markdown",
   "metadata": {},
   "source": [
    "By manipulating [num_words](https://www.tensorflow.org/api_docs/python/tf/keras/datasets/reuters/load_data) to $10000$, we restrict the data set to contain only the $10000$ most frequent words."
   ]
  },
  {
   "cell_type": "code",
   "execution_count": 2,
   "metadata": {},
   "outputs": [],
   "source": [
    "( train_x, train_y ),( test_x, test_y ) = tf.keras.datasets.reuters.load_data( num_words = 10000 )"
   ]
  },
  {
   "cell_type": "markdown",
   "metadata": {},
   "source": [
    "Let us explore the data:"
   ]
  },
  {
   "cell_type": "code",
   "execution_count": 3,
   "metadata": {},
   "outputs": [
    {
     "data": {
      "text/plain": [
       "[1,\n",
       " 2,\n",
       " 2,\n",
       " 8,\n",
       " 43,\n",
       " 10,\n",
       " 447,\n",
       " 5,\n",
       " 25,\n",
       " 207,\n",
       " 270,\n",
       " 5,\n",
       " 3095,\n",
       " 111,\n",
       " 16,\n",
       " 369,\n",
       " 186,\n",
       " 90,\n",
       " 67,\n",
       " 7,\n",
       " 89,\n",
       " 5,\n",
       " 19,\n",
       " 102,\n",
       " 6,\n",
       " 19,\n",
       " 124,\n",
       " 15,\n",
       " 90,\n",
       " 67,\n",
       " 84,\n",
       " 22,\n",
       " 482,\n",
       " 26,\n",
       " 7,\n",
       " 48,\n",
       " 4,\n",
       " 49,\n",
       " 8,\n",
       " 864,\n",
       " 39,\n",
       " 209,\n",
       " 154,\n",
       " 6,\n",
       " 151,\n",
       " 6,\n",
       " 83,\n",
       " 11,\n",
       " 15,\n",
       " 22,\n",
       " 155,\n",
       " 11,\n",
       " 15,\n",
       " 7,\n",
       " 48,\n",
       " 9,\n",
       " 4579,\n",
       " 1005,\n",
       " 504,\n",
       " 6,\n",
       " 258,\n",
       " 6,\n",
       " 272,\n",
       " 11,\n",
       " 15,\n",
       " 22,\n",
       " 134,\n",
       " 44,\n",
       " 11,\n",
       " 15,\n",
       " 16,\n",
       " 8,\n",
       " 197,\n",
       " 1245,\n",
       " 90,\n",
       " 67,\n",
       " 52,\n",
       " 29,\n",
       " 209,\n",
       " 30,\n",
       " 32,\n",
       " 132,\n",
       " 6,\n",
       " 109,\n",
       " 15,\n",
       " 17,\n",
       " 12]"
      ]
     },
     "execution_count": 3,
     "metadata": {},
     "output_type": "execute_result"
    }
   ],
   "source": [
    "train_x[ 0 ]"
   ]
  },
  {
   "cell_type": "code",
   "execution_count": 4,
   "metadata": {},
   "outputs": [
    {
     "data": {
      "text/plain": [
       "3"
      ]
     },
     "execution_count": 4,
     "metadata": {},
     "output_type": "execute_result"
    }
   ],
   "source": [
    "train_y[ 0 ]"
   ]
  },
  {
   "cell_type": "markdown",
   "metadata": {},
   "source": [
    "Seems like the newswires are encoded into integers, where each integer represents a word. Let's use [get_word_index](https://www.tensorflow.org/api_docs/python/tf/keras/datasets/reuters/get_word_index) to translate these arrays into text:"
   ]
  },
  {
   "cell_type": "code",
   "execution_count": 5,
   "metadata": {},
   "outputs": [],
   "source": [
    "word_index = tf.keras.datasets.reuters.get_word_index()\n",
    "\n",
    "reverse_word_index = dict( [ ( value, key ) for ( key, value ) in word_index.items() ] )"
   ]
  },
  {
   "cell_type": "markdown",
   "metadata": {},
   "source": [
    "Before we map the first item in the training data set back to words, we have to consider, that the integers $0$, $1$ and $2$ are reserved words."
   ]
  },
  {
   "cell_type": "code",
   "execution_count": 6,
   "metadata": {},
   "outputs": [
    {
     "name": "stdout",
     "output_type": "stream",
     "text": [
      "? ? ? said as a result of its december acquisition of space co it expects earnings per share in 1987 of 1 15 to 1 30 dlrs per share up from 70 cts in 1986 the company said pretax net should rise to nine to 10 mln dlrs from six mln dlrs in 1986 and rental operation revenues to 19 to 22 mln dlrs from 12 5 mln dlrs it said cash flow per share this year should be 2 50 to three dlrs reuter 3 \n"
     ]
    }
   ],
   "source": [
    "first_text = \"\"\n",
    "\n",
    "for i in train_x[ 0 ]:\n",
    "    \n",
    "    first_text = first_text + reverse_word_index.get( i - 3, '?' ) + \" \"\n",
    "    \n",
    "print( first_text )"
   ]
  },
  {
   "cell_type": "markdown",
   "metadata": {},
   "source": [
    "Next, we one hot encode the data. Thereby we will implicitly drop the frequency of words in documents, and also the sequence in which words will appear."
   ]
  },
  {
   "cell_type": "code",
   "execution_count": 7,
   "metadata": {},
   "outputs": [
    {
     "name": "stdout",
     "output_type": "stream",
     "text": [
      "1.16.2\n"
     ]
    }
   ],
   "source": [
    "import numpy as np\n",
    "\n",
    "np.random.seed( 1234567890 )\n",
    "\n",
    "print( np.__version__ )"
   ]
  },
  {
   "cell_type": "markdown",
   "metadata": {},
   "source": [
    "But before we can encode the label data, we first must find out, how many unique labels there are:"
   ]
  },
  {
   "cell_type": "code",
   "execution_count": 8,
   "metadata": {},
   "outputs": [
    {
     "data": {
      "text/plain": [
       "46"
      ]
     },
     "execution_count": 8,
     "metadata": {},
     "output_type": "execute_result"
    }
   ],
   "source": [
    "len( np.unique( train_y ) )"
   ]
  },
  {
   "cell_type": "code",
   "execution_count": 9,
   "metadata": {},
   "outputs": [],
   "source": [
    "train_x_encoded = np.zeros( shape = [ len( train_y ), 10000 ], dtype = np.int32 )\n",
    "\n",
    "test_x_encoded = np.zeros( shape = [ len( test_y ), 10000 ], dtype = np.int32 )\n",
    "\n",
    "train_y_encoded = np.zeros( shape = [ len( train_y ), 46 ], dtype = np.int32 )\n",
    "\n",
    "test_y_encoded = np.zeros( shape = [ len( test_y ), 46 ], dtype = np.int32 )\n",
    "\n",
    "\n",
    "\n",
    "\n",
    "\n",
    "for i in range( len( train_x ) ):\n",
    "    \n",
    "    for j in range( len( train_x[ i ] ) ):\n",
    "        \n",
    "        train_x_encoded[ i, train_x[ i ][ j ] ] = 1\n",
    "        \n",
    "        \n",
    "        \n",
    "for i in range( len( test_x ) ):\n",
    "    \n",
    "    for j in range( len( test_x[ i ] ) ):\n",
    "        \n",
    "        test_x_encoded[ i, test_x[ i ][ j ] ] = 1\n",
    "        \n",
    "        \n",
    "        \n",
    "for i in range( len( train_x ) ):\n",
    "    \n",
    "    train_y_encoded[ i, train_y[ i ] ] = 1\n",
    "        \n",
    "        \n",
    "        \n",
    "for i in range( len( test_x ) ):\n",
    "    \n",
    "    test_y_encoded[ i, test_y[ i ] ] = 1\n",
    "    \n",
    "    \n",
    "    \n",
    "    \n",
    "train_x = train_x_encoded\n",
    "\n",
    "train_y = train_y_encoded\n",
    "\n",
    "test_x = test_x_encoded\n",
    "\n",
    "test_y = test_y_encoded"
   ]
  },
  {
   "cell_type": "markdown",
   "metadata": {},
   "source": [
    "Now, we can actually build the model. We will use two consecutive dense layers of $10000$ nodes each, leaky relu as activation and softmax for the output layer. We steal code from [lesson 0032](https://github.com/Mathhead/Lessons-in-Machine-Learning/blob/master/lesson_0032_mnist_classification_neural_network_keras.ipynb)."
   ]
  },
  {
   "cell_type": "code",
   "execution_count": 10,
   "metadata": {},
   "outputs": [
    {
     "name": "stdout",
     "output_type": "stream",
     "text": [
      "2.2.4\n"
     ]
    },
    {
     "name": "stderr",
     "output_type": "stream",
     "text": [
      "Using TensorFlow backend.\n"
     ]
    }
   ],
   "source": [
    "import keras\n",
    "from keras import models\n",
    "from keras import layers\n",
    "\n",
    "print( keras.__version__ )"
   ]
  },
  {
   "cell_type": "code",
   "execution_count": 11,
   "metadata": {},
   "outputs": [
    {
     "name": "stdout",
     "output_type": "stream",
     "text": [
      "WARNING:tensorflow:From C:\\Users\\rhopi\\Anaconda3\\lib\\site-packages\\tensorflow\\python\\framework\\op_def_library.py:263: colocate_with (from tensorflow.python.framework.ops) is deprecated and will be removed in a future version.\n",
      "Instructions for updating:\n",
      "Colocations handled automatically by placer.\n"
     ]
    },
    {
     "name": "stderr",
     "output_type": "stream",
     "text": [
      "C:\\Users\\rhopi\\Anaconda3\\lib\\site-packages\\keras\\activations.py:211: UserWarning: Do not pass a layer instance (such as LeakyReLU) as the activation argument of another layer. Instead, advanced activation layers should be used just like any other layer in a model.\n",
      "  identifier=identifier.__class__.__name__))\n"
     ]
    }
   ],
   "source": [
    "network = models.Sequential()\n",
    "\n",
    "network.add( layers.Dense( 10000, activation = layers.LeakyReLU( alpha = 0.3 ), \n",
    "                          input_shape = ( 10000, ) ) )\n",
    "\n",
    "network.add( layers.Dense( 10000, activation = layers.LeakyReLU( alpha = 0.3 ), \n",
    "                          input_shape = ( 10000, ) ) )\n",
    "\n",
    "network.add( layers.Dense( 46, activation = \"softmax\" ) )\n",
    "\n",
    "network.compile( optimizer = keras.optimizers.SGD( lr = 0.1, momentum = 0.0, decay = 0.0, nesterov = False ),\n",
    "               loss = \"categorical_crossentropy\", metrics = [ \"accuracy\" ] )"
   ]
  },
  {
   "cell_type": "markdown",
   "metadata": {},
   "source": [
    "Since we want to look at the gain in performance during training, we use the __history__ object from [fit](https://keras.io/models/model/).<br>\n",
    "We train for $40$ epochs."
   ]
  },
  {
   "cell_type": "code",
   "execution_count": 12,
   "metadata": {},
   "outputs": [
    {
     "name": "stdout",
     "output_type": "stream",
     "text": [
      "WARNING:tensorflow:From C:\\Users\\rhopi\\Anaconda3\\lib\\site-packages\\tensorflow\\python\\ops\\math_ops.py:3066: to_int32 (from tensorflow.python.ops.math_ops) is deprecated and will be removed in a future version.\n",
      "Instructions for updating:\n",
      "Use tf.cast instead.\n",
      "Train on 8982 samples, validate on 2246 samples\n",
      "Epoch 1/40\n",
      "8982/8982 [==============================] - 11s 1ms/step - loss: 1.7159 - acc: 0.6035 - val_loss: 1.3965 - val_acc: 0.6950\n",
      "Epoch 2/40\n",
      "8982/8982 [==============================] - 6s 636us/step - loss: 1.1487 - acc: 0.7419 - val_loss: 1.1705 - val_acc: 0.7391\n",
      "Epoch 3/40\n",
      "8982/8982 [==============================] - 6s 639us/step - loss: 0.9114 - acc: 0.7948 - val_loss: 1.0647 - val_acc: 0.7511\n",
      "Epoch 4/40\n",
      "8982/8982 [==============================] - 6s 639us/step - loss: 0.7594 - acc: 0.8255 - val_loss: 0.9989 - val_acc: 0.7676\n",
      "Epoch 5/40\n",
      "8982/8982 [==============================] - 6s 640us/step - loss: 0.6287 - acc: 0.8572 - val_loss: 0.9968 - val_acc: 0.7769\n",
      "Epoch 6/40\n",
      "8982/8982 [==============================] - 6s 642us/step - loss: 0.5055 - acc: 0.8884 - val_loss: 0.9068 - val_acc: 0.7827\n",
      "Epoch 7/40\n",
      "8982/8982 [==============================] - 6s 642us/step - loss: 0.4479 - acc: 0.8996 - val_loss: 1.0471 - val_acc: 0.7587\n",
      "Epoch 8/40\n",
      "8982/8982 [==============================] - 6s 643us/step - loss: 0.3623 - acc: 0.9175 - val_loss: 0.9314 - val_acc: 0.7872\n",
      "Epoch 9/40\n",
      "8982/8982 [==============================] - 6s 644us/step - loss: 0.3096 - acc: 0.9294 - val_loss: 0.9045 - val_acc: 0.7965\n",
      "Epoch 10/40\n",
      "8982/8982 [==============================] - 6s 644us/step - loss: 0.2872 - acc: 0.9300 - val_loss: 0.9053 - val_acc: 0.8045\n",
      "Epoch 11/40\n",
      "8982/8982 [==============================] - 6s 645us/step - loss: 0.2480 - acc: 0.9404 - val_loss: 0.9386 - val_acc: 0.8001\n",
      "Epoch 12/40\n",
      "8982/8982 [==============================] - 6s 644us/step - loss: 0.2242 - acc: 0.9440 - val_loss: 1.2374 - val_acc: 0.7119\n",
      "Epoch 13/40\n",
      "8982/8982 [==============================] - 6s 645us/step - loss: 0.2351 - acc: 0.9403 - val_loss: 0.9876 - val_acc: 0.78232s - loss: 0.2408 - acc: 0.939 - ETA: 1s - l - ETA: 0s - loss: 0.2322 - acc:\n",
      "Epoch 14/40\n",
      "8982/8982 [==============================] - 6s 646us/step - loss: 0.1914 - acc: 0.9496 - val_loss: 0.9360 - val_acc: 0.8014\n",
      "Epoch 15/40\n",
      "8982/8982 [==============================] - 6s 645us/step - loss: 0.1764 - acc: 0.9505 - val_loss: 0.9588 - val_acc: 0.8014\n",
      "Epoch 16/40\n",
      "8982/8982 [==============================] - 6s 645us/step - loss: 0.1712 - acc: 0.9506 - val_loss: 0.9950 - val_acc: 0.7916\n",
      "Epoch 17/40\n",
      "8982/8982 [==============================] - 6s 645us/step - loss: 0.1678 - acc: 0.9526 - val_loss: 1.0303 - val_acc: 0.7858\n",
      "Epoch 18/40\n",
      "8982/8982 [==============================] - 6s 645us/step - loss: 0.1532 - acc: 0.9538 - val_loss: 1.0028 - val_acc: 0.7907\n",
      "Epoch 19/40\n",
      "8982/8982 [==============================] - 6s 645us/step - loss: 0.1531 - acc: 0.9534 - val_loss: 1.1072 - val_acc: 0.7738\n",
      "Epoch 20/40\n",
      "8982/8982 [==============================] - 6s 645us/step - loss: 0.1439 - acc: 0.9538 - val_loss: 1.0309 - val_acc: 0.7930\n",
      "Epoch 21/40\n",
      "8982/8982 [==============================] - 6s 646us/step - loss: 0.1466 - acc: 0.9530 - val_loss: 1.0774 - val_acc: 0.7854 \n",
      "Epoch 22/40\n",
      "8982/8982 [==============================] - 6s 648us/step - loss: 0.1369 - acc: 0.9535 - val_loss: 1.0105 - val_acc: 0.7965\n",
      "Epoch 23/40\n",
      "8982/8982 [==============================] - 6s 650us/step - loss: 0.1378 - acc: 0.9542 - val_loss: 1.0939 - val_acc: 0.7787\n",
      "Epoch 24/40\n",
      "8982/8982 [==============================] - 6s 649us/step - loss: 0.1333 - acc: 0.9545 - val_loss: 1.0766 - val_acc: 0.7801\n",
      "Epoch 25/40\n",
      "8982/8982 [==============================] - 6s 647us/step - loss: 0.1299 - acc: 0.9576 - val_loss: 1.0367 - val_acc: 0.7925\n",
      "Epoch 26/40\n",
      "8982/8982 [==============================] - 6s 647us/step - loss: 0.1238 - acc: 0.9575 - val_loss: 1.0364 - val_acc: 0.7916\n",
      "Epoch 27/40\n",
      "8982/8982 [==============================] - 6s 649us/step - loss: 0.1253 - acc: 0.9554 - val_loss: 1.1005 - val_acc: 0.7863\n",
      "Epoch 28/40\n",
      "8982/8982 [==============================] - 6s 648us/step - loss: 0.1204 - acc: 0.9574 - val_loss: 1.0318 - val_acc: 0.7925\n",
      "Epoch 29/40\n",
      "8982/8982 [==============================] - 6s 648us/step - loss: 0.1203 - acc: 0.9555 - val_loss: 1.0247 - val_acc: 0.8001\n",
      "Epoch 30/40\n",
      "8982/8982 [==============================] - 6s 649us/step - loss: 0.1198 - acc: 0.9556 - val_loss: 1.0949 - val_acc: 0.7858\n",
      "Epoch 31/40\n",
      "8982/8982 [==============================] - 6s 648us/step - loss: 0.1174 - acc: 0.9541 - val_loss: 1.0213 - val_acc: 0.8023acc: 0.\n",
      "Epoch 32/40\n",
      "8982/8982 [==============================] - 6s 649us/step - loss: 0.1151 - acc: 0.9566 - val_loss: 1.0537 - val_acc: 0.7943: 0s - loss: 0.1153 - acc: 0.956\n",
      "Epoch 33/40\n",
      "8982/8982 [==============================] - 6s 650us/step - loss: 0.1128 - acc: 0.9556 - val_loss: 1.0393 - val_acc: 0.7970\n",
      "Epoch 34/40\n",
      "8982/8982 [==============================] - 6s 650us/step - loss: 0.1121 - acc: 0.9568 - val_loss: 1.0567 - val_acc: 0.7872\n",
      "Epoch 35/40\n",
      "8982/8982 [==============================] - 6s 649us/step - loss: 0.1147 - acc: 0.9567 - val_loss: 1.0976 - val_acc: 0.78761s\n",
      "Epoch 36/40\n",
      "8982/8982 [==============================] - 6s 649us/step - loss: 0.1119 - acc: 0.9537 - val_loss: 1.0771 - val_acc: 0.7867\n",
      "Epoch 37/40\n",
      "8982/8982 [==============================] - 6s 650us/step - loss: 0.1088 - acc: 0.9562 - val_loss: 1.0278 - val_acc: 0.8019cc: 0\n",
      "Epoch 38/40\n",
      "8982/8982 [==============================] - 6s 649us/step - loss: 0.1075 - acc: 0.9539 - val_loss: 1.0622 - val_acc: 0.7961\n",
      "Epoch 39/40\n",
      "8982/8982 [==============================] - 6s 649us/step - loss: 0.1082 - acc: 0.9574 - val_loss: 1.1242 - val_acc: 0.7841\n",
      "Epoch 40/40\n",
      "8982/8982 [==============================] - 6s 650us/step - loss: 0.1067 - acc: 0.9546 - val_loss: 1.0496 - val_acc: 0.8005\n"
     ]
    }
   ],
   "source": [
    "history = network.fit( train_x, train_y, epochs = 40, batch_size = 100, validation_data = ( test_x, test_y ) )"
   ]
  },
  {
   "cell_type": "code",
   "execution_count": 13,
   "metadata": {},
   "outputs": [
    {
     "name": "stdout",
     "output_type": "stream",
     "text": [
      "3.0.3\n"
     ]
    }
   ],
   "source": [
    "import matplotlib\n",
    "import matplotlib.pyplot as plt\n",
    "\n",
    "print( matplotlib.__version__ )"
   ]
  },
  {
   "cell_type": "code",
   "execution_count": 14,
   "metadata": {},
   "outputs": [
    {
     "data": {
      "text/plain": [
       "<matplotlib.legend.Legend at 0x204be6ac4e0>"
      ]
     },
     "execution_count": 14,
     "metadata": {},
     "output_type": "execute_result"
    },
    {
     "data": {
      "image/png": "[encoded data removed]",
      "text/plain": [
       "<Figure size 432x288 with 1 Axes>"
      ]
     },
     "metadata": {
      "needs_background": "light"
     },
     "output_type": "display_data"
    }
   ],
   "source": [
    "epochs = range( 1, len( history.history[ 'val_acc' ] ) + 1 )\n",
    "\n",
    "plt.plot( epochs, history.history[ 'val_acc' ], label = \"Test Set\" )\n",
    "\n",
    "plt.plot( epochs, history.history[ 'acc' ], label = \"Training Set\" )\n",
    "\n",
    "plt.xlabel( \"Epochs (-)\" )\n",
    "\n",
    "plt.ylabel( \"Accuracy (%)\" )\n",
    "\n",
    "plt.legend()"
   ]
  },
  {
   "cell_type": "markdown",
   "metadata": {},
   "source": [
    "We achieve an accuracy of $80\\%$ on the test set, which is not too great but not bad either.<br>\n",
    "Consider, that we only considered the occurence of words, but not how they are connected. For example: the sentences \"Toyota buys BMW\" has the same encoding as \"BMW buys Toyota\". With that in mind, the accuracy is actually quite good.<br>\n",
    "Class dismissed."
   ]
  }
 ],
 "metadata": {
  "kernelspec": {
   "display_name": "Python 3",
   "language": "python",
   "name": "python3"
  },
  "language_info": {
   "codemirror_mode": {
    "name": "ipython",
    "version": 3
   },
   "file_extension": ".py",
   "mimetype": "text/x-python",
   "name": "python",
   "nbconvert_exporter": "python",
   "pygments_lexer": "ipython3",
   "version": "3.7.3"
  }
 },
 "nbformat": 4,
 "nbformat_minor": 2
}
