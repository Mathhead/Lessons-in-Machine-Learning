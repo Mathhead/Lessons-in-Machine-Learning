{
 "cells": [
  {
   "cell_type": "markdown",
   "metadata": {},
   "source": [
    "# Lesson 0004 - random forests\n",
    "In this lesson, we will, again, revisit the iris data set and apply [random forests](https://en.wikipedia.org/wiki/Random_forest) to the task of classification.<br>\n",
    "As in [lesson 0002](https://github.com/Mathhead/Lessons-in-Machine-Learning/blob/master/lesson_0002_support_vector_machines_classification.ipynb), we assume, that the reader has worked through the previous examples."
   ]
  },
  {
   "cell_type": "code",
   "execution_count": 1,
   "metadata": {},
   "outputs": [
    {
     "name": "stdout",
     "output_type": "stream",
     "text": [
      "0.19.1\n"
     ]
    }
   ],
   "source": [
    "import sklearn as sklearn\n",
    "from sklearn import datasets\n",
    "\n",
    "data = datasets.load_iris()\n",
    "\n",
    "print( sklearn.__version__ )"
   ]
  },
  {
   "cell_type": "code",
   "execution_count": 2,
   "metadata": {},
   "outputs": [],
   "source": [
    "data_x = data.data\n",
    "\n",
    "data_y = data.target"
   ]
  },
  {
   "cell_type": "code",
   "execution_count": 3,
   "metadata": {},
   "outputs": [
    {
     "name": "stdout",
     "output_type": "stream",
     "text": [
      "1.14.3\n"
     ]
    }
   ],
   "source": [
    "import numpy as np\n",
    "\n",
    "print( np.__version__ )"
   ]
  },
  {
   "cell_type": "code",
   "execution_count": 4,
   "metadata": {},
   "outputs": [],
   "source": [
    "np.random.seed( 1234567890 )"
   ]
  },
  {
   "cell_type": "code",
   "execution_count": 5,
   "metadata": {},
   "outputs": [],
   "source": [
    "random_integers = np.random.choice( range( 150 ), 100, replace = False )\n",
    "\n",
    "random_integers = np.sort( random_integers )\n",
    "\n",
    "\n",
    "\n",
    "train_x = np.zeros( shape = [ 100, 4 ] )\n",
    "\n",
    "train_y = np.zeros( shape = [ 100 ] )\n",
    "\n",
    "test_x = np.zeros( shape = [ 50, 4 ] )\n",
    "\n",
    "test_y = np.zeros( shape = [ 50 ] )\n",
    "\n",
    "\n",
    "\n",
    "j = 0\n",
    "\n",
    "k = 0\n",
    "\n",
    "\n",
    "for i in range( 150 ):\n",
    "    \n",
    "    if i == random_integers[ j ]:\n",
    "        \n",
    "        train_x[ j, : ] = data_x[ i, : ]\n",
    "        \n",
    "        train_y[ j ] = data_y[ i ]\n",
    "        \n",
    "        j = j + 1\n",
    "        \n",
    "        if j == 100:\n",
    "            \n",
    "            j = 0\n",
    "            \n",
    "    else:\n",
    "        \n",
    "        test_x[ k, : ] = data_x[ i, : ]\n",
    "        \n",
    "        test_y[ k ] = data_y[ i ]\n",
    "        \n",
    "        k = k + 1\n",
    "        \n",
    "        \n",
    "        \n",
    "        \n",
    "\n",
    "\n",
    "mu = np.zeros( shape = [ 4 ] )\n",
    "\n",
    "sigma = np.zeros( shape = [ 4 ] )\n",
    "\n",
    "\n",
    "\n",
    "for i in range( 4 ):\n",
    "    \n",
    "    mu[ i ] = np.mean( train_x[ :, i ] )\n",
    "    \n",
    "    sigma[ i ] = np.std( train_x[ :, i ] )\n",
    "    \n",
    "    \n",
    "for i in range( 4 ):\n",
    "    \n",
    "    train_x[ :, i ] = ( train_x[ :, i ] - mu[ i ] ) / sigma[ i ]\n",
    "    \n",
    "    test_x[ :, i ] = ( test_x[ :, i ] - mu[ i ] ) / sigma[ i ]"
   ]
  },
  {
   "cell_type": "markdown",
   "metadata": {},
   "source": [
    "Now we import the [random forest classifier](https://scikit-learn.org/stable/modules/generated/sklearn.ensemble.RandomForestClassifier.html#sklearn.ensemble.RandomForestClassifier) from sklearn."
   ]
  },
  {
   "cell_type": "code",
   "execution_count": 6,
   "metadata": {},
   "outputs": [],
   "source": [
    "from sklearn.ensemble import RandomForestClassifier as RFC"
   ]
  },
  {
   "cell_type": "markdown",
   "metadata": {},
   "source": [
    "We will use __RFC__ right out of the box to fit a model __forest__. We will make predictions using __forest__ and store the results in __hit__ which we will use to compute the __accuracy__."
   ]
  },
  {
   "cell_type": "code",
   "execution_count": 7,
   "metadata": {},
   "outputs": [
    {
     "name": "stdout",
     "output_type": "stream",
     "text": [
      "We reached an accurady of 96.0%\n"
     ]
    }
   ],
   "source": [
    "forest = RFC()\n",
    "\n",
    "forest.fit( train_x, train_y )\n",
    "\n",
    "hit = ( forest.predict( test_x ) == test_y )\n",
    "\n",
    "accuracy = 0.0\n",
    "\n",
    "for i in range( 50 ):\n",
    "    \n",
    "    if hit[ i ]:\n",
    "        \n",
    "        accuracy = accuracy + 1.0\n",
    "        \n",
    "accuracy = accuracy * 2.0\n",
    "\n",
    "print( 'We reached an accurady of ' + str( accuracy ) + '%' )"
   ]
  },
  {
   "cell_type": "markdown",
   "metadata": {},
   "source": [
    "Since we reached an accuracy of $96\\%$, there is hardly any room for fine tuning since we only have $50$ data items, therefore<br>\n",
    "Class dismissed."
   ]
  }
 ],
 "metadata": {
  "kernelspec": {
   "display_name": "Python 3",
   "language": "python",
   "name": "python3"
  },
  "language_info": {
   "codemirror_mode": {
    "name": "ipython",
    "version": 3
   },
   "file_extension": ".py",
   "mimetype": "text/x-python",
   "name": "python",
   "nbconvert_exporter": "python",
   "pygments_lexer": "ipython3",
   "version": "3.6.5"
  }
 },
 "nbformat": 4,
 "nbformat_minor": 2
}
